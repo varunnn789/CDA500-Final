{
 "cells": [
  {
   "cell_type": "markdown",
   "metadata": {},
   "source": [
    "Import Statements"
   ]
  },
  {
   "cell_type": "code",
   "execution_count": 1,
   "metadata": {},
   "outputs": [],
   "source": [
    "%load_ext autoreload\n",
    "%autoreload 2\n",
    "\n",
    "import sys\n",
    "import os\n",
    "import pandas as pd\n",
    "import numpy as np\n",
    "from datetime import datetime\n",
    "from sklearn.metrics import mean_absolute_error\n",
    "from dotenv import load_dotenv\n",
    "load_dotenv()\n",
    "from IPython.core.interactiveshell import InteractiveShell\n",
    "InteractiveShell.ast_node_interactivity = \"all\"\n",
    "\n",
    "# Add the parent directory to the Python path\n",
    "sys.path.append(os.path.abspath(os.path.join(os.getcwd(), \"..\")))\n",
    "\n",
    "from src.config import TRANSFORMED_DATA_DIR\n",
    "from src.data_utils import split_time_series_data\n",
    "from src.experiment_utils import set_mlflow_tracking, log_model_to_mlflow\n",
    "from src.plot_utils import plot_aggregated_time_series"
   ]
  },
  {
   "cell_type": "markdown",
   "metadata": {},
   "source": [
    "Data Loading and Test Train split"
   ]
  },
  {
   "cell_type": "code",
   "execution_count": 2,
   "metadata": {},
   "outputs": [
    {
     "data": {
      "text/html": [
       "<div>\n",
       "<style scoped>\n",
       "    .dataframe tbody tr th:only-of-type {\n",
       "        vertical-align: middle;\n",
       "    }\n",
       "\n",
       "    .dataframe tbody tr th {\n",
       "        vertical-align: top;\n",
       "    }\n",
       "\n",
       "    .dataframe thead th {\n",
       "        text-align: right;\n",
       "    }\n",
       "</style>\n",
       "<table border=\"1\" class=\"dataframe\">\n",
       "  <thead>\n",
       "    <tr style=\"text-align: right;\">\n",
       "      <th></th>\n",
       "      <th>rides_t-672</th>\n",
       "      <th>rides_t-671</th>\n",
       "      <th>rides_t-670</th>\n",
       "      <th>rides_t-669</th>\n",
       "      <th>rides_t-668</th>\n",
       "      <th>rides_t-667</th>\n",
       "      <th>rides_t-666</th>\n",
       "      <th>rides_t-665</th>\n",
       "      <th>rides_t-664</th>\n",
       "      <th>rides_t-663</th>\n",
       "      <th>...</th>\n",
       "      <th>rides_t-7</th>\n",
       "      <th>rides_t-6</th>\n",
       "      <th>rides_t-5</th>\n",
       "      <th>rides_t-4</th>\n",
       "      <th>rides_t-3</th>\n",
       "      <th>rides_t-2</th>\n",
       "      <th>rides_t-1</th>\n",
       "      <th>pickup_hour</th>\n",
       "      <th>start_station_name</th>\n",
       "      <th>target</th>\n",
       "    </tr>\n",
       "  </thead>\n",
       "  <tbody>\n",
       "    <tr>\n",
       "      <th>0</th>\n",
       "      <td>4</td>\n",
       "      <td>9</td>\n",
       "      <td>3</td>\n",
       "      <td>0</td>\n",
       "      <td>2</td>\n",
       "      <td>0</td>\n",
       "      <td>0</td>\n",
       "      <td>0</td>\n",
       "      <td>1</td>\n",
       "      <td>2</td>\n",
       "      <td>...</td>\n",
       "      <td>4</td>\n",
       "      <td>6</td>\n",
       "      <td>8</td>\n",
       "      <td>10</td>\n",
       "      <td>7</td>\n",
       "      <td>2</td>\n",
       "      <td>0</td>\n",
       "      <td>2024-01-29 00:00:00</td>\n",
       "      <td>8 Ave &amp; W 31 St</td>\n",
       "      <td>4</td>\n",
       "    </tr>\n",
       "    <tr>\n",
       "      <th>1</th>\n",
       "      <td>9</td>\n",
       "      <td>3</td>\n",
       "      <td>0</td>\n",
       "      <td>2</td>\n",
       "      <td>0</td>\n",
       "      <td>0</td>\n",
       "      <td>0</td>\n",
       "      <td>1</td>\n",
       "      <td>2</td>\n",
       "      <td>3</td>\n",
       "      <td>...</td>\n",
       "      <td>6</td>\n",
       "      <td>8</td>\n",
       "      <td>10</td>\n",
       "      <td>7</td>\n",
       "      <td>2</td>\n",
       "      <td>0</td>\n",
       "      <td>4</td>\n",
       "      <td>2024-01-29 01:00:00</td>\n",
       "      <td>8 Ave &amp; W 31 St</td>\n",
       "      <td>0</td>\n",
       "    </tr>\n",
       "    <tr>\n",
       "      <th>2</th>\n",
       "      <td>3</td>\n",
       "      <td>0</td>\n",
       "      <td>2</td>\n",
       "      <td>0</td>\n",
       "      <td>0</td>\n",
       "      <td>0</td>\n",
       "      <td>1</td>\n",
       "      <td>2</td>\n",
       "      <td>3</td>\n",
       "      <td>3</td>\n",
       "      <td>...</td>\n",
       "      <td>8</td>\n",
       "      <td>10</td>\n",
       "      <td>7</td>\n",
       "      <td>2</td>\n",
       "      <td>0</td>\n",
       "      <td>4</td>\n",
       "      <td>0</td>\n",
       "      <td>2024-01-29 02:00:00</td>\n",
       "      <td>8 Ave &amp; W 31 St</td>\n",
       "      <td>1</td>\n",
       "    </tr>\n",
       "    <tr>\n",
       "      <th>3</th>\n",
       "      <td>0</td>\n",
       "      <td>2</td>\n",
       "      <td>0</td>\n",
       "      <td>0</td>\n",
       "      <td>0</td>\n",
       "      <td>1</td>\n",
       "      <td>2</td>\n",
       "      <td>3</td>\n",
       "      <td>3</td>\n",
       "      <td>8</td>\n",
       "      <td>...</td>\n",
       "      <td>10</td>\n",
       "      <td>7</td>\n",
       "      <td>2</td>\n",
       "      <td>0</td>\n",
       "      <td>4</td>\n",
       "      <td>0</td>\n",
       "      <td>1</td>\n",
       "      <td>2024-01-29 03:00:00</td>\n",
       "      <td>8 Ave &amp; W 31 St</td>\n",
       "      <td>1</td>\n",
       "    </tr>\n",
       "    <tr>\n",
       "      <th>4</th>\n",
       "      <td>2</td>\n",
       "      <td>0</td>\n",
       "      <td>0</td>\n",
       "      <td>0</td>\n",
       "      <td>1</td>\n",
       "      <td>2</td>\n",
       "      <td>3</td>\n",
       "      <td>3</td>\n",
       "      <td>8</td>\n",
       "      <td>5</td>\n",
       "      <td>...</td>\n",
       "      <td>7</td>\n",
       "      <td>2</td>\n",
       "      <td>0</td>\n",
       "      <td>4</td>\n",
       "      <td>0</td>\n",
       "      <td>1</td>\n",
       "      <td>1</td>\n",
       "      <td>2024-01-29 04:00:00</td>\n",
       "      <td>8 Ave &amp; W 31 St</td>\n",
       "      <td>1</td>\n",
       "    </tr>\n",
       "  </tbody>\n",
       "</table>\n",
       "<p>5 rows × 675 columns</p>\n",
       "</div>"
      ],
      "text/plain": [
       "   rides_t-672  rides_t-671  rides_t-670  rides_t-669  rides_t-668  \\\n",
       "0            4            9            3            0            2   \n",
       "1            9            3            0            2            0   \n",
       "2            3            0            2            0            0   \n",
       "3            0            2            0            0            0   \n",
       "4            2            0            0            0            1   \n",
       "\n",
       "   rides_t-667  rides_t-666  rides_t-665  rides_t-664  rides_t-663  ...  \\\n",
       "0            0            0            0            1            2  ...   \n",
       "1            0            0            1            2            3  ...   \n",
       "2            0            1            2            3            3  ...   \n",
       "3            1            2            3            3            8  ...   \n",
       "4            2            3            3            8            5  ...   \n",
       "\n",
       "   rides_t-7  rides_t-6  rides_t-5  rides_t-4  rides_t-3  rides_t-2  \\\n",
       "0          4          6          8         10          7          2   \n",
       "1          6          8         10          7          2          0   \n",
       "2          8         10          7          2          0          4   \n",
       "3         10          7          2          0          4          0   \n",
       "4          7          2          0          4          0          1   \n",
       "\n",
       "   rides_t-1         pickup_hour  start_station_name  target  \n",
       "0          0 2024-01-29 00:00:00     8 Ave & W 31 St       4  \n",
       "1          4 2024-01-29 01:00:00     8 Ave & W 31 St       0  \n",
       "2          0 2024-01-29 02:00:00     8 Ave & W 31 St       1  \n",
       "3          1 2024-01-29 03:00:00     8 Ave & W 31 St       1  \n",
       "4          1 2024-01-29 04:00:00     8 Ave & W 31 St       1  \n",
       "\n",
       "[5 rows x 675 columns]"
      ]
     },
     "execution_count": 2,
     "metadata": {},
     "output_type": "execute_result"
    },
    {
     "name": "stdout",
     "output_type": "stream",
     "text": [
      "(24336, 674)\n",
      "(24336,)\n",
      "(2232, 674)\n",
      "(2232,)\n"
     ]
    }
   ],
   "source": [
    "# Load the tabular data\n",
    "df = pd.read_parquet(TRANSFORMED_DATA_DIR / \"tabular_data.parquet\")\n",
    "df.head(5)\n",
    "\n",
    "# Split the data into training and testing sets\n",
    "# Training period: January 2024 to August 2024\n",
    "# Test period: September 2024 to January 2025\n",
    "X_train, y_train, X_test, y_test = split_time_series_data(\n",
    "    df,\n",
    "    cutoff_date=datetime(2025, 1, 1, 0, 0, 0),\n",
    "    target_column=\"target\"\n",
    ")\n",
    "\n",
    "print(X_train.shape)\n",
    "print(y_train.shape)\n",
    "print(X_test.shape)\n",
    "print(y_test.shape)"
   ]
  },
  {
   "cell_type": "markdown",
   "metadata": {},
   "source": [
    "Baseline Model using Previous Hour"
   ]
  },
  {
   "cell_type": "code",
   "execution_count": 3,
   "metadata": {},
   "outputs": [
    {
     "name": "stderr",
     "output_type": "stream",
     "text": [
      "INFO:src.experiment_utils:MLflow tracking URI and credentials set.\n"
     ]
    },
    {
     "name": "stdout",
     "output_type": "stream",
     "text": [
      "BaselineModelPreviousHour MAE: 4.1080\n"
     ]
    },
    {
     "name": "stderr",
     "output_type": "stream",
     "text": [
      "INFO:src.experiment_utils:Experiment set to: BaselineModelPreviousHour\n",
      "INFO:src.experiment_utils:Logged mean_absolute_error: 4.107974910394265\n",
      "c:\\Users\\singh\\Downloads\\CDS500_Applied_ML_DS\\Projects\\CDA500Final\\CDA500PF2\\Lib\\site-packages\\mlflow\\types\\utils.py:452: UserWarning: Hint: Inferred schema contains integer column(s). Integer columns in Python cannot represent missing values. If your input data contains missing values at inference time, it will be encoded as floats and will cause a schema enforcement error. The best way to avoid this problem is to infer the model schema based on a realistic data sample (training dataset) that includes missing values. Alternatively, you can declare integer columns as doubles (float64) whenever these columns may have missing values. See `Handling Integers With Missing Values <https://www.mlflow.org/docs/latest/models.html#handling-integers-with-missing-values>`_ for more details.\n",
      "  warnings.warn(\n",
      "INFO:src.experiment_utils:Model signature inferred.\n"
     ]
    },
    {
     "data": {
      "application/vnd.jupyter.widget-view+json": {
       "model_id": "15938bfba4364f82b5510655a6dd5cc0",
       "version_major": 2,
       "version_minor": 0
      },
      "text/plain": [
       "Downloading artifacts:   0%|          | 0/7 [00:00<?, ?it/s]"
      ]
     },
     "metadata": {},
     "output_type": "display_data"
    },
    {
     "name": "stderr",
     "output_type": "stream",
     "text": [
      "2025/05/01 00:10:35 INFO mlflow.models.model: Found the following environment variables used during model inference: [HOPSWORKS_API_KEY]. Please check if you need to set them when deploying the model. To disable this message, set environment variable `MLFLOW_RECORD_ENV_VARS_IN_MODEL_LOGGING` to `false`.\n",
      "Registered model 'BaselineModelPreviousHour' already exists. Creating a new version of this model...\n",
      "2025/05/01 00:10:51 INFO mlflow.store.model_registry.abstract_store: Waiting up to 300 seconds for model version to finish creation. Model name: BaselineModelPreviousHour, version 4\n",
      "Created version '4' of model 'BaselineModelPreviousHour'.\n",
      "INFO:src.experiment_utils:Model logged with name: BaselineModelPreviousHour\n"
     ]
    },
    {
     "name": "stdout",
     "output_type": "stream",
     "text": [
      "🏃 View run fearless-mare-683 at: https://dagshub.com/singhvarun0405/CDA500PF1.mlflow/#/experiments/0/runs/97b1935a03e04392925bf7b874eb8376\n",
      "🧪 View experiment at: https://dagshub.com/singhvarun0405/CDA500PF1.mlflow/#/experiments/0\n"
     ]
    },
    {
     "data": {
      "text/plain": [
       "<mlflow.models.model.ModelInfo at 0x1a0e00d5b20>"
      ]
     },
     "execution_count": 3,
     "metadata": {},
     "output_type": "execute_result"
    }
   ],
   "source": [
    "# Baseline Model: Previous Hour\n",
    "class BaselineModelPreviousHour:\n",
    "    def fit(self, X_train: pd.DataFrame, y_train: pd.Series):\n",
    "        pass\n",
    "\n",
    "    def predict(self, X_test: pd.DataFrame) -> np.array:\n",
    "        return X_test[\"rides_t-1\"]\n",
    "\n",
    "model = BaselineModelPreviousHour()\n",
    "predictions = model.predict(X_test)\n",
    "test_mae = mean_absolute_error(y_test, predictions)\n",
    "print(f\"BaselineModelPreviousHour MAE: {test_mae:.4f}\")\n",
    "mlflow = set_mlflow_tracking()\n",
    "log_model_to_mlflow(model, X_test, \"BaselineModelPreviousHour\", \"mean_absolute_error\", score=test_mae)"
   ]
  },
  {
   "cell_type": "markdown",
   "metadata": {},
   "source": [
    "Baseline Model using the past week (7 days * 24 hours)"
   ]
  },
  {
   "cell_type": "code",
   "execution_count": 4,
   "metadata": {},
   "outputs": [
    {
     "name": "stderr",
     "output_type": "stream",
     "text": [
      "INFO:src.experiment_utils:Experiment set to: BaselineModelPreviousWeek\n"
     ]
    },
    {
     "name": "stdout",
     "output_type": "stream",
     "text": [
      "BaselineModelPreviousWeek MAE: 4.8396\n"
     ]
    },
    {
     "name": "stderr",
     "output_type": "stream",
     "text": [
      "INFO:src.experiment_utils:Logged mean_absolute_error: 4.839605734767025\n",
      "c:\\Users\\singh\\Downloads\\CDS500_Applied_ML_DS\\Projects\\CDA500Final\\CDA500PF2\\Lib\\site-packages\\mlflow\\types\\utils.py:452: UserWarning: Hint: Inferred schema contains integer column(s). Integer columns in Python cannot represent missing values. If your input data contains missing values at inference time, it will be encoded as floats and will cause a schema enforcement error. The best way to avoid this problem is to infer the model schema based on a realistic data sample (training dataset) that includes missing values. Alternatively, you can declare integer columns as doubles (float64) whenever these columns may have missing values. See `Handling Integers With Missing Values <https://www.mlflow.org/docs/latest/models.html#handling-integers-with-missing-values>`_ for more details.\n",
      "  warnings.warn(\n",
      "INFO:src.experiment_utils:Model signature inferred.\n"
     ]
    },
    {
     "data": {
      "application/vnd.jupyter.widget-view+json": {
       "model_id": "24f8fd8e349146cfa4732c765777ee7a",
       "version_major": 2,
       "version_minor": 0
      },
      "text/plain": [
       "Downloading artifacts:   0%|          | 0/7 [00:00<?, ?it/s]"
      ]
     },
     "metadata": {},
     "output_type": "display_data"
    },
    {
     "name": "stderr",
     "output_type": "stream",
     "text": [
      "Registered model 'BaselineModelPreviousWeek' already exists. Creating a new version of this model...\n",
      "2025/05/01 00:11:17 INFO mlflow.store.model_registry.abstract_store: Waiting up to 300 seconds for model version to finish creation. Model name: BaselineModelPreviousWeek, version 3\n",
      "Created version '3' of model 'BaselineModelPreviousWeek'.\n",
      "INFO:src.experiment_utils:Model logged with name: BaselineModelPreviousWeek\n"
     ]
    },
    {
     "name": "stdout",
     "output_type": "stream",
     "text": [
      "🏃 View run rare-bear-104 at: https://dagshub.com/singhvarun0405/CDA500PF1.mlflow/#/experiments/1/runs/1e107ccb0939495dae08687bc7575362\n",
      "🧪 View experiment at: https://dagshub.com/singhvarun0405/CDA500PF1.mlflow/#/experiments/1\n"
     ]
    },
    {
     "data": {
      "text/plain": [
       "<mlflow.models.model.ModelInfo at 0x1a0e0b25100>"
      ]
     },
     "execution_count": 4,
     "metadata": {},
     "output_type": "execute_result"
    }
   ],
   "source": [
    "# Baseline Model: Previous Week\n",
    "class BaselineModelPreviousWeek:\n",
    "    def fit(self, X_train: pd.DataFrame, y_train: pd.Series):\n",
    "        pass\n",
    "\n",
    "    def predict(self, X_test: pd.DataFrame) -> np.array:\n",
    "        return X_test[f\"rides_t-{7*24}\"]\n",
    "\n",
    "model = BaselineModelPreviousWeek()\n",
    "predictions = model.predict(X_test)\n",
    "test_mae = mean_absolute_error(y_test, predictions)\n",
    "print(f\"BaselineModelPreviousWeek MAE: {test_mae:.4f}\")\n",
    "log_model_to_mlflow(model, X_test, \"BaselineModelPreviousWeek\", \"mean_absolute_error\", score=test_mae)"
   ]
  },
  {
   "cell_type": "markdown",
   "metadata": {},
   "source": [
    "Baseline Model using Past 4 Weeks (4 Weeks * 7 * 24 split from 0-7-14-21-28)"
   ]
  },
  {
   "cell_type": "code",
   "execution_count": 5,
   "metadata": {},
   "outputs": [
    {
     "name": "stderr",
     "output_type": "stream",
     "text": [
      "INFO:src.experiment_utils:Experiment set to: BaselineModelLast4Weeks\n"
     ]
    },
    {
     "name": "stdout",
     "output_type": "stream",
     "text": [
      "BaselineModelLast4Weeks MAE: 3.9582\n"
     ]
    },
    {
     "name": "stderr",
     "output_type": "stream",
     "text": [
      "INFO:src.experiment_utils:Logged mean_absolute_error: 3.9582213261648747\n",
      "c:\\Users\\singh\\Downloads\\CDS500_Applied_ML_DS\\Projects\\CDA500Final\\CDA500PF2\\Lib\\site-packages\\mlflow\\types\\utils.py:452: UserWarning: Hint: Inferred schema contains integer column(s). Integer columns in Python cannot represent missing values. If your input data contains missing values at inference time, it will be encoded as floats and will cause a schema enforcement error. The best way to avoid this problem is to infer the model schema based on a realistic data sample (training dataset) that includes missing values. Alternatively, you can declare integer columns as doubles (float64) whenever these columns may have missing values. See `Handling Integers With Missing Values <https://www.mlflow.org/docs/latest/models.html#handling-integers-with-missing-values>`_ for more details.\n",
      "  warnings.warn(\n",
      "INFO:src.experiment_utils:Model signature inferred.\n"
     ]
    },
    {
     "data": {
      "application/vnd.jupyter.widget-view+json": {
       "model_id": "a213e096b76640aab1c1c2b931a1a994",
       "version_major": 2,
       "version_minor": 0
      },
      "text/plain": [
       "Downloading artifacts:   0%|          | 0/7 [00:00<?, ?it/s]"
      ]
     },
     "metadata": {},
     "output_type": "display_data"
    },
    {
     "name": "stderr",
     "output_type": "stream",
     "text": [
      "Registered model 'BaselineModelLast4Weeks' already exists. Creating a new version of this model...\n",
      "2025/05/01 00:11:43 INFO mlflow.store.model_registry.abstract_store: Waiting up to 300 seconds for model version to finish creation. Model name: BaselineModelLast4Weeks, version 3\n",
      "Created version '3' of model 'BaselineModelLast4Weeks'.\n",
      "INFO:src.experiment_utils:Model logged with name: BaselineModelLast4Weeks\n"
     ]
    },
    {
     "name": "stdout",
     "output_type": "stream",
     "text": [
      "🏃 View run carefree-shad-639 at: https://dagshub.com/singhvarun0405/CDA500PF1.mlflow/#/experiments/2/runs/f57a495dbac84f49aabdca4eb77e6894\n",
      "🧪 View experiment at: https://dagshub.com/singhvarun0405/CDA500PF1.mlflow/#/experiments/2\n"
     ]
    },
    {
     "data": {
      "text/plain": [
       "<mlflow.models.model.ModelInfo at 0x1a0e1866d80>"
      ]
     },
     "execution_count": 5,
     "metadata": {},
     "output_type": "execute_result"
    }
   ],
   "source": [
    "# Baseline Model: Last 4 Weeks\n",
    "class BaselineModelLast4Weeks:\n",
    "    def fit(self, X_train: pd.DataFrame, y_train: pd.Series):\n",
    "        pass\n",
    "\n",
    "    def predict(self, X_test: pd.DataFrame) -> np.array:\n",
    "        last_4_weeks_columns = [\n",
    "            f\"rides_t-{7*24}\",  # 1 week ago\n",
    "            f\"rides_t-{14*24}\", # 2 weeks ago\n",
    "            f\"rides_t-{21*24}\", # 3 weeks ago\n",
    "            f\"rides_t-{28*24}\"  # 4 weeks ago\n",
    "        ]\n",
    "        for col in last_4_weeks_columns:\n",
    "            if col not in X_test.columns:\n",
    "                raise ValueError(f\"Missing required column: {col}\")\n",
    "        predictions = X_test[last_4_weeks_columns].mean(axis=1)\n",
    "        return predictions.to_numpy()\n",
    "\n",
    "model = BaselineModelLast4Weeks()\n",
    "predictions = model.predict(X_test)\n",
    "test_mae = mean_absolute_error(y_test, predictions)\n",
    "print(f\"BaselineModelLast4Weeks MAE: {test_mae:.4f}\")\n",
    "log_model_to_mlflow(model, X_test, \"BaselineModelLast4Weeks\", \"mean_absolute_error\", score=test_mae)"
   ]
  },
  {
   "cell_type": "markdown",
   "metadata": {},
   "source": [
    "Plotting prediction from the latest baseline model (4 weeks)"
   ]
  },
  {
   "cell_type": "code",
   "execution_count": 6,
   "metadata": {},
   "outputs": [
    {
     "data": {
      "text/html": [
       "<div>\n",
       "<style scoped>\n",
       "    .dataframe tbody tr th:only-of-type {\n",
       "        vertical-align: middle;\n",
       "    }\n",
       "\n",
       "    .dataframe tbody tr th {\n",
       "        vertical-align: top;\n",
       "    }\n",
       "\n",
       "    .dataframe thead th {\n",
       "        text-align: right;\n",
       "    }\n",
       "</style>\n",
       "<table border=\"1\" class=\"dataframe\">\n",
       "  <thead>\n",
       "    <tr style=\"text-align: right;\">\n",
       "      <th></th>\n",
       "      <th>rides_t-672</th>\n",
       "      <th>rides_t-671</th>\n",
       "      <th>rides_t-670</th>\n",
       "      <th>rides_t-669</th>\n",
       "      <th>rides_t-668</th>\n",
       "      <th>rides_t-667</th>\n",
       "      <th>rides_t-666</th>\n",
       "      <th>rides_t-665</th>\n",
       "      <th>rides_t-664</th>\n",
       "      <th>rides_t-663</th>\n",
       "      <th>...</th>\n",
       "      <th>rides_t-8</th>\n",
       "      <th>rides_t-7</th>\n",
       "      <th>rides_t-6</th>\n",
       "      <th>rides_t-5</th>\n",
       "      <th>rides_t-4</th>\n",
       "      <th>rides_t-3</th>\n",
       "      <th>rides_t-2</th>\n",
       "      <th>rides_t-1</th>\n",
       "      <th>pickup_hour</th>\n",
       "      <th>start_station_name</th>\n",
       "    </tr>\n",
       "  </thead>\n",
       "  <tbody>\n",
       "    <tr>\n",
       "      <th>744</th>\n",
       "      <td>4</td>\n",
       "      <td>2</td>\n",
       "      <td>0</td>\n",
       "      <td>1</td>\n",
       "      <td>1</td>\n",
       "      <td>2</td>\n",
       "      <td>8</td>\n",
       "      <td>13</td>\n",
       "      <td>22</td>\n",
       "      <td>22</td>\n",
       "      <td>...</td>\n",
       "      <td>30</td>\n",
       "      <td>19</td>\n",
       "      <td>14</td>\n",
       "      <td>12</td>\n",
       "      <td>4</td>\n",
       "      <td>0</td>\n",
       "      <td>0</td>\n",
       "      <td>3</td>\n",
       "      <td>2025-01-01 00:00:00</td>\n",
       "      <td>University Pl &amp; E 14 St</td>\n",
       "    </tr>\n",
       "    <tr>\n",
       "      <th>745</th>\n",
       "      <td>2</td>\n",
       "      <td>0</td>\n",
       "      <td>1</td>\n",
       "      <td>1</td>\n",
       "      <td>2</td>\n",
       "      <td>8</td>\n",
       "      <td>13</td>\n",
       "      <td>22</td>\n",
       "      <td>22</td>\n",
       "      <td>18</td>\n",
       "      <td>...</td>\n",
       "      <td>19</td>\n",
       "      <td>14</td>\n",
       "      <td>12</td>\n",
       "      <td>4</td>\n",
       "      <td>0</td>\n",
       "      <td>0</td>\n",
       "      <td>3</td>\n",
       "      <td>6</td>\n",
       "      <td>2025-01-01 01:00:00</td>\n",
       "      <td>University Pl &amp; E 14 St</td>\n",
       "    </tr>\n",
       "    <tr>\n",
       "      <th>746</th>\n",
       "      <td>0</td>\n",
       "      <td>1</td>\n",
       "      <td>1</td>\n",
       "      <td>2</td>\n",
       "      <td>8</td>\n",
       "      <td>13</td>\n",
       "      <td>22</td>\n",
       "      <td>22</td>\n",
       "      <td>18</td>\n",
       "      <td>12</td>\n",
       "      <td>...</td>\n",
       "      <td>14</td>\n",
       "      <td>12</td>\n",
       "      <td>4</td>\n",
       "      <td>0</td>\n",
       "      <td>0</td>\n",
       "      <td>3</td>\n",
       "      <td>6</td>\n",
       "      <td>4</td>\n",
       "      <td>2025-01-01 02:00:00</td>\n",
       "      <td>University Pl &amp; E 14 St</td>\n",
       "    </tr>\n",
       "    <tr>\n",
       "      <th>747</th>\n",
       "      <td>1</td>\n",
       "      <td>1</td>\n",
       "      <td>2</td>\n",
       "      <td>8</td>\n",
       "      <td>13</td>\n",
       "      <td>22</td>\n",
       "      <td>22</td>\n",
       "      <td>18</td>\n",
       "      <td>12</td>\n",
       "      <td>16</td>\n",
       "      <td>...</td>\n",
       "      <td>12</td>\n",
       "      <td>4</td>\n",
       "      <td>0</td>\n",
       "      <td>0</td>\n",
       "      <td>3</td>\n",
       "      <td>6</td>\n",
       "      <td>4</td>\n",
       "      <td>4</td>\n",
       "      <td>2025-01-01 03:00:00</td>\n",
       "      <td>University Pl &amp; E 14 St</td>\n",
       "    </tr>\n",
       "    <tr>\n",
       "      <th>748</th>\n",
       "      <td>1</td>\n",
       "      <td>2</td>\n",
       "      <td>8</td>\n",
       "      <td>13</td>\n",
       "      <td>22</td>\n",
       "      <td>22</td>\n",
       "      <td>18</td>\n",
       "      <td>12</td>\n",
       "      <td>16</td>\n",
       "      <td>25</td>\n",
       "      <td>...</td>\n",
       "      <td>4</td>\n",
       "      <td>0</td>\n",
       "      <td>0</td>\n",
       "      <td>3</td>\n",
       "      <td>6</td>\n",
       "      <td>4</td>\n",
       "      <td>4</td>\n",
       "      <td>5</td>\n",
       "      <td>2025-01-01 04:00:00</td>\n",
       "      <td>University Pl &amp; E 14 St</td>\n",
       "    </tr>\n",
       "  </tbody>\n",
       "</table>\n",
       "<p>5 rows × 674 columns</p>\n",
       "</div>"
      ],
      "text/plain": [
       "     rides_t-672  rides_t-671  rides_t-670  rides_t-669  rides_t-668  \\\n",
       "744            4            2            0            1            1   \n",
       "745            2            0            1            1            2   \n",
       "746            0            1            1            2            8   \n",
       "747            1            1            2            8           13   \n",
       "748            1            2            8           13           22   \n",
       "\n",
       "     rides_t-667  rides_t-666  rides_t-665  rides_t-664  rides_t-663  ...  \\\n",
       "744            2            8           13           22           22  ...   \n",
       "745            8           13           22           22           18  ...   \n",
       "746           13           22           22           18           12  ...   \n",
       "747           22           22           18           12           16  ...   \n",
       "748           22           18           12           16           25  ...   \n",
       "\n",
       "     rides_t-8  rides_t-7  rides_t-6  rides_t-5  rides_t-4  rides_t-3  \\\n",
       "744         30         19         14         12          4          0   \n",
       "745         19         14         12          4          0          0   \n",
       "746         14         12          4          0          0          3   \n",
       "747         12          4          0          0          3          6   \n",
       "748          4          0          0          3          6          4   \n",
       "\n",
       "     rides_t-2  rides_t-1         pickup_hour       start_station_name  \n",
       "744          0          3 2025-01-01 00:00:00  University Pl & E 14 St  \n",
       "745          3          6 2025-01-01 01:00:00  University Pl & E 14 St  \n",
       "746          6          4 2025-01-01 02:00:00  University Pl & E 14 St  \n",
       "747          4          4 2025-01-01 03:00:00  University Pl & E 14 St  \n",
       "748          4          5 2025-01-01 04:00:00  University Pl & E 14 St  \n",
       "\n",
       "[5 rows x 674 columns]"
      ]
     },
     "execution_count": 6,
     "metadata": {},
     "output_type": "execute_result"
    },
    {
     "data": {
      "application/vnd.plotly.v1+json": {
       "config": {
        "plotlyServerURL": "https://plot.ly"
       },
       "data": [
        {
         "hovertemplate": "Time=%{x}<br>Ride Counts=%{y}<extra></extra>",
         "legendgroup": "",
         "line": {
          "color": "#636efa",
          "dash": "solid"
         },
         "marker": {
          "symbol": "circle"
         },
         "mode": "lines+markers",
         "name": "",
         "orientation": "v",
         "showlegend": false,
         "type": "scatter",
         "x": [
          "2024-12-14T16:00:00.000000000",
          "2024-12-14T17:00:00.000000000",
          "2024-12-14T18:00:00.000000000",
          "2024-12-14T19:00:00.000000000",
          "2024-12-14T20:00:00.000000000",
          "2024-12-14T21:00:00.000000000",
          "2024-12-14T22:00:00.000000000",
          "2024-12-14T23:00:00.000000000",
          "2024-12-15T00:00:00.000000000",
          "2024-12-15T01:00:00.000000000",
          "2024-12-15T02:00:00.000000000",
          "2024-12-15T03:00:00.000000000",
          "2024-12-15T04:00:00.000000000",
          "2024-12-15T05:00:00.000000000",
          "2024-12-15T06:00:00.000000000",
          "2024-12-15T07:00:00.000000000",
          "2024-12-15T08:00:00.000000000",
          "2024-12-15T09:00:00.000000000",
          "2024-12-15T10:00:00.000000000",
          "2024-12-15T11:00:00.000000000",
          "2024-12-15T12:00:00.000000000",
          "2024-12-15T13:00:00.000000000",
          "2024-12-15T14:00:00.000000000",
          "2024-12-15T15:00:00.000000000",
          "2024-12-15T16:00:00.000000000",
          "2024-12-15T17:00:00.000000000",
          "2024-12-15T18:00:00.000000000",
          "2024-12-15T19:00:00.000000000",
          "2024-12-15T20:00:00.000000000",
          "2024-12-15T21:00:00.000000000",
          "2024-12-15T22:00:00.000000000",
          "2024-12-15T23:00:00.000000000",
          "2024-12-16T00:00:00.000000000",
          "2024-12-16T01:00:00.000000000",
          "2024-12-16T02:00:00.000000000",
          "2024-12-16T03:00:00.000000000",
          "2024-12-16T04:00:00.000000000",
          "2024-12-16T05:00:00.000000000",
          "2024-12-16T06:00:00.000000000",
          "2024-12-16T07:00:00.000000000",
          "2024-12-16T08:00:00.000000000",
          "2024-12-16T09:00:00.000000000",
          "2024-12-16T10:00:00.000000000",
          "2024-12-16T11:00:00.000000000",
          "2024-12-16T12:00:00.000000000",
          "2024-12-16T13:00:00.000000000",
          "2024-12-16T14:00:00.000000000",
          "2024-12-16T15:00:00.000000000",
          "2024-12-16T16:00:00.000000000",
          "2024-12-16T17:00:00.000000000",
          "2024-12-16T18:00:00.000000000",
          "2024-12-16T19:00:00.000000000",
          "2024-12-16T20:00:00.000000000",
          "2024-12-16T21:00:00.000000000",
          "2024-12-16T22:00:00.000000000",
          "2024-12-16T23:00:00.000000000",
          "2024-12-17T00:00:00.000000000",
          "2024-12-17T01:00:00.000000000",
          "2024-12-17T02:00:00.000000000",
          "2024-12-17T03:00:00.000000000",
          "2024-12-17T04:00:00.000000000",
          "2024-12-17T05:00:00.000000000",
          "2024-12-17T06:00:00.000000000",
          "2024-12-17T07:00:00.000000000",
          "2024-12-17T08:00:00.000000000",
          "2024-12-17T09:00:00.000000000",
          "2024-12-17T10:00:00.000000000",
          "2024-12-17T11:00:00.000000000",
          "2024-12-17T12:00:00.000000000",
          "2024-12-17T13:00:00.000000000",
          "2024-12-17T14:00:00.000000000",
          "2024-12-17T15:00:00.000000000",
          "2024-12-17T16:00:00.000000000",
          "2024-12-17T17:00:00.000000000",
          "2024-12-17T18:00:00.000000000",
          "2024-12-17T19:00:00.000000000",
          "2024-12-17T20:00:00.000000000",
          "2024-12-17T21:00:00.000000000",
          "2024-12-17T22:00:00.000000000",
          "2024-12-17T23:00:00.000000000",
          "2024-12-18T00:00:00.000000000",
          "2024-12-18T01:00:00.000000000",
          "2024-12-18T02:00:00.000000000",
          "2024-12-18T03:00:00.000000000",
          "2024-12-18T04:00:00.000000000",
          "2024-12-18T05:00:00.000000000",
          "2024-12-18T06:00:00.000000000",
          "2024-12-18T07:00:00.000000000",
          "2024-12-18T08:00:00.000000000",
          "2024-12-18T09:00:00.000000000",
          "2024-12-18T10:00:00.000000000",
          "2024-12-18T11:00:00.000000000",
          "2024-12-18T12:00:00.000000000",
          "2024-12-18T13:00:00.000000000",
          "2024-12-18T14:00:00.000000000",
          "2024-12-18T15:00:00.000000000",
          "2024-12-18T16:00:00.000000000",
          "2024-12-18T17:00:00.000000000",
          "2024-12-18T18:00:00.000000000",
          "2024-12-18T19:00:00.000000000",
          "2024-12-18T20:00:00.000000000",
          "2024-12-18T21:00:00.000000000",
          "2024-12-18T22:00:00.000000000",
          "2024-12-18T23:00:00.000000000",
          "2024-12-19T00:00:00.000000000",
          "2024-12-19T01:00:00.000000000",
          "2024-12-19T02:00:00.000000000",
          "2024-12-19T03:00:00.000000000",
          "2024-12-19T04:00:00.000000000",
          "2024-12-19T05:00:00.000000000",
          "2024-12-19T06:00:00.000000000",
          "2024-12-19T07:00:00.000000000",
          "2024-12-19T08:00:00.000000000",
          "2024-12-19T09:00:00.000000000",
          "2024-12-19T10:00:00.000000000",
          "2024-12-19T11:00:00.000000000",
          "2024-12-19T12:00:00.000000000",
          "2024-12-19T13:00:00.000000000",
          "2024-12-19T14:00:00.000000000",
          "2024-12-19T15:00:00.000000000",
          "2024-12-19T16:00:00.000000000",
          "2024-12-19T17:00:00.000000000",
          "2024-12-19T18:00:00.000000000",
          "2024-12-19T19:00:00.000000000",
          "2024-12-19T20:00:00.000000000",
          "2024-12-19T21:00:00.000000000",
          "2024-12-19T22:00:00.000000000",
          "2024-12-19T23:00:00.000000000",
          "2024-12-20T00:00:00.000000000",
          "2024-12-20T01:00:00.000000000",
          "2024-12-20T02:00:00.000000000",
          "2024-12-20T03:00:00.000000000",
          "2024-12-20T04:00:00.000000000",
          "2024-12-20T05:00:00.000000000",
          "2024-12-20T06:00:00.000000000",
          "2024-12-20T07:00:00.000000000",
          "2024-12-20T08:00:00.000000000",
          "2024-12-20T09:00:00.000000000",
          "2024-12-20T10:00:00.000000000",
          "2024-12-20T11:00:00.000000000",
          "2024-12-20T12:00:00.000000000",
          "2024-12-20T13:00:00.000000000",
          "2024-12-20T14:00:00.000000000",
          "2024-12-20T15:00:00.000000000",
          "2024-12-20T16:00:00.000000000",
          "2024-12-20T17:00:00.000000000",
          "2024-12-20T18:00:00.000000000",
          "2024-12-20T19:00:00.000000000",
          "2024-12-20T20:00:00.000000000",
          "2024-12-20T21:00:00.000000000",
          "2024-12-20T22:00:00.000000000",
          "2024-12-20T23:00:00.000000000",
          "2024-12-21T00:00:00.000000000",
          "2024-12-21T01:00:00.000000000",
          "2024-12-21T02:00:00.000000000",
          "2024-12-21T03:00:00.000000000",
          "2024-12-21T04:00:00.000000000",
          "2024-12-21T05:00:00.000000000",
          "2024-12-21T06:00:00.000000000",
          "2024-12-21T07:00:00.000000000",
          "2024-12-21T08:00:00.000000000",
          "2024-12-21T09:00:00.000000000",
          "2024-12-21T10:00:00.000000000",
          "2024-12-21T11:00:00.000000000",
          "2024-12-21T12:00:00.000000000",
          "2024-12-21T13:00:00.000000000",
          "2024-12-21T14:00:00.000000000",
          "2024-12-21T15:00:00.000000000",
          "2024-12-21T16:00:00.000000000",
          "2024-12-21T17:00:00.000000000",
          "2024-12-21T18:00:00.000000000",
          "2024-12-21T19:00:00.000000000",
          "2024-12-21T20:00:00.000000000",
          "2024-12-21T21:00:00.000000000",
          "2024-12-21T22:00:00.000000000",
          "2024-12-21T23:00:00.000000000",
          "2024-12-22T00:00:00.000000000",
          "2024-12-22T01:00:00.000000000",
          "2024-12-22T02:00:00.000000000",
          "2024-12-22T03:00:00.000000000",
          "2024-12-22T04:00:00.000000000",
          "2024-12-22T05:00:00.000000000",
          "2024-12-22T06:00:00.000000000",
          "2024-12-22T07:00:00.000000000",
          "2024-12-22T08:00:00.000000000",
          "2024-12-22T09:00:00.000000000",
          "2024-12-22T10:00:00.000000000",
          "2024-12-22T11:00:00.000000000",
          "2024-12-22T12:00:00.000000000",
          "2024-12-22T13:00:00.000000000",
          "2024-12-22T14:00:00.000000000",
          "2024-12-22T15:00:00.000000000",
          "2024-12-22T16:00:00.000000000",
          "2024-12-22T17:00:00.000000000",
          "2024-12-22T18:00:00.000000000",
          "2024-12-22T19:00:00.000000000",
          "2024-12-22T20:00:00.000000000",
          "2024-12-22T21:00:00.000000000",
          "2024-12-22T22:00:00.000000000",
          "2024-12-22T23:00:00.000000000",
          "2024-12-23T00:00:00.000000000",
          "2024-12-23T01:00:00.000000000",
          "2024-12-23T02:00:00.000000000",
          "2024-12-23T03:00:00.000000000",
          "2024-12-23T04:00:00.000000000",
          "2024-12-23T05:00:00.000000000",
          "2024-12-23T06:00:00.000000000",
          "2024-12-23T07:00:00.000000000",
          "2024-12-23T08:00:00.000000000",
          "2024-12-23T09:00:00.000000000",
          "2024-12-23T10:00:00.000000000",
          "2024-12-23T11:00:00.000000000",
          "2024-12-23T12:00:00.000000000",
          "2024-12-23T13:00:00.000000000",
          "2024-12-23T14:00:00.000000000",
          "2024-12-23T15:00:00.000000000",
          "2024-12-23T16:00:00.000000000",
          "2024-12-23T17:00:00.000000000",
          "2024-12-23T18:00:00.000000000",
          "2024-12-23T19:00:00.000000000",
          "2024-12-23T20:00:00.000000000",
          "2024-12-23T21:00:00.000000000",
          "2024-12-23T22:00:00.000000000",
          "2024-12-23T23:00:00.000000000",
          "2024-12-24T00:00:00.000000000",
          "2024-12-24T01:00:00.000000000",
          "2024-12-24T02:00:00.000000000",
          "2024-12-24T03:00:00.000000000",
          "2024-12-24T04:00:00.000000000",
          "2024-12-24T05:00:00.000000000",
          "2024-12-24T06:00:00.000000000",
          "2024-12-24T07:00:00.000000000",
          "2024-12-24T08:00:00.000000000",
          "2024-12-24T09:00:00.000000000",
          "2024-12-24T10:00:00.000000000",
          "2024-12-24T11:00:00.000000000",
          "2024-12-24T12:00:00.000000000",
          "2024-12-24T13:00:00.000000000",
          "2024-12-24T14:00:00.000000000",
          "2024-12-24T15:00:00.000000000",
          "2024-12-24T16:00:00.000000000",
          "2024-12-24T17:00:00.000000000",
          "2024-12-24T18:00:00.000000000",
          "2024-12-24T19:00:00.000000000",
          "2024-12-24T20:00:00.000000000",
          "2024-12-24T21:00:00.000000000",
          "2024-12-24T22:00:00.000000000",
          "2024-12-24T23:00:00.000000000",
          "2024-12-25T00:00:00.000000000",
          "2024-12-25T01:00:00.000000000",
          "2024-12-25T02:00:00.000000000",
          "2024-12-25T03:00:00.000000000",
          "2024-12-25T04:00:00.000000000",
          "2024-12-25T05:00:00.000000000",
          "2024-12-25T06:00:00.000000000",
          "2024-12-25T07:00:00.000000000",
          "2024-12-25T08:00:00.000000000",
          "2024-12-25T09:00:00.000000000",
          "2024-12-25T10:00:00.000000000",
          "2024-12-25T11:00:00.000000000",
          "2024-12-25T12:00:00.000000000",
          "2024-12-25T13:00:00.000000000",
          "2024-12-25T14:00:00.000000000",
          "2024-12-25T15:00:00.000000000",
          "2024-12-25T16:00:00.000000000",
          "2024-12-25T17:00:00.000000000",
          "2024-12-25T18:00:00.000000000",
          "2024-12-25T19:00:00.000000000",
          "2024-12-25T20:00:00.000000000",
          "2024-12-25T21:00:00.000000000",
          "2024-12-25T22:00:00.000000000",
          "2024-12-25T23:00:00.000000000",
          "2024-12-26T00:00:00.000000000",
          "2024-12-26T01:00:00.000000000",
          "2024-12-26T02:00:00.000000000",
          "2024-12-26T03:00:00.000000000",
          "2024-12-26T04:00:00.000000000",
          "2024-12-26T05:00:00.000000000",
          "2024-12-26T06:00:00.000000000",
          "2024-12-26T07:00:00.000000000",
          "2024-12-26T08:00:00.000000000",
          "2024-12-26T09:00:00.000000000",
          "2024-12-26T10:00:00.000000000",
          "2024-12-26T11:00:00.000000000",
          "2024-12-26T12:00:00.000000000",
          "2024-12-26T13:00:00.000000000",
          "2024-12-26T14:00:00.000000000",
          "2024-12-26T15:00:00.000000000",
          "2024-12-26T16:00:00.000000000",
          "2024-12-26T17:00:00.000000000",
          "2024-12-26T18:00:00.000000000",
          "2024-12-26T19:00:00.000000000",
          "2024-12-26T20:00:00.000000000",
          "2024-12-26T21:00:00.000000000",
          "2024-12-26T22:00:00.000000000",
          "2024-12-26T23:00:00.000000000",
          "2024-12-27T00:00:00.000000000",
          "2024-12-27T01:00:00.000000000",
          "2024-12-27T02:00:00.000000000",
          "2024-12-27T03:00:00.000000000",
          "2024-12-27T04:00:00.000000000",
          "2024-12-27T05:00:00.000000000",
          "2024-12-27T06:00:00.000000000",
          "2024-12-27T07:00:00.000000000",
          "2024-12-27T08:00:00.000000000",
          "2024-12-27T09:00:00.000000000",
          "2024-12-27T10:00:00.000000000",
          "2024-12-27T11:00:00.000000000",
          "2024-12-27T12:00:00.000000000",
          "2024-12-27T13:00:00.000000000",
          "2024-12-27T14:00:00.000000000",
          "2024-12-27T15:00:00.000000000",
          "2024-12-27T16:00:00.000000000",
          "2024-12-27T17:00:00.000000000",
          "2024-12-27T18:00:00.000000000",
          "2024-12-27T19:00:00.000000000",
          "2024-12-27T20:00:00.000000000",
          "2024-12-27T21:00:00.000000000",
          "2024-12-27T22:00:00.000000000",
          "2024-12-27T23:00:00.000000000",
          "2024-12-28T00:00:00.000000000",
          "2024-12-28T01:00:00.000000000",
          "2024-12-28T02:00:00.000000000",
          "2024-12-28T03:00:00.000000000",
          "2024-12-28T04:00:00.000000000",
          "2024-12-28T05:00:00.000000000",
          "2024-12-28T06:00:00.000000000",
          "2024-12-28T07:00:00.000000000",
          "2024-12-28T08:00:00.000000000",
          "2024-12-28T09:00:00.000000000",
          "2024-12-28T10:00:00.000000000",
          "2024-12-28T11:00:00.000000000",
          "2024-12-28T12:00:00.000000000",
          "2024-12-28T13:00:00.000000000",
          "2024-12-28T14:00:00.000000000",
          "2024-12-28T15:00:00.000000000",
          "2024-12-28T16:00:00.000000000",
          "2024-12-28T17:00:00.000000000",
          "2024-12-28T18:00:00.000000000",
          "2024-12-28T19:00:00.000000000",
          "2024-12-28T20:00:00.000000000",
          "2024-12-28T21:00:00.000000000",
          "2024-12-28T22:00:00.000000000",
          "2024-12-28T23:00:00.000000000",
          "2024-12-29T00:00:00.000000000",
          "2024-12-29T01:00:00.000000000",
          "2024-12-29T02:00:00.000000000",
          "2024-12-29T03:00:00.000000000",
          "2024-12-29T04:00:00.000000000",
          "2024-12-29T05:00:00.000000000",
          "2024-12-29T06:00:00.000000000",
          "2024-12-29T07:00:00.000000000",
          "2024-12-29T08:00:00.000000000",
          "2024-12-29T09:00:00.000000000",
          "2024-12-29T10:00:00.000000000",
          "2024-12-29T11:00:00.000000000",
          "2024-12-29T12:00:00.000000000",
          "2024-12-29T13:00:00.000000000",
          "2024-12-29T14:00:00.000000000",
          "2024-12-29T15:00:00.000000000",
          "2024-12-29T16:00:00.000000000",
          "2024-12-29T17:00:00.000000000",
          "2024-12-29T18:00:00.000000000",
          "2024-12-29T19:00:00.000000000",
          "2024-12-29T20:00:00.000000000",
          "2024-12-29T21:00:00.000000000",
          "2024-12-29T22:00:00.000000000",
          "2024-12-29T23:00:00.000000000",
          "2024-12-30T00:00:00.000000000",
          "2024-12-30T01:00:00.000000000",
          "2024-12-30T02:00:00.000000000",
          "2024-12-30T03:00:00.000000000",
          "2024-12-30T04:00:00.000000000",
          "2024-12-30T05:00:00.000000000",
          "2024-12-30T06:00:00.000000000",
          "2024-12-30T07:00:00.000000000",
          "2024-12-30T08:00:00.000000000",
          "2024-12-30T09:00:00.000000000",
          "2024-12-30T10:00:00.000000000",
          "2024-12-30T11:00:00.000000000",
          "2024-12-30T12:00:00.000000000",
          "2024-12-30T13:00:00.000000000",
          "2024-12-30T14:00:00.000000000",
          "2024-12-30T15:00:00.000000000",
          "2024-12-30T16:00:00.000000000",
          "2024-12-30T17:00:00.000000000",
          "2024-12-30T18:00:00.000000000",
          "2024-12-30T19:00:00.000000000",
          "2024-12-30T20:00:00.000000000",
          "2024-12-30T21:00:00.000000000",
          "2024-12-30T22:00:00.000000000",
          "2024-12-30T23:00:00.000000000",
          "2024-12-31T00:00:00.000000000",
          "2024-12-31T01:00:00.000000000",
          "2024-12-31T02:00:00.000000000",
          "2024-12-31T03:00:00.000000000",
          "2024-12-31T04:00:00.000000000",
          "2024-12-31T05:00:00.000000000",
          "2024-12-31T06:00:00.000000000",
          "2024-12-31T07:00:00.000000000",
          "2024-12-31T08:00:00.000000000",
          "2024-12-31T09:00:00.000000000",
          "2024-12-31T10:00:00.000000000",
          "2024-12-31T11:00:00.000000000",
          "2024-12-31T12:00:00.000000000",
          "2024-12-31T13:00:00.000000000",
          "2024-12-31T14:00:00.000000000",
          "2024-12-31T15:00:00.000000000",
          "2024-12-31T16:00:00.000000000",
          "2024-12-31T17:00:00.000000000",
          "2024-12-31T18:00:00.000000000",
          "2024-12-31T19:00:00.000000000",
          "2024-12-31T20:00:00.000000000",
          "2024-12-31T21:00:00.000000000",
          "2024-12-31T22:00:00.000000000",
          "2024-12-31T23:00:00.000000000",
          "2025-01-01T00:00:00.000000000",
          "2025-01-01T01:00:00.000000000",
          "2025-01-01T02:00:00.000000000",
          "2025-01-01T03:00:00.000000000",
          "2025-01-01T04:00:00.000000000",
          "2025-01-01T05:00:00.000000000",
          "2025-01-01T06:00:00.000000000",
          "2025-01-01T07:00:00.000000000",
          "2025-01-01T08:00:00.000000000",
          "2025-01-01T09:00:00.000000000",
          "2025-01-01T10:00:00.000000000",
          "2025-01-01T11:00:00.000000000",
          "2025-01-01T12:00:00.000000000",
          "2025-01-01T13:00:00.000000000",
          "2025-01-01T14:00:00.000000000",
          "2025-01-01T15:00:00.000000000",
          "2025-01-01T16:00:00.000000000",
          "2025-01-01T17:00:00.000000000",
          "2025-01-01T18:00:00.000000000",
          "2025-01-01T19:00:00.000000000",
          "2025-01-01T20:00:00.000000000",
          "2025-01-01T21:00:00.000000000",
          "2025-01-01T22:00:00.000000000",
          "2025-01-01T23:00:00.000000000",
          "2025-01-02T00:00:00.000000000",
          "2025-01-02T01:00:00.000000000",
          "2025-01-02T02:00:00.000000000",
          "2025-01-02T03:00:00.000000000",
          "2025-01-02T04:00:00.000000000",
          "2025-01-02T05:00:00.000000000",
          "2025-01-02T06:00:00.000000000",
          "2025-01-02T07:00:00.000000000",
          "2025-01-02T08:00:00.000000000",
          "2025-01-02T09:00:00.000000000",
          "2025-01-02T10:00:00.000000000",
          "2025-01-02T11:00:00.000000000",
          "2025-01-02T12:00:00.000000000",
          "2025-01-02T13:00:00.000000000",
          "2025-01-02T14:00:00.000000000",
          "2025-01-02T15:00:00.000000000",
          "2025-01-02T16:00:00.000000000",
          "2025-01-02T17:00:00.000000000",
          "2025-01-02T18:00:00.000000000",
          "2025-01-02T19:00:00.000000000",
          "2025-01-02T20:00:00.000000000",
          "2025-01-02T21:00:00.000000000",
          "2025-01-02T22:00:00.000000000",
          "2025-01-02T23:00:00.000000000",
          "2025-01-03T00:00:00.000000000",
          "2025-01-03T01:00:00.000000000",
          "2025-01-03T02:00:00.000000000",
          "2025-01-03T03:00:00.000000000",
          "2025-01-03T04:00:00.000000000",
          "2025-01-03T05:00:00.000000000",
          "2025-01-03T06:00:00.000000000",
          "2025-01-03T07:00:00.000000000",
          "2025-01-03T08:00:00.000000000",
          "2025-01-03T09:00:00.000000000",
          "2025-01-03T10:00:00.000000000",
          "2025-01-03T11:00:00.000000000",
          "2025-01-03T12:00:00.000000000",
          "2025-01-03T13:00:00.000000000",
          "2025-01-03T14:00:00.000000000",
          "2025-01-03T15:00:00.000000000",
          "2025-01-03T16:00:00.000000000",
          "2025-01-03T17:00:00.000000000",
          "2025-01-03T18:00:00.000000000",
          "2025-01-03T19:00:00.000000000",
          "2025-01-03T20:00:00.000000000",
          "2025-01-03T21:00:00.000000000",
          "2025-01-03T22:00:00.000000000",
          "2025-01-03T23:00:00.000000000",
          "2025-01-04T00:00:00.000000000",
          "2025-01-04T01:00:00.000000000",
          "2025-01-04T02:00:00.000000000",
          "2025-01-04T03:00:00.000000000",
          "2025-01-04T04:00:00.000000000",
          "2025-01-04T05:00:00.000000000",
          "2025-01-04T06:00:00.000000000",
          "2025-01-04T07:00:00.000000000",
          "2025-01-04T08:00:00.000000000",
          "2025-01-04T09:00:00.000000000",
          "2025-01-04T10:00:00.000000000",
          "2025-01-04T11:00:00.000000000",
          "2025-01-04T12:00:00.000000000",
          "2025-01-04T13:00:00.000000000",
          "2025-01-04T14:00:00.000000000",
          "2025-01-04T15:00:00.000000000",
          "2025-01-04T16:00:00.000000000",
          "2025-01-04T17:00:00.000000000",
          "2025-01-04T18:00:00.000000000",
          "2025-01-04T19:00:00.000000000",
          "2025-01-04T20:00:00.000000000",
          "2025-01-04T21:00:00.000000000",
          "2025-01-04T22:00:00.000000000",
          "2025-01-04T23:00:00.000000000",
          "2025-01-05T00:00:00.000000000",
          "2025-01-05T01:00:00.000000000",
          "2025-01-05T02:00:00.000000000",
          "2025-01-05T03:00:00.000000000",
          "2025-01-05T04:00:00.000000000",
          "2025-01-05T05:00:00.000000000",
          "2025-01-05T06:00:00.000000000",
          "2025-01-05T07:00:00.000000000",
          "2025-01-05T08:00:00.000000000",
          "2025-01-05T09:00:00.000000000",
          "2025-01-05T10:00:00.000000000",
          "2025-01-05T11:00:00.000000000",
          "2025-01-05T12:00:00.000000000",
          "2025-01-05T13:00:00.000000000",
          "2025-01-05T14:00:00.000000000",
          "2025-01-05T15:00:00.000000000",
          "2025-01-05T16:00:00.000000000",
          "2025-01-05T17:00:00.000000000",
          "2025-01-05T18:00:00.000000000",
          "2025-01-05T19:00:00.000000000",
          "2025-01-05T20:00:00.000000000",
          "2025-01-05T21:00:00.000000000",
          "2025-01-05T22:00:00.000000000",
          "2025-01-05T23:00:00.000000000",
          "2025-01-06T00:00:00.000000000",
          "2025-01-06T01:00:00.000000000",
          "2025-01-06T02:00:00.000000000",
          "2025-01-06T03:00:00.000000000",
          "2025-01-06T04:00:00.000000000",
          "2025-01-06T05:00:00.000000000",
          "2025-01-06T06:00:00.000000000",
          "2025-01-06T07:00:00.000000000",
          "2025-01-06T08:00:00.000000000",
          "2025-01-06T09:00:00.000000000",
          "2025-01-06T10:00:00.000000000",
          "2025-01-06T11:00:00.000000000",
          "2025-01-06T12:00:00.000000000",
          "2025-01-06T13:00:00.000000000",
          "2025-01-06T14:00:00.000000000",
          "2025-01-06T15:00:00.000000000",
          "2025-01-06T16:00:00.000000000",
          "2025-01-06T17:00:00.000000000",
          "2025-01-06T18:00:00.000000000",
          "2025-01-06T19:00:00.000000000",
          "2025-01-06T20:00:00.000000000",
          "2025-01-06T21:00:00.000000000",
          "2025-01-06T22:00:00.000000000",
          "2025-01-06T23:00:00.000000000",
          "2025-01-07T00:00:00.000000000",
          "2025-01-07T01:00:00.000000000",
          "2025-01-07T02:00:00.000000000",
          "2025-01-07T03:00:00.000000000",
          "2025-01-07T04:00:00.000000000",
          "2025-01-07T05:00:00.000000000",
          "2025-01-07T06:00:00.000000000",
          "2025-01-07T07:00:00.000000000",
          "2025-01-07T08:00:00.000000000",
          "2025-01-07T09:00:00.000000000",
          "2025-01-07T10:00:00.000000000",
          "2025-01-07T11:00:00.000000000",
          "2025-01-07T12:00:00.000000000",
          "2025-01-07T13:00:00.000000000",
          "2025-01-07T14:00:00.000000000",
          "2025-01-07T15:00:00.000000000",
          "2025-01-07T16:00:00.000000000",
          "2025-01-07T17:00:00.000000000",
          "2025-01-07T18:00:00.000000000",
          "2025-01-07T19:00:00.000000000",
          "2025-01-07T20:00:00.000000000",
          "2025-01-07T21:00:00.000000000",
          "2025-01-07T22:00:00.000000000",
          "2025-01-07T23:00:00.000000000",
          "2025-01-08T00:00:00.000000000",
          "2025-01-08T01:00:00.000000000",
          "2025-01-08T02:00:00.000000000",
          "2025-01-08T03:00:00.000000000",
          "2025-01-08T04:00:00.000000000",
          "2025-01-08T05:00:00.000000000",
          "2025-01-08T06:00:00.000000000",
          "2025-01-08T07:00:00.000000000",
          "2025-01-08T08:00:00.000000000",
          "2025-01-08T09:00:00.000000000",
          "2025-01-08T10:00:00.000000000",
          "2025-01-08T11:00:00.000000000",
          "2025-01-08T12:00:00.000000000",
          "2025-01-08T13:00:00.000000000",
          "2025-01-08T14:00:00.000000000",
          "2025-01-08T15:00:00.000000000",
          "2025-01-08T16:00:00.000000000",
          "2025-01-08T17:00:00.000000000",
          "2025-01-08T18:00:00.000000000",
          "2025-01-08T19:00:00.000000000",
          "2025-01-08T20:00:00.000000000",
          "2025-01-08T21:00:00.000000000",
          "2025-01-08T22:00:00.000000000",
          "2025-01-08T23:00:00.000000000",
          "2025-01-09T00:00:00.000000000",
          "2025-01-09T01:00:00.000000000",
          "2025-01-09T02:00:00.000000000",
          "2025-01-09T03:00:00.000000000",
          "2025-01-09T04:00:00.000000000",
          "2025-01-09T05:00:00.000000000",
          "2025-01-09T06:00:00.000000000",
          "2025-01-09T07:00:00.000000000",
          "2025-01-09T08:00:00.000000000",
          "2025-01-09T09:00:00.000000000",
          "2025-01-09T10:00:00.000000000",
          "2025-01-09T11:00:00.000000000",
          "2025-01-09T12:00:00.000000000",
          "2025-01-09T13:00:00.000000000",
          "2025-01-09T14:00:00.000000000",
          "2025-01-09T15:00:00.000000000",
          "2025-01-09T16:00:00.000000000",
          "2025-01-09T17:00:00.000000000",
          "2025-01-09T18:00:00.000000000",
          "2025-01-09T19:00:00.000000000",
          "2025-01-09T20:00:00.000000000",
          "2025-01-09T21:00:00.000000000",
          "2025-01-09T22:00:00.000000000",
          "2025-01-09T23:00:00.000000000",
          "2025-01-10T00:00:00.000000000",
          "2025-01-10T01:00:00.000000000",
          "2025-01-10T02:00:00.000000000",
          "2025-01-10T03:00:00.000000000",
          "2025-01-10T04:00:00.000000000",
          "2025-01-10T05:00:00.000000000",
          "2025-01-10T06:00:00.000000000",
          "2025-01-10T07:00:00.000000000",
          "2025-01-10T08:00:00.000000000",
          "2025-01-10T09:00:00.000000000",
          "2025-01-10T10:00:00.000000000",
          "2025-01-10T11:00:00.000000000",
          "2025-01-10T12:00:00.000000000",
          "2025-01-10T13:00:00.000000000",
          "2025-01-10T14:00:00.000000000",
          "2025-01-10T15:00:00.000000000",
          "2025-01-10T16:00:00.000000000",
          "2025-01-10T17:00:00.000000000",
          "2025-01-10T18:00:00.000000000",
          "2025-01-10T19:00:00.000000000",
          "2025-01-10T20:00:00.000000000",
          "2025-01-10T21:00:00.000000000",
          "2025-01-10T22:00:00.000000000",
          "2025-01-10T23:00:00.000000000",
          "2025-01-11T00:00:00.000000000",
          "2025-01-11T01:00:00.000000000",
          "2025-01-11T02:00:00.000000000",
          "2025-01-11T03:00:00.000000000",
          "2025-01-11T04:00:00.000000000",
          "2025-01-11T05:00:00.000000000",
          "2025-01-11T06:00:00.000000000",
          "2025-01-11T07:00:00.000000000",
          "2025-01-11T08:00:00.000000000",
          "2025-01-11T09:00:00.000000000",
          "2025-01-11T10:00:00.000000000",
          "2025-01-11T11:00:00.000000000",
          "2025-01-11T12:00:00.000000000",
          "2025-01-11T13:00:00.000000000",
          "2025-01-11T14:00:00.000000000",
          "2025-01-11T15:00:00.000000000",
          "2025-01-11T16:00:00.000000000"
         ],
         "xaxis": "x",
         "y": {
          "bdata": "Gg8QExgFDQoGBgMAAgADAgIIBAsYHBQcEBcPDg8JBgIAAAAAAQENCQYGBQYIAAADDRcZGBMMAgACAAECAQMDDRQYCg8XFhoYGCQlLBISBQYDBQAAAQEECRwaEhEWHxspKSMKCA8HBAEAAgABAAECChYNDxkUERgiHBYZDg4MCQwDAQMCAAQBBgsJCxcLCwkSExQXEwcDAwIBAwABAAEAAQUDCAoIDA8VDAkKBQMDAgEAAAEAAAEBAAMBBQYIBAoIDgYDAwgFAQMAAQAAAAEAAgUFBQ4KDwwKERYGBgkEBAECAQEAAAABAAUBAgcKBw8LCwkMAgQAAgEAAAAAAAAAAgEBAQQBAwYDAQICAAEAAgEAAAAAAAABAwUGAxINDggODgsPCAUBAAcCAAAAAAABAQIHCgsKCg8YBwUDEQUJBwQEAQEAAAABAQEEBwgKDAwLAgUHBQUFBwQEAwEEAQABAAADCBEPFAwWDhAaBgYPCQEDAAAAAQACBgkTBg0aFhYdHRUWEg8HCgYGAgAGAAAAAQkEEgsIEBgVHhMODAQAAAMGBAQFAwAAAQMCBwQOBwsLCg0HBAUDAwMBAAEAAAEDCQsICAcNDg8QDhgYFAcKAAMBAAABAAADCwYNEBAMEQoTERsVFQ0FAwUCAQMBAAABAwgJCxIVDhQOBwUHDAUEBAMKAgIAAAABAQcECwYNDQ4QCg4NCwQDAwECAQIFAAELCRIKAw8BAwMHBAsICwYLAwIAAAEAAAIFDw0IBgMOFQsMCRIQDw0FAwIEAAAAAQEDDBIQBwkOCgkQDRMPGwcGBAMDAAEABQIEDA4KBxIMDBIQDg0RCQwFAQcAAAEAAAIFBxAPEQYOFBAXERsPDQwHCAMDAAAAAQEAAQkMDBgWEhEVDw==",
          "dtype": "i1"
         },
         "yaxis": "y"
        },
        {
         "line": {
          "color": "green"
         },
         "marker": {
          "size": 10
         },
         "mode": "markers",
         "name": "Actual Value",
         "type": "scatter",
         "x": [
          "2025-01-11T16:00:00"
         ],
         "y": [
          15
         ]
        },
        {
         "line": {
          "color": "red"
         },
         "marker": {
          "size": 15,
          "symbol": "x"
         },
         "mode": "markers",
         "name": "Prediction",
         "type": "scatter",
         "x": [
          "2025-01-11T16:00:00"
         ],
         "y": [
          11.75
         ]
        }
       ],
       "layout": {
        "legend": {
         "tracegroupgap": 0
        },
        "template": {
         "data": {
          "bar": [
           {
            "error_x": {
             "color": "#2a3f5f"
            },
            "error_y": {
             "color": "#2a3f5f"
            },
            "marker": {
             "line": {
              "color": "white",
              "width": 0.5
             },
             "pattern": {
              "fillmode": "overlay",
              "size": 10,
              "solidity": 0.2
             }
            },
            "type": "bar"
           }
          ],
          "barpolar": [
           {
            "marker": {
             "line": {
              "color": "white",
              "width": 0.5
             },
             "pattern": {
              "fillmode": "overlay",
              "size": 10,
              "solidity": 0.2
             }
            },
            "type": "barpolar"
           }
          ],
          "carpet": [
           {
            "aaxis": {
             "endlinecolor": "#2a3f5f",
             "gridcolor": "#C8D4E3",
             "linecolor": "#C8D4E3",
             "minorgridcolor": "#C8D4E3",
             "startlinecolor": "#2a3f5f"
            },
            "baxis": {
             "endlinecolor": "#2a3f5f",
             "gridcolor": "#C8D4E3",
             "linecolor": "#C8D4E3",
             "minorgridcolor": "#C8D4E3",
             "startlinecolor": "#2a3f5f"
            },
            "type": "carpet"
           }
          ],
          "choropleth": [
           {
            "colorbar": {
             "outlinewidth": 0,
             "ticks": ""
            },
            "type": "choropleth"
           }
          ],
          "contour": [
           {
            "colorbar": {
             "outlinewidth": 0,
             "ticks": ""
            },
            "colorscale": [
             [
              0,
              "#0d0887"
             ],
             [
              0.1111111111111111,
              "#46039f"
             ],
             [
              0.2222222222222222,
              "#7201a8"
             ],
             [
              0.3333333333333333,
              "#9c179e"
             ],
             [
              0.4444444444444444,
              "#bd3786"
             ],
             [
              0.5555555555555556,
              "#d8576b"
             ],
             [
              0.6666666666666666,
              "#ed7953"
             ],
             [
              0.7777777777777778,
              "#fb9f3a"
             ],
             [
              0.8888888888888888,
              "#fdca26"
             ],
             [
              1,
              "#f0f921"
             ]
            ],
            "type": "contour"
           }
          ],
          "contourcarpet": [
           {
            "colorbar": {
             "outlinewidth": 0,
             "ticks": ""
            },
            "type": "contourcarpet"
           }
          ],
          "heatmap": [
           {
            "colorbar": {
             "outlinewidth": 0,
             "ticks": ""
            },
            "colorscale": [
             [
              0,
              "#0d0887"
             ],
             [
              0.1111111111111111,
              "#46039f"
             ],
             [
              0.2222222222222222,
              "#7201a8"
             ],
             [
              0.3333333333333333,
              "#9c179e"
             ],
             [
              0.4444444444444444,
              "#bd3786"
             ],
             [
              0.5555555555555556,
              "#d8576b"
             ],
             [
              0.6666666666666666,
              "#ed7953"
             ],
             [
              0.7777777777777778,
              "#fb9f3a"
             ],
             [
              0.8888888888888888,
              "#fdca26"
             ],
             [
              1,
              "#f0f921"
             ]
            ],
            "type": "heatmap"
           }
          ],
          "histogram": [
           {
            "marker": {
             "pattern": {
              "fillmode": "overlay",
              "size": 10,
              "solidity": 0.2
             }
            },
            "type": "histogram"
           }
          ],
          "histogram2d": [
           {
            "colorbar": {
             "outlinewidth": 0,
             "ticks": ""
            },
            "colorscale": [
             [
              0,
              "#0d0887"
             ],
             [
              0.1111111111111111,
              "#46039f"
             ],
             [
              0.2222222222222222,
              "#7201a8"
             ],
             [
              0.3333333333333333,
              "#9c179e"
             ],
             [
              0.4444444444444444,
              "#bd3786"
             ],
             [
              0.5555555555555556,
              "#d8576b"
             ],
             [
              0.6666666666666666,
              "#ed7953"
             ],
             [
              0.7777777777777778,
              "#fb9f3a"
             ],
             [
              0.8888888888888888,
              "#fdca26"
             ],
             [
              1,
              "#f0f921"
             ]
            ],
            "type": "histogram2d"
           }
          ],
          "histogram2dcontour": [
           {
            "colorbar": {
             "outlinewidth": 0,
             "ticks": ""
            },
            "colorscale": [
             [
              0,
              "#0d0887"
             ],
             [
              0.1111111111111111,
              "#46039f"
             ],
             [
              0.2222222222222222,
              "#7201a8"
             ],
             [
              0.3333333333333333,
              "#9c179e"
             ],
             [
              0.4444444444444444,
              "#bd3786"
             ],
             [
              0.5555555555555556,
              "#d8576b"
             ],
             [
              0.6666666666666666,
              "#ed7953"
             ],
             [
              0.7777777777777778,
              "#fb9f3a"
             ],
             [
              0.8888888888888888,
              "#fdca26"
             ],
             [
              1,
              "#f0f921"
             ]
            ],
            "type": "histogram2dcontour"
           }
          ],
          "mesh3d": [
           {
            "colorbar": {
             "outlinewidth": 0,
             "ticks": ""
            },
            "type": "mesh3d"
           }
          ],
          "parcoords": [
           {
            "line": {
             "colorbar": {
              "outlinewidth": 0,
              "ticks": ""
             }
            },
            "type": "parcoords"
           }
          ],
          "pie": [
           {
            "automargin": true,
            "type": "pie"
           }
          ],
          "scatter": [
           {
            "fillpattern": {
             "fillmode": "overlay",
             "size": 10,
             "solidity": 0.2
            },
            "type": "scatter"
           }
          ],
          "scatter3d": [
           {
            "line": {
             "colorbar": {
              "outlinewidth": 0,
              "ticks": ""
             }
            },
            "marker": {
             "colorbar": {
              "outlinewidth": 0,
              "ticks": ""
             }
            },
            "type": "scatter3d"
           }
          ],
          "scattercarpet": [
           {
            "marker": {
             "colorbar": {
              "outlinewidth": 0,
              "ticks": ""
             }
            },
            "type": "scattercarpet"
           }
          ],
          "scattergeo": [
           {
            "marker": {
             "colorbar": {
              "outlinewidth": 0,
              "ticks": ""
             }
            },
            "type": "scattergeo"
           }
          ],
          "scattergl": [
           {
            "marker": {
             "colorbar": {
              "outlinewidth": 0,
              "ticks": ""
             }
            },
            "type": "scattergl"
           }
          ],
          "scattermap": [
           {
            "marker": {
             "colorbar": {
              "outlinewidth": 0,
              "ticks": ""
             }
            },
            "type": "scattermap"
           }
          ],
          "scattermapbox": [
           {
            "marker": {
             "colorbar": {
              "outlinewidth": 0,
              "ticks": ""
             }
            },
            "type": "scattermapbox"
           }
          ],
          "scatterpolar": [
           {
            "marker": {
             "colorbar": {
              "outlinewidth": 0,
              "ticks": ""
             }
            },
            "type": "scatterpolar"
           }
          ],
          "scatterpolargl": [
           {
            "marker": {
             "colorbar": {
              "outlinewidth": 0,
              "ticks": ""
             }
            },
            "type": "scatterpolargl"
           }
          ],
          "scatterternary": [
           {
            "marker": {
             "colorbar": {
              "outlinewidth": 0,
              "ticks": ""
             }
            },
            "type": "scatterternary"
           }
          ],
          "surface": [
           {
            "colorbar": {
             "outlinewidth": 0,
             "ticks": ""
            },
            "colorscale": [
             [
              0,
              "#0d0887"
             ],
             [
              0.1111111111111111,
              "#46039f"
             ],
             [
              0.2222222222222222,
              "#7201a8"
             ],
             [
              0.3333333333333333,
              "#9c179e"
             ],
             [
              0.4444444444444444,
              "#bd3786"
             ],
             [
              0.5555555555555556,
              "#d8576b"
             ],
             [
              0.6666666666666666,
              "#ed7953"
             ],
             [
              0.7777777777777778,
              "#fb9f3a"
             ],
             [
              0.8888888888888888,
              "#fdca26"
             ],
             [
              1,
              "#f0f921"
             ]
            ],
            "type": "surface"
           }
          ],
          "table": [
           {
            "cells": {
             "fill": {
              "color": "#EBF0F8"
             },
             "line": {
              "color": "white"
             }
            },
            "header": {
             "fill": {
              "color": "#C8D4E3"
             },
             "line": {
              "color": "white"
             }
            },
            "type": "table"
           }
          ]
         },
         "layout": {
          "annotationdefaults": {
           "arrowcolor": "#2a3f5f",
           "arrowhead": 0,
           "arrowwidth": 1
          },
          "autotypenumbers": "strict",
          "coloraxis": {
           "colorbar": {
            "outlinewidth": 0,
            "ticks": ""
           }
          },
          "colorscale": {
           "diverging": [
            [
             0,
             "#8e0152"
            ],
            [
             0.1,
             "#c51b7d"
            ],
            [
             0.2,
             "#de77ae"
            ],
            [
             0.3,
             "#f1b6da"
            ],
            [
             0.4,
             "#fde0ef"
            ],
            [
             0.5,
             "#f7f7f7"
            ],
            [
             0.6,
             "#e6f5d0"
            ],
            [
             0.7,
             "#b8e186"
            ],
            [
             0.8,
             "#7fbc41"
            ],
            [
             0.9,
             "#4d9221"
            ],
            [
             1,
             "#276419"
            ]
           ],
           "sequential": [
            [
             0,
             "#0d0887"
            ],
            [
             0.1111111111111111,
             "#46039f"
            ],
            [
             0.2222222222222222,
             "#7201a8"
            ],
            [
             0.3333333333333333,
             "#9c179e"
            ],
            [
             0.4444444444444444,
             "#bd3786"
            ],
            [
             0.5555555555555556,
             "#d8576b"
            ],
            [
             0.6666666666666666,
             "#ed7953"
            ],
            [
             0.7777777777777778,
             "#fb9f3a"
            ],
            [
             0.8888888888888888,
             "#fdca26"
            ],
            [
             1,
             "#f0f921"
            ]
           ],
           "sequentialminus": [
            [
             0,
             "#0d0887"
            ],
            [
             0.1111111111111111,
             "#46039f"
            ],
            [
             0.2222222222222222,
             "#7201a8"
            ],
            [
             0.3333333333333333,
             "#9c179e"
            ],
            [
             0.4444444444444444,
             "#bd3786"
            ],
            [
             0.5555555555555556,
             "#d8576b"
            ],
            [
             0.6666666666666666,
             "#ed7953"
            ],
            [
             0.7777777777777778,
             "#fb9f3a"
            ],
            [
             0.8888888888888888,
             "#fdca26"
            ],
            [
             1,
             "#f0f921"
            ]
           ]
          },
          "colorway": [
           "#636efa",
           "#EF553B",
           "#00cc96",
           "#ab63fa",
           "#FFA15A",
           "#19d3f3",
           "#FF6692",
           "#B6E880",
           "#FF97FF",
           "#FECB52"
          ],
          "font": {
           "color": "#2a3f5f"
          },
          "geo": {
           "bgcolor": "white",
           "lakecolor": "white",
           "landcolor": "white",
           "showlakes": true,
           "showland": true,
           "subunitcolor": "#C8D4E3"
          },
          "hoverlabel": {
           "align": "left"
          },
          "hovermode": "closest",
          "mapbox": {
           "style": "light"
          },
          "paper_bgcolor": "white",
          "plot_bgcolor": "white",
          "polar": {
           "angularaxis": {
            "gridcolor": "#EBF0F8",
            "linecolor": "#EBF0F8",
            "ticks": ""
           },
           "bgcolor": "white",
           "radialaxis": {
            "gridcolor": "#EBF0F8",
            "linecolor": "#EBF0F8",
            "ticks": ""
           }
          },
          "scene": {
           "xaxis": {
            "backgroundcolor": "white",
            "gridcolor": "#DFE8F3",
            "gridwidth": 2,
            "linecolor": "#EBF0F8",
            "showbackground": true,
            "ticks": "",
            "zerolinecolor": "#EBF0F8"
           },
           "yaxis": {
            "backgroundcolor": "white",
            "gridcolor": "#DFE8F3",
            "gridwidth": 2,
            "linecolor": "#EBF0F8",
            "showbackground": true,
            "ticks": "",
            "zerolinecolor": "#EBF0F8"
           },
           "zaxis": {
            "backgroundcolor": "white",
            "gridcolor": "#DFE8F3",
            "gridwidth": 2,
            "linecolor": "#EBF0F8",
            "showbackground": true,
            "ticks": "",
            "zerolinecolor": "#EBF0F8"
           }
          },
          "shapedefaults": {
           "line": {
            "color": "#2a3f5f"
           }
          },
          "ternary": {
           "aaxis": {
            "gridcolor": "#DFE8F3",
            "linecolor": "#A2B1C6",
            "ticks": ""
           },
           "baxis": {
            "gridcolor": "#DFE8F3",
            "linecolor": "#A2B1C6",
            "ticks": ""
           },
           "bgcolor": "white",
           "caxis": {
            "gridcolor": "#DFE8F3",
            "linecolor": "#A2B1C6",
            "ticks": ""
           }
          },
          "title": {
           "x": 0.05
          },
          "xaxis": {
           "automargin": true,
           "gridcolor": "#EBF0F8",
           "linecolor": "#EBF0F8",
           "ticks": "",
           "title": {
            "standoff": 15
           },
           "zerolinecolor": "#EBF0F8",
           "zerolinewidth": 2
          },
          "yaxis": {
           "automargin": true,
           "gridcolor": "#EBF0F8",
           "linecolor": "#EBF0F8",
           "ticks": "",
           "title": {
            "standoff": 15
           },
           "zerolinecolor": "#EBF0F8",
           "zerolinewidth": 2
          }
         }
        },
        "title": {
         "text": "Pickup Hour: 2025-01-11 16:00:00, Station Name: University Pl & E 14 St"
        },
        "xaxis": {
         "anchor": "y",
         "domain": [
          0,
          1
         ],
         "title": {
          "text": "Time"
         }
        },
        "yaxis": {
         "anchor": "x",
         "domain": [
          0,
          1
         ],
         "title": {
          "text": "Ride Counts"
         }
        }
       }
      }
     },
     "metadata": {},
     "output_type": "display_data"
    }
   ],
   "source": [
    "# Visualize the predictions for a specific row\n",
    "# Ensure the row_id is within bounds of the test set\n",
    "row_id = 1000\n",
    "if row_id >= len(X_test):\n",
    "    row_id = len(X_test) // 2  # Use the middle row if row_id is out of bounds\n",
    "    print(f\"Original row_id out of bounds. Using row_id = {row_id} (middle of test set)\")\n",
    "\n",
    "X_test[X_test['start_station_name'] == X_test.iloc[row_id]['start_station_name']].head()\n",
    "plot_aggregated_time_series(X_test, y_test, row_id, predictions)"
   ]
  }
 ],
 "metadata": {
  "kernelspec": {
   "display_name": "Python (CDA500PF2)",
   "language": "python",
   "name": "cda500pf2"
  },
  "language_info": {
   "codemirror_mode": {
    "name": "ipython",
    "version": 3
   },
   "file_extension": ".py",
   "mimetype": "text/x-python",
   "name": "python",
   "nbconvert_exporter": "python",
   "pygments_lexer": "ipython3",
   "version": "3.12.4"
  }
 },
 "nbformat": 4,
 "nbformat_minor": 2
}
