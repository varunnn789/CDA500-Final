{
 "cells": [
  {
   "cell_type": "code",
   "execution_count": 46,
   "id": "70a75bb5-92f2-4a5e-a4f5-ba8daa9eb668",
   "metadata": {},
   "outputs": [
    {
     "name": "stdout",
     "output_type": "stream",
     "text": [
      "The autoreload extension is already loaded. To reload it, use:\n",
      "  %reload_ext autoreload\n"
     ]
    }
   ],
   "source": [
    "%load_ext autoreload\n",
    "%autoreload 2\n",
    "import sys\n",
    "import os\n",
    "import hopsworks\n",
    "import pandas as pd\n",
    "from datetime import timedelta\n",
    "import plotly.express as px\n",
    "\n",
    "\n",
    "sys.path.append(os.path.abspath(os.path.join(os.getcwd(), \"..\")))\n",
    "\n",
    "import src.config as config\n",
    "from src.inference import get_feature_store, fetch_predictions"
   ]
  },
  {
   "cell_type": "code",
   "execution_count": 1,
   "id": "6b71af71-2fd3-4c10-9a22-59fefa557202",
   "metadata": {},
   "outputs": [
    {
     "name": "stdout",
     "output_type": "stream",
     "text": [
      "2025-05-10 04:53:53,826 INFO: Initializing external client\n",
      "2025-05-10 04:53:53,827 INFO: Base URL: https://c.app.hopsworks.ai:443\n"
     ]
    },
    {
     "name": "stderr",
     "output_type": "stream",
     "text": [
      "\n",
      "\n",
      "UserWarning: The installed hopsworks client version 4.1.5 may not be compatible with the connected Hopsworks backend version 4.2.0. \n",
      "To ensure compatibility please install the latest bug fix release matching the minor version of your backend (4.2) by running 'pip install hopsworks==4.2.*'\n"
     ]
    },
    {
     "name": "stdout",
     "output_type": "stream",
     "text": [
      "2025-05-10 04:53:54,684 INFO: Python Engine initialized.\n",
      "\n",
      "Logged in to project, explore it here https://c.app.hopsworks.ai:443/p/1225907\n",
      "Finished: Reading data from Hopsworks, using Hopsworks Feature Query Service (0.57s) \n",
      "\n",
      "Unfiltered Actual Rides Data (recent_time_series_hourly_feature_group):\n",
      "Shape: (2100, 3)\n",
      "pickup_hour range: 2025-04-11 04:00:00 to 2025-05-10 07:00:00\n",
      "             pickup_hour start_station_name  rides\n",
      "41   2025-04-11 04:00:00   11 Ave & W 41 St      1\n",
      "1701 2025-04-11 05:00:00   11 Ave & W 41 St      4\n",
      "1846 2025-04-11 06:00:00   11 Ave & W 41 St      9\n",
      "1626 2025-04-11 07:00:00   11 Ave & W 41 St     18\n",
      "11   2025-04-11 08:00:00   11 Ave & W 41 St     16\n",
      "...                  ...                ...    ...\n",
      "987  2025-05-10 03:00:00    W 31 St & 7 Ave      0\n",
      "2088 2025-05-10 04:00:00    W 31 St & 7 Ave      1\n",
      "2093 2025-05-10 05:00:00    W 31 St & 7 Ave      1\n",
      "2096 2025-05-10 06:00:00    W 31 St & 7 Ave     10\n",
      "2098 2025-05-10 07:00:00    W 31 St & 7 Ave      5\n",
      "\n",
      "[2100 rows x 3 columns]\n",
      "2025-05-10 04:53:57,812 INFO: Closing external client and cleaning up certificates.\n",
      "Connection closed.\n",
      "2025-05-10 04:53:57,819 INFO: Initializing external client\n",
      "2025-05-10 04:53:57,821 INFO: Base URL: https://c.app.hopsworks.ai:443\n"
     ]
    },
    {
     "name": "stderr",
     "output_type": "stream",
     "text": [
      "\n",
      "\n",
      "UserWarning: The installed hopsworks client version 4.1.5 may not be compatible with the connected Hopsworks backend version 4.2.0. \n",
      "To ensure compatibility please install the latest bug fix release matching the minor version of your backend (4.2) by running 'pip install hopsworks==4.2.*'\n"
     ]
    },
    {
     "name": "stdout",
     "output_type": "stream",
     "text": [
      "2025-05-10 04:53:58,465 INFO: Python Engine initialized.\n",
      "\n",
      "Logged in to project, explore it here https://c.app.hopsworks.ai:443/p/1225907\n",
      "Finished: Reading data from Hopsworks, using Hopsworks Feature Query Service (0.74s) \n",
      "\n",
      "Unfiltered Predicted Rides Data (predictions_model_baseline):\n",
      "Shape: (21, 3)\n",
      "pickup_hour range: 2025-04-17 08:00:00 to 2025-05-10 09:00:00\n",
      "   start_station_name  predicted_rides         pickup_hour\n",
      "9    11 Ave & W 41 St                1 2025-04-17 08:00:00\n",
      "13   11 Ave & W 41 St               21 2025-05-09 09:00:00\n",
      "8    11 Ave & W 41 St               24 2025-05-09 17:00:00\n",
      "20   11 Ave & W 41 St                0 2025-05-10 06:00:00\n",
      "0    11 Ave & W 41 St                2 2025-05-10 07:00:00\n",
      "3    11 Ave & W 41 St               24 2025-05-10 08:00:00\n",
      "19   11 Ave & W 41 St                1 2025-05-10 09:00:00\n",
      "10    W 21 St & 6 Ave               26 2025-04-17 08:00:00\n",
      "14    W 21 St & 6 Ave               22 2025-05-09 09:00:00\n",
      "6     W 21 St & 6 Ave                9 2025-05-09 17:00:00\n",
      "16    W 21 St & 6 Ave                1 2025-05-10 06:00:00\n",
      "2     W 21 St & 6 Ave                3 2025-05-10 07:00:00\n",
      "4     W 21 St & 6 Ave                9 2025-05-10 08:00:00\n",
      "15    W 21 St & 6 Ave               26 2025-05-10 09:00:00\n",
      "11    W 31 St & 7 Ave                7 2025-04-17 08:00:00\n",
      "12    W 31 St & 7 Ave               23 2025-05-09 09:00:00\n",
      "7     W 31 St & 7 Ave               12 2025-05-09 17:00:00\n",
      "18    W 31 St & 7 Ave                1 2025-05-10 06:00:00\n",
      "1     W 31 St & 7 Ave               10 2025-05-10 07:00:00\n",
      "5     W 31 St & 7 Ave               12 2025-05-10 08:00:00\n",
      "17    W 31 St & 7 Ave                7 2025-05-10 09:00:00\n",
      "2025-05-10 04:54:02,900 INFO: Closing external client and cleaning up certificates.\n",
      "Connection closed.\n",
      "2025-05-10 04:54:02,914 INFO: Initializing external client\n",
      "2025-05-10 04:54:02,915 INFO: Base URL: https://c.app.hopsworks.ai:443\n"
     ]
    },
    {
     "name": "stderr",
     "output_type": "stream",
     "text": [
      "\n",
      "\n",
      "UserWarning: The installed hopsworks client version 4.1.5 may not be compatible with the connected Hopsworks backend version 4.2.0. \n",
      "To ensure compatibility please install the latest bug fix release matching the minor version of your backend (4.2) by running 'pip install hopsworks==4.2.*'\n"
     ]
    },
    {
     "name": "stdout",
     "output_type": "stream",
     "text": [
      "2025-05-10 04:54:03,579 INFO: Python Engine initialized.\n",
      "\n",
      "Logged in to project, explore it here https://c.app.hopsworks.ai:443/p/1225907\n",
      "Finished: Reading data from Hopsworks, using Hopsworks Feature Query Service (0.59s) \n",
      "\n",
      "Unfiltered Predicted Rides Data (predictions_model_lgbm_28days):\n",
      "Shape: (21, 3)\n",
      "pickup_hour range: 2025-04-17 08:00:00 to 2025-05-10 09:00:00\n",
      "   start_station_name  predicted_rides         pickup_hour\n",
      "9    11 Ave & W 41 St             11.0 2025-04-17 08:00:00\n",
      "13   11 Ave & W 41 St             16.0 2025-05-09 09:00:00\n",
      "8    11 Ave & W 41 St             10.0 2025-05-09 17:00:00\n",
      "20   11 Ave & W 41 St              1.0 2025-05-10 06:00:00\n",
      "0    11 Ave & W 41 St              2.0 2025-05-10 07:00:00\n",
      "3    11 Ave & W 41 St             10.0 2025-05-10 08:00:00\n",
      "19   11 Ave & W 41 St             11.0 2025-05-10 09:00:00\n",
      "10    W 21 St & 6 Ave              6.0 2025-04-17 08:00:00\n",
      "14    W 21 St & 6 Ave             10.0 2025-05-09 09:00:00\n",
      "6     W 21 St & 6 Ave              5.0 2025-05-09 17:00:00\n",
      "16    W 21 St & 6 Ave              1.0 2025-05-10 06:00:00\n",
      "2     W 21 St & 6 Ave              1.0 2025-05-10 07:00:00\n",
      "4     W 21 St & 6 Ave              5.0 2025-05-10 08:00:00\n",
      "15    W 21 St & 6 Ave              6.0 2025-05-10 09:00:00\n",
      "11    W 31 St & 7 Ave              3.0 2025-04-17 08:00:00\n",
      "12    W 31 St & 7 Ave             16.0 2025-05-09 09:00:00\n",
      "7     W 31 St & 7 Ave              4.0 2025-05-09 17:00:00\n",
      "18    W 31 St & 7 Ave              2.0 2025-05-10 06:00:00\n",
      "1     W 31 St & 7 Ave              5.0 2025-05-10 07:00:00\n",
      "5     W 31 St & 7 Ave              4.0 2025-05-10 08:00:00\n",
      "17    W 31 St & 7 Ave              3.0 2025-05-10 09:00:00\n",
      "2025-05-10 04:54:06,076 INFO: Closing external client and cleaning up certificates.\n",
      "Connection closed.\n",
      "2025-05-10 04:54:06,088 INFO: Initializing external client\n",
      "2025-05-10 04:54:06,089 INFO: Base URL: https://c.app.hopsworks.ai:443\n"
     ]
    },
    {
     "name": "stderr",
     "output_type": "stream",
     "text": [
      "\n",
      "\n",
      "UserWarning: The installed hopsworks client version 4.1.5 may not be compatible with the connected Hopsworks backend version 4.2.0. \n",
      "To ensure compatibility please install the latest bug fix release matching the minor version of your backend (4.2) by running 'pip install hopsworks==4.2.*'\n"
     ]
    },
    {
     "name": "stdout",
     "output_type": "stream",
     "text": [
      "2025-05-10 04:54:06,756 INFO: Python Engine initialized.\n",
      "\n",
      "Logged in to project, explore it here https://c.app.hopsworks.ai:443/p/1225907\n",
      "Finished: Reading data from Hopsworks, using Hopsworks Feature Query Service (0.58s) \n",
      "\n",
      "Unfiltered Predicted Rides Data (predictions_model_lgbm_top10):\n",
      "Shape: (18, 3)\n",
      "pickup_hour range: 2025-04-17 08:00:00 to 2025-05-10 08:00:00\n",
      "   start_station_name  predicted_rides         pickup_hour\n",
      "9    11 Ave & W 41 St              8.0 2025-04-17 08:00:00\n",
      "13   11 Ave & W 41 St             18.0 2025-05-09 09:00:00\n",
      "8    11 Ave & W 41 St             14.0 2025-05-09 17:00:00\n",
      "17   11 Ave & W 41 St              3.0 2025-05-10 06:00:00\n",
      "0    11 Ave & W 41 St              6.0 2025-05-10 07:00:00\n",
      "3    11 Ave & W 41 St             14.0 2025-05-10 08:00:00\n",
      "10    W 21 St & 6 Ave             18.0 2025-04-17 08:00:00\n",
      "14    W 21 St & 6 Ave             16.0 2025-05-09 09:00:00\n",
      "6     W 21 St & 6 Ave              9.0 2025-05-09 17:00:00\n",
      "15    W 21 St & 6 Ave              1.0 2025-05-10 06:00:00\n",
      "2     W 21 St & 6 Ave              3.0 2025-05-10 07:00:00\n",
      "4     W 21 St & 6 Ave              9.0 2025-05-10 08:00:00\n",
      "11    W 31 St & 7 Ave             10.0 2025-04-17 08:00:00\n",
      "12    W 31 St & 7 Ave             20.0 2025-05-09 09:00:00\n",
      "7     W 31 St & 7 Ave             10.0 2025-05-09 17:00:00\n",
      "16    W 31 St & 7 Ave              7.0 2025-05-10 06:00:00\n",
      "1     W 31 St & 7 Ave              9.0 2025-05-10 07:00:00\n",
      "5     W 31 St & 7 Ave             10.0 2025-05-10 08:00:00\n",
      "2025-05-10 04:54:09,224 INFO: Closing external client and cleaning up certificates.\n",
      "Connection closed.\n",
      "2025-05-10 04:54:09,243 INFO: Initializing external client\n",
      "2025-05-10 04:54:09,244 INFO: Base URL: https://c.app.hopsworks.ai:443\n"
     ]
    },
    {
     "name": "stderr",
     "output_type": "stream",
     "text": [
      "\n",
      "\n",
      "UserWarning: The installed hopsworks client version 4.1.5 may not be compatible with the connected Hopsworks backend version 4.2.0. \n",
      "To ensure compatibility please install the latest bug fix release matching the minor version of your backend (4.2) by running 'pip install hopsworks==4.2.*'\n"
     ]
    },
    {
     "name": "stdout",
     "output_type": "stream",
     "text": [
      "2025-05-10 04:54:09,856 INFO: Python Engine initialized.\n",
      "\n",
      "Logged in to project, explore it here https://c.app.hopsworks.ai:443/p/1225907\n",
      "Finished: Reading data from Hopsworks, using Hopsworks Feature Query Service (0.81s) \n",
      "\n",
      "Unfiltered Predicted Rides Data (predictions_model_gbt):\n",
      "Shape: (15, 3)\n",
      "pickup_hour range: 2025-04-17 08:00:00 to 2025-05-10 08:00:00\n",
      "   start_station_name  predicted_rides         pickup_hour\n",
      "9    11 Ave & W 41 St              6.0 2025-04-17 08:00:00\n",
      "13   11 Ave & W 41 St             18.0 2025-05-09 09:00:00\n",
      "8    11 Ave & W 41 St             14.0 2025-05-09 17:00:00\n",
      "0    11 Ave & W 41 St              5.0 2025-05-10 07:00:00\n",
      "3    11 Ave & W 41 St             14.0 2025-05-10 08:00:00\n",
      "10    W 21 St & 6 Ave             18.0 2025-04-17 08:00:00\n",
      "14    W 21 St & 6 Ave             16.0 2025-05-09 09:00:00\n",
      "6     W 21 St & 6 Ave              9.0 2025-05-09 17:00:00\n",
      "2     W 21 St & 6 Ave              4.0 2025-05-10 07:00:00\n",
      "4     W 21 St & 6 Ave              9.0 2025-05-10 08:00:00\n",
      "11    W 31 St & 7 Ave             11.0 2025-04-17 08:00:00\n",
      "12    W 31 St & 7 Ave             17.0 2025-05-09 09:00:00\n",
      "7     W 31 St & 7 Ave             11.0 2025-05-09 17:00:00\n",
      "1     W 31 St & 7 Ave              8.0 2025-05-10 07:00:00\n",
      "5     W 31 St & 7 Ave             11.0 2025-05-10 08:00:00\n",
      "2025-05-10 04:54:12,317 INFO: Closing external client and cleaning up certificates.\n",
      "Connection closed.\n",
      "2025-05-10 04:54:12,327 INFO: Initializing external client\n",
      "2025-05-10 04:54:12,328 INFO: Base URL: https://c.app.hopsworks.ai:443\n"
     ]
    },
    {
     "name": "stderr",
     "output_type": "stream",
     "text": [
      "\n",
      "\n",
      "UserWarning: The installed hopsworks client version 4.1.5 may not be compatible with the connected Hopsworks backend version 4.2.0. \n",
      "To ensure compatibility please install the latest bug fix release matching the minor version of your backend (4.2) by running 'pip install hopsworks==4.2.*'\n"
     ]
    },
    {
     "name": "stdout",
     "output_type": "stream",
     "text": [
      "2025-05-10 04:54:12,948 INFO: Python Engine initialized.\n",
      "\n",
      "Logged in to project, explore it here https://c.app.hopsworks.ai:443/p/1225907\n",
      "Finished: Reading data from Hopsworks, using Hopsworks Feature Query Service (0.63s) \n",
      "\n",
      "Unfiltered Predicted Rides Data (predictions_model_lgbm_enhanced):\n",
      "Shape: (15, 3)\n",
      "pickup_hour range: 2025-04-17 08:00:00 to 2025-05-10 08:00:00\n",
      "   start_station_name  predicted_rides         pickup_hour\n",
      "9    11 Ave & W 41 St              5.0 2025-04-17 08:00:00\n",
      "13   11 Ave & W 41 St             19.0 2025-05-09 09:00:00\n",
      "8    11 Ave & W 41 St             13.0 2025-05-09 17:00:00\n",
      "0    11 Ave & W 41 St              6.0 2025-05-10 07:00:00\n",
      "3    11 Ave & W 41 St             13.0 2025-05-10 08:00:00\n",
      "10    W 21 St & 6 Ave             25.0 2025-04-17 08:00:00\n",
      "14    W 21 St & 6 Ave             19.0 2025-05-09 09:00:00\n",
      "6     W 21 St & 6 Ave             13.0 2025-05-09 17:00:00\n",
      "2     W 21 St & 6 Ave              3.0 2025-05-10 07:00:00\n",
      "4     W 21 St & 6 Ave             13.0 2025-05-10 08:00:00\n",
      "11    W 31 St & 7 Ave             11.0 2025-04-17 08:00:00\n",
      "12    W 31 St & 7 Ave             19.0 2025-05-09 09:00:00\n",
      "7     W 31 St & 7 Ave             11.0 2025-05-09 17:00:00\n",
      "1     W 31 St & 7 Ave              8.0 2025-05-10 07:00:00\n",
      "5     W 31 St & 7 Ave             11.0 2025-05-10 08:00:00\n",
      "\n",
      "Most recent actual rides hour: 2025-05-10 07:00:00\n",
      "\n",
      "Filtered Actual Rides Data:\n",
      "Shape: (3, 3)\n",
      "             pickup_hour start_station_name  rides\n",
      "2097 2025-05-10 07:00:00   11 Ave & W 41 St      7\n",
      "2099 2025-05-10 07:00:00    W 21 St & 6 Ave      2\n",
      "2098 2025-05-10 07:00:00    W 31 St & 7 Ave      5\n",
      "\n",
      "Processing model: baseline_previous_hour\n",
      "Predicted Rides Data for baseline_previous_hour at 2025-05-10 07:00:00:\n",
      "Shape: (3, 3)\n",
      "  start_station_name  predicted_rides         pickup_hour\n",
      "0   11 Ave & W 41 St                2 2025-05-10 07:00:00\n",
      "2    W 21 St & 6 Ave                3 2025-05-10 07:00:00\n",
      "1    W 31 St & 7 Ave               10 2025-05-10 07:00:00\n",
      "MAE for baseline_previous_hour at 2025-05-10 07:00:00: 3.6667\n",
      "Details:\n",
      "  start_station_name         pickup_hour  rides  predicted_rides  \\\n",
      "0   11 Ave & W 41 St 2025-05-10 07:00:00      7                2   \n",
      "1    W 21 St & 6 Ave 2025-05-10 07:00:00      2                3   \n",
      "2    W 31 St & 7 Ave 2025-05-10 07:00:00      5               10   \n",
      "\n",
      "   absolute_error  \n",
      "0               5  \n",
      "1               1  \n",
      "2               5  \n",
      "\n",
      "Processing model: lightgbm_28days_lags\n",
      "Predicted Rides Data for lightgbm_28days_lags at 2025-05-10 07:00:00:\n",
      "Shape: (3, 3)\n",
      "  start_station_name  predicted_rides         pickup_hour\n",
      "0   11 Ave & W 41 St              2.0 2025-05-10 07:00:00\n",
      "2    W 21 St & 6 Ave              1.0 2025-05-10 07:00:00\n",
      "1    W 31 St & 7 Ave              5.0 2025-05-10 07:00:00\n",
      "MAE for lightgbm_28days_lags at 2025-05-10 07:00:00: 2.0000\n",
      "Details:\n",
      "  start_station_name         pickup_hour  rides  predicted_rides  \\\n",
      "0   11 Ave & W 41 St 2025-05-10 07:00:00      7              2.0   \n",
      "1    W 21 St & 6 Ave 2025-05-10 07:00:00      2              1.0   \n",
      "2    W 31 St & 7 Ave 2025-05-10 07:00:00      5              5.0   \n",
      "\n",
      "   absolute_error  \n",
      "0             5.0  \n",
      "1             1.0  \n",
      "2             0.0  \n",
      "\n",
      "Processing model: lightgbm_top10_features\n",
      "Predicted Rides Data for lightgbm_top10_features at 2025-05-10 07:00:00:\n",
      "Shape: (3, 3)\n",
      "  start_station_name  predicted_rides         pickup_hour\n",
      "0   11 Ave & W 41 St              6.0 2025-05-10 07:00:00\n",
      "2    W 21 St & 6 Ave              3.0 2025-05-10 07:00:00\n",
      "1    W 31 St & 7 Ave              9.0 2025-05-10 07:00:00\n",
      "MAE for lightgbm_top10_features at 2025-05-10 07:00:00: 2.0000\n",
      "Details:\n",
      "  start_station_name         pickup_hour  rides  predicted_rides  \\\n",
      "0   11 Ave & W 41 St 2025-05-10 07:00:00      7              6.0   \n",
      "1    W 21 St & 6 Ave 2025-05-10 07:00:00      2              3.0   \n",
      "2    W 31 St & 7 Ave 2025-05-10 07:00:00      5              9.0   \n",
      "\n",
      "   absolute_error  \n",
      "0             1.0  \n",
      "1             1.0  \n",
      "2             4.0  \n",
      "\n",
      "Processing model: gradient_boosting_temporal_features\n",
      "Predicted Rides Data for gradient_boosting_temporal_features at 2025-05-10 07:00:00:\n",
      "Shape: (3, 3)\n",
      "  start_station_name  predicted_rides         pickup_hour\n",
      "0   11 Ave & W 41 St              5.0 2025-05-10 07:00:00\n",
      "2    W 21 St & 6 Ave              4.0 2025-05-10 07:00:00\n",
      "1    W 31 St & 7 Ave              8.0 2025-05-10 07:00:00\n",
      "MAE for gradient_boosting_temporal_features at 2025-05-10 07:00:00: 2.3333\n",
      "Details:\n",
      "  start_station_name         pickup_hour  rides  predicted_rides  \\\n",
      "0   11 Ave & W 41 St 2025-05-10 07:00:00      7              5.0   \n",
      "1    W 21 St & 6 Ave 2025-05-10 07:00:00      2              4.0   \n",
      "2    W 31 St & 7 Ave 2025-05-10 07:00:00      5              8.0   \n",
      "\n",
      "   absolute_error  \n",
      "0             2.0  \n",
      "1             2.0  \n",
      "2             3.0  \n",
      "\n",
      "Processing model: lightgbm_enhanced_lags_cyclic_temporal_interactions\n",
      "Predicted Rides Data for lightgbm_enhanced_lags_cyclic_temporal_interactions at 2025-05-10 07:00:00:\n",
      "Shape: (3, 3)\n",
      "  start_station_name  predicted_rides         pickup_hour\n",
      "0   11 Ave & W 41 St              6.0 2025-05-10 07:00:00\n",
      "2    W 21 St & 6 Ave              3.0 2025-05-10 07:00:00\n",
      "1    W 31 St & 7 Ave              8.0 2025-05-10 07:00:00\n",
      "MAE for lightgbm_enhanced_lags_cyclic_temporal_interactions at 2025-05-10 07:00:00: 1.6667\n",
      "Details:\n",
      "  start_station_name         pickup_hour  rides  predicted_rides  \\\n",
      "0   11 Ave & W 41 St 2025-05-10 07:00:00      7              6.0   \n",
      "1    W 21 St & 6 Ave 2025-05-10 07:00:00      2              3.0   \n",
      "2    W 31 St & 7 Ave 2025-05-10 07:00:00      5              8.0   \n",
      "\n",
      "   absolute_error  \n",
      "0             1.0  \n",
      "1             1.0  \n",
      "2             3.0  \n"
     ]
    }
   ],
   "source": [
    "%load_ext autoreload\n",
    "%autoreload 2\n",
    "import sys\n",
    "import os\n",
    "import hopsworks\n",
    "import pandas as pd\n",
    "from datetime import timedelta\n",
    "\n",
    "# Add the parent directory to the Python path\n",
    "sys.path.append(os.path.abspath(os.path.join(os.getcwd(), \"..\")))\n",
    "\n",
    "import src.config as config\n",
    "from src.inference import get_feature_store\n",
    "\n",
    "# Fetch actual rides without time filtering\n",
    "def fetch_hourly_rides_unfiltered():\n",
    "    fs = get_feature_store()\n",
    "    fg = fs.get_feature_group(\n",
    "        name=\"recent_time_series_hourly_feature_group\",\n",
    "        version=1\n",
    "    )\n",
    "\n",
    "    query = fg.select_all()\n",
    "    return query.read()\n",
    "\n",
    "# Fetch predictions without time filtering\n",
    "def fetch_predictions_unfiltered(feature_group_name):\n",
    "    fs = get_feature_store()\n",
    "    fg = fs.get_feature_group(\n",
    "        name=feature_group_name,\n",
    "        version=1\n",
    "    )\n",
    "\n",
    "    query = fg.select_all()\n",
    "    return query.read()\n",
    "\n",
    "# Fetch actual rides data (unfiltered)\n",
    "df_actual = fetch_hourly_rides_unfiltered()\n",
    "df_actual[\"pickup_hour\"] = pd.to_datetime(df_actual[\"pickup_hour\"]).dt.tz_localize(None)\n",
    "df_actual.sort_values(['start_station_name', 'pickup_hour'], inplace=True)\n",
    "print(\"\\nUnfiltered Actual Rides Data (recent_time_series_hourly_feature_group):\")\n",
    "print(\"Shape:\", df_actual.shape)\n",
    "print(\"pickup_hour range:\", df_actual[\"pickup_hour\"].min(), \"to\", df_actual[\"pickup_hour\"].max())\n",
    "print(df_actual)\n",
    "\n",
    "# Define the list of models and corresponding feature group names\n",
    "models = [\n",
    "    \"baseline_previous_hour\",\n",
    "    \"lightgbm_28days_lags\",\n",
    "    \"lightgbm_top10_features\",\n",
    "    \"gradient_boosting_temporal_features\",\n",
    "    \"lightgbm_enhanced_lags_cyclic_temporal_interactions\"\n",
    "]\n",
    "\n",
    "prediction_feature_groups = {\n",
    "    \"baseline_previous_hour\": \"predictions_model_baseline\",\n",
    "    \"lightgbm_28days_lags\": \"predictions_model_lgbm_28days\",\n",
    "    \"lightgbm_top10_features\": \"predictions_model_lgbm_top10\",\n",
    "    \"gradient_boosting_temporal_features\": \"predictions_model_gbt\",\n",
    "    \"lightgbm_enhanced_lags_cyclic_temporal_interactions\": \"predictions_model_lgbm_enhanced\"\n",
    "}\n",
    "\n",
    "# Fetch unfiltered predictions for all models to inspect available hours\n",
    "all_predictions = {}\n",
    "for model_name in models:\n",
    "    df_pred = fetch_predictions_unfiltered(prediction_feature_groups[model_name])\n",
    "    df_pred[\"pickup_hour\"] = pd.to_datetime(df_pred[\"pickup_hour\"]).dt.tz_localize(None)\n",
    "    df_pred.sort_values(['start_station_name', 'pickup_hour'], inplace=True)\n",
    "    print(f\"\\nUnfiltered Predicted Rides Data ({prediction_feature_groups[model_name]}):\")\n",
    "    print(\"Shape:\", df_pred.shape)\n",
    "    print(\"pickup_hour range:\", df_pred[\"pickup_hour\"].min(), \"to\", df_pred[\"pickup_hour\"].max())\n",
    "    print(df_pred)\n",
    "    all_predictions[model_name] = df_pred\n",
    "\n",
    "# Determine the most recent hour in df_actual\n",
    "if df_actual.empty:\n",
    "    print(\"No actual rides data found. Cannot proceed.\")\n",
    "else:\n",
    "    recent_actual_hour = df_actual[\"pickup_hour\"].max()\n",
    "    print(f\"\\nMost recent actual rides hour: {recent_actual_hour}\")\n",
    "\n",
    "    # Filter actual rides for the most recent hour\n",
    "    df_actual_filtered = df_actual[df_actual[\"pickup_hour\"] == recent_actual_hour]\n",
    "    print(\"\\nFiltered Actual Rides Data:\")\n",
    "    print(\"Shape:\", df_actual_filtered.shape)\n",
    "    print(df_actual_filtered)\n",
    "\n",
    "    # Check if predictions exist for this hour and calculate MAE\n",
    "    for model_name in models:\n",
    "        print(f\"\\nProcessing model: {model_name}\")\n",
    "        \n",
    "        # Filter predictions for the most recent actual hour\n",
    "        df_pred = all_predictions[model_name]\n",
    "        df_pred_filtered = df_pred[df_pred[\"pickup_hour\"] == recent_actual_hour]\n",
    "\n",
    "        print(f\"Predicted Rides Data for {model_name} at {recent_actual_hour}:\")\n",
    "        print(\"Shape:\", df_pred_filtered.shape)\n",
    "        print(df_pred_filtered)\n",
    "\n",
    "        # Merge actual and predicted data\n",
    "        merged_df = pd.merge(df_actual_filtered, df_pred_filtered, on=['start_station_name', 'pickup_hour'], how='inner')\n",
    "        if merged_df.empty:\n",
    "            print(f\"No matching data found for {model_name} at {recent_actual_hour}. Skipping.\")\n",
    "            continue\n",
    "\n",
    "        # Calculate the absolute error\n",
    "        merged_df['absolute_error'] = abs(merged_df['predicted_rides'] - merged_df['rides'])\n",
    "\n",
    "        # Calculate the MAE for this hour\n",
    "        mae = merged_df['absolute_error'].mean()\n",
    "\n",
    "        # Display the results\n",
    "        print(f\"MAE for {model_name} at {recent_actual_hour}: {mae:.4f}\")\n",
    "        print(\"Details:\")\n",
    "        print(merged_df[['start_station_name', 'pickup_hour', 'rides', 'predicted_rides', 'absolute_error']])"
   ]
  },
  {
   "cell_type": "code",
   "execution_count": 2,
   "id": "5993b73a",
   "metadata": {},
   "outputs": [
    {
     "name": "stdout",
     "output_type": "stream",
     "text": [
      "The autoreload extension is already loaded. To reload it, use:\n",
      "  %reload_ext autoreload\n",
      "2025-05-10 05:06:20,787 INFO: Closing external client and cleaning up certificates.\n",
      "Connection closed.\n",
      "2025-05-10 05:06:20,794 INFO: Initializing external client\n",
      "2025-05-10 05:06:20,794 INFO: Base URL: https://c.app.hopsworks.ai:443\n"
     ]
    },
    {
     "name": "stderr",
     "output_type": "stream",
     "text": [
      "\n",
      "\n",
      "UserWarning: The installed hopsworks client version 4.1.5 may not be compatible with the connected Hopsworks backend version 4.2.0. \n",
      "To ensure compatibility please install the latest bug fix release matching the minor version of your backend (4.2) by running 'pip install hopsworks==4.2.*'\n"
     ]
    },
    {
     "name": "stdout",
     "output_type": "stream",
     "text": [
      "2025-05-10 05:06:21,559 INFO: Python Engine initialized.\n",
      "\n",
      "Logged in to project, explore it here https://c.app.hopsworks.ai:443/p/1225907\n",
      "Finished: Reading data from Hopsworks, using Hopsworks Feature Query Service (0.42s) \n",
      "\n",
      "Actual Rides Data:\n",
      "           pickup_hour start_station_name  rides\n",
      "0  2025-05-09 10:00:00    W 31 St & 7 Ave      7\n",
      "1  2025-05-09 15:00:00    W 31 St & 7 Ave     15\n",
      "2  2025-05-09 17:00:00   11 Ave & W 41 St     21\n",
      "3  2025-05-09 21:00:00   11 Ave & W 41 St      4\n",
      "4  2025-05-10 01:00:00   11 Ave & W 41 St      1\n",
      "..                 ...                ...    ...\n",
      "76 2025-05-10 06:00:00   11 Ave & W 41 St      2\n",
      "77 2025-05-10 06:00:00    W 31 St & 7 Ave     10\n",
      "78 2025-05-10 07:00:00   11 Ave & W 41 St      7\n",
      "79 2025-05-10 07:00:00    W 31 St & 7 Ave      5\n",
      "80 2025-05-10 07:00:00    W 21 St & 6 Ave      2\n",
      "\n",
      "[81 rows x 3 columns]\n",
      "2025-05-10 05:06:23,585 INFO: Closing external client and cleaning up certificates.\n",
      "Connection closed.\n",
      "2025-05-10 05:06:23,604 INFO: Initializing external client\n",
      "2025-05-10 05:06:23,605 INFO: Base URL: https://c.app.hopsworks.ai:443\n"
     ]
    },
    {
     "name": "stderr",
     "output_type": "stream",
     "text": [
      "\n",
      "\n",
      "UserWarning: The installed hopsworks client version 4.1.5 may not be compatible with the connected Hopsworks backend version 4.2.0. \n",
      "To ensure compatibility please install the latest bug fix release matching the minor version of your backend (4.2) by running 'pip install hopsworks==4.2.*'\n"
     ]
    },
    {
     "name": "stdout",
     "output_type": "stream",
     "text": [
      "2025-05-10 05:06:24,276 INFO: Python Engine initialized.\n",
      "\n",
      "Logged in to project, explore it here https://c.app.hopsworks.ai:443/p/1225907\n",
      "\n",
      "Processing model: baseline_previous_hour\n",
      "Finished: Reading data from Hopsworks, using Hopsworks Feature Query Service (0.38s) \n",
      "Predicted Rides Data for baseline_previous_hour:\n",
      "   start_station_name  predicted_rides         pickup_hour\n",
      "0    11 Ave & W 41 St                2 2025-05-10 07:00:00\n",
      "1     W 31 St & 7 Ave               10 2025-05-10 07:00:00\n",
      "2     W 21 St & 6 Ave                3 2025-05-10 07:00:00\n",
      "3    11 Ave & W 41 St               24 2025-05-10 08:00:00\n",
      "4     W 21 St & 6 Ave                9 2025-05-10 08:00:00\n",
      "5     W 31 St & 7 Ave               12 2025-05-10 08:00:00\n",
      "6     W 21 St & 6 Ave                9 2025-05-09 17:00:00\n",
      "7     W 31 St & 7 Ave               12 2025-05-09 17:00:00\n",
      "8    11 Ave & W 41 St               24 2025-05-09 17:00:00\n",
      "9     W 31 St & 7 Ave               23 2025-05-09 09:00:00\n",
      "10   11 Ave & W 41 St               21 2025-05-09 09:00:00\n",
      "11    W 21 St & 6 Ave               22 2025-05-09 09:00:00\n",
      "12    W 21 St & 6 Ave               26 2025-05-10 09:00:00\n",
      "13    W 21 St & 6 Ave                1 2025-05-10 06:00:00\n",
      "14    W 31 St & 7 Ave                7 2025-05-10 09:00:00\n",
      "15    W 31 St & 7 Ave                1 2025-05-10 06:00:00\n",
      "16   11 Ave & W 41 St                1 2025-05-10 09:00:00\n",
      "17   11 Ave & W 41 St                0 2025-05-10 06:00:00\n"
     ]
    },
    {
     "data": {
      "application/vnd.plotly.v1+json": {
       "config": {
        "plotlyServerURL": "https://plot.ly"
       },
       "data": [
        {
         "hovertemplate": "Pickup Hour=%{x}<br>Mean Absolute Error=%{y}<extra></extra>",
         "legendgroup": "",
         "line": {
          "color": "#636efa",
          "dash": "solid"
         },
         "marker": {
          "symbol": "circle"
         },
         "mode": "lines+markers",
         "name": "",
         "orientation": "v",
         "showlegend": false,
         "type": "scatter",
         "x": [
          "2025-05-09T09:00:00.000000",
          "2025-05-09T17:00:00.000000",
          "2025-05-10T06:00:00.000000",
          "2025-05-10T07:00:00.000000"
         ],
         "xaxis": "x",
         "y": {
          "bdata": "AAAAAAAAEEBVVVVVVVUlQFVVVVVVVRFAVVVVVVVVDUA=",
          "dtype": "f8"
         },
         "yaxis": "y"
        }
       ],
       "layout": {
        "legend": {
         "tracegroupgap": 0
        },
        "template": {
         "data": {
          "bar": [
           {
            "error_x": {
             "color": "#2a3f5f"
            },
            "error_y": {
             "color": "#2a3f5f"
            },
            "marker": {
             "line": {
              "color": "#E5ECF6",
              "width": 0.5
             },
             "pattern": {
              "fillmode": "overlay",
              "size": 10,
              "solidity": 0.2
             }
            },
            "type": "bar"
           }
          ],
          "barpolar": [
           {
            "marker": {
             "line": {
              "color": "#E5ECF6",
              "width": 0.5
             },
             "pattern": {
              "fillmode": "overlay",
              "size": 10,
              "solidity": 0.2
             }
            },
            "type": "barpolar"
           }
          ],
          "carpet": [
           {
            "aaxis": {
             "endlinecolor": "#2a3f5f",
             "gridcolor": "white",
             "linecolor": "white",
             "minorgridcolor": "white",
             "startlinecolor": "#2a3f5f"
            },
            "baxis": {
             "endlinecolor": "#2a3f5f",
             "gridcolor": "white",
             "linecolor": "white",
             "minorgridcolor": "white",
             "startlinecolor": "#2a3f5f"
            },
            "type": "carpet"
           }
          ],
          "choropleth": [
           {
            "colorbar": {
             "outlinewidth": 0,
             "ticks": ""
            },
            "type": "choropleth"
           }
          ],
          "contour": [
           {
            "colorbar": {
             "outlinewidth": 0,
             "ticks": ""
            },
            "colorscale": [
             [
              0,
              "#0d0887"
             ],
             [
              0.1111111111111111,
              "#46039f"
             ],
             [
              0.2222222222222222,
              "#7201a8"
             ],
             [
              0.3333333333333333,
              "#9c179e"
             ],
             [
              0.4444444444444444,
              "#bd3786"
             ],
             [
              0.5555555555555556,
              "#d8576b"
             ],
             [
              0.6666666666666666,
              "#ed7953"
             ],
             [
              0.7777777777777778,
              "#fb9f3a"
             ],
             [
              0.8888888888888888,
              "#fdca26"
             ],
             [
              1,
              "#f0f921"
             ]
            ],
            "type": "contour"
           }
          ],
          "contourcarpet": [
           {
            "colorbar": {
             "outlinewidth": 0,
             "ticks": ""
            },
            "type": "contourcarpet"
           }
          ],
          "heatmap": [
           {
            "colorbar": {
             "outlinewidth": 0,
             "ticks": ""
            },
            "colorscale": [
             [
              0,
              "#0d0887"
             ],
             [
              0.1111111111111111,
              "#46039f"
             ],
             [
              0.2222222222222222,
              "#7201a8"
             ],
             [
              0.3333333333333333,
              "#9c179e"
             ],
             [
              0.4444444444444444,
              "#bd3786"
             ],
             [
              0.5555555555555556,
              "#d8576b"
             ],
             [
              0.6666666666666666,
              "#ed7953"
             ],
             [
              0.7777777777777778,
              "#fb9f3a"
             ],
             [
              0.8888888888888888,
              "#fdca26"
             ],
             [
              1,
              "#f0f921"
             ]
            ],
            "type": "heatmap"
           }
          ],
          "histogram": [
           {
            "marker": {
             "pattern": {
              "fillmode": "overlay",
              "size": 10,
              "solidity": 0.2
             }
            },
            "type": "histogram"
           }
          ],
          "histogram2d": [
           {
            "colorbar": {
             "outlinewidth": 0,
             "ticks": ""
            },
            "colorscale": [
             [
              0,
              "#0d0887"
             ],
             [
              0.1111111111111111,
              "#46039f"
             ],
             [
              0.2222222222222222,
              "#7201a8"
             ],
             [
              0.3333333333333333,
              "#9c179e"
             ],
             [
              0.4444444444444444,
              "#bd3786"
             ],
             [
              0.5555555555555556,
              "#d8576b"
             ],
             [
              0.6666666666666666,
              "#ed7953"
             ],
             [
              0.7777777777777778,
              "#fb9f3a"
             ],
             [
              0.8888888888888888,
              "#fdca26"
             ],
             [
              1,
              "#f0f921"
             ]
            ],
            "type": "histogram2d"
           }
          ],
          "histogram2dcontour": [
           {
            "colorbar": {
             "outlinewidth": 0,
             "ticks": ""
            },
            "colorscale": [
             [
              0,
              "#0d0887"
             ],
             [
              0.1111111111111111,
              "#46039f"
             ],
             [
              0.2222222222222222,
              "#7201a8"
             ],
             [
              0.3333333333333333,
              "#9c179e"
             ],
             [
              0.4444444444444444,
              "#bd3786"
             ],
             [
              0.5555555555555556,
              "#d8576b"
             ],
             [
              0.6666666666666666,
              "#ed7953"
             ],
             [
              0.7777777777777778,
              "#fb9f3a"
             ],
             [
              0.8888888888888888,
              "#fdca26"
             ],
             [
              1,
              "#f0f921"
             ]
            ],
            "type": "histogram2dcontour"
           }
          ],
          "mesh3d": [
           {
            "colorbar": {
             "outlinewidth": 0,
             "ticks": ""
            },
            "type": "mesh3d"
           }
          ],
          "parcoords": [
           {
            "line": {
             "colorbar": {
              "outlinewidth": 0,
              "ticks": ""
             }
            },
            "type": "parcoords"
           }
          ],
          "pie": [
           {
            "automargin": true,
            "type": "pie"
           }
          ],
          "scatter": [
           {
            "fillpattern": {
             "fillmode": "overlay",
             "size": 10,
             "solidity": 0.2
            },
            "type": "scatter"
           }
          ],
          "scatter3d": [
           {
            "line": {
             "colorbar": {
              "outlinewidth": 0,
              "ticks": ""
             }
            },
            "marker": {
             "colorbar": {
              "outlinewidth": 0,
              "ticks": ""
             }
            },
            "type": "scatter3d"
           }
          ],
          "scattercarpet": [
           {
            "marker": {
             "colorbar": {
              "outlinewidth": 0,
              "ticks": ""
             }
            },
            "type": "scattercarpet"
           }
          ],
          "scattergeo": [
           {
            "marker": {
             "colorbar": {
              "outlinewidth": 0,
              "ticks": ""
             }
            },
            "type": "scattergeo"
           }
          ],
          "scattergl": [
           {
            "marker": {
             "colorbar": {
              "outlinewidth": 0,
              "ticks": ""
             }
            },
            "type": "scattergl"
           }
          ],
          "scattermap": [
           {
            "marker": {
             "colorbar": {
              "outlinewidth": 0,
              "ticks": ""
             }
            },
            "type": "scattermap"
           }
          ],
          "scattermapbox": [
           {
            "marker": {
             "colorbar": {
              "outlinewidth": 0,
              "ticks": ""
             }
            },
            "type": "scattermapbox"
           }
          ],
          "scatterpolar": [
           {
            "marker": {
             "colorbar": {
              "outlinewidth": 0,
              "ticks": ""
             }
            },
            "type": "scatterpolar"
           }
          ],
          "scatterpolargl": [
           {
            "marker": {
             "colorbar": {
              "outlinewidth": 0,
              "ticks": ""
             }
            },
            "type": "scatterpolargl"
           }
          ],
          "scatterternary": [
           {
            "marker": {
             "colorbar": {
              "outlinewidth": 0,
              "ticks": ""
             }
            },
            "type": "scatterternary"
           }
          ],
          "surface": [
           {
            "colorbar": {
             "outlinewidth": 0,
             "ticks": ""
            },
            "colorscale": [
             [
              0,
              "#0d0887"
             ],
             [
              0.1111111111111111,
              "#46039f"
             ],
             [
              0.2222222222222222,
              "#7201a8"
             ],
             [
              0.3333333333333333,
              "#9c179e"
             ],
             [
              0.4444444444444444,
              "#bd3786"
             ],
             [
              0.5555555555555556,
              "#d8576b"
             ],
             [
              0.6666666666666666,
              "#ed7953"
             ],
             [
              0.7777777777777778,
              "#fb9f3a"
             ],
             [
              0.8888888888888888,
              "#fdca26"
             ],
             [
              1,
              "#f0f921"
             ]
            ],
            "type": "surface"
           }
          ],
          "table": [
           {
            "cells": {
             "fill": {
              "color": "#EBF0F8"
             },
             "line": {
              "color": "white"
             }
            },
            "header": {
             "fill": {
              "color": "#C8D4E3"
             },
             "line": {
              "color": "white"
             }
            },
            "type": "table"
           }
          ]
         },
         "layout": {
          "annotationdefaults": {
           "arrowcolor": "#2a3f5f",
           "arrowhead": 0,
           "arrowwidth": 1
          },
          "autotypenumbers": "strict",
          "coloraxis": {
           "colorbar": {
            "outlinewidth": 0,
            "ticks": ""
           }
          },
          "colorscale": {
           "diverging": [
            [
             0,
             "#8e0152"
            ],
            [
             0.1,
             "#c51b7d"
            ],
            [
             0.2,
             "#de77ae"
            ],
            [
             0.3,
             "#f1b6da"
            ],
            [
             0.4,
             "#fde0ef"
            ],
            [
             0.5,
             "#f7f7f7"
            ],
            [
             0.6,
             "#e6f5d0"
            ],
            [
             0.7,
             "#b8e186"
            ],
            [
             0.8,
             "#7fbc41"
            ],
            [
             0.9,
             "#4d9221"
            ],
            [
             1,
             "#276419"
            ]
           ],
           "sequential": [
            [
             0,
             "#0d0887"
            ],
            [
             0.1111111111111111,
             "#46039f"
            ],
            [
             0.2222222222222222,
             "#7201a8"
            ],
            [
             0.3333333333333333,
             "#9c179e"
            ],
            [
             0.4444444444444444,
             "#bd3786"
            ],
            [
             0.5555555555555556,
             "#d8576b"
            ],
            [
             0.6666666666666666,
             "#ed7953"
            ],
            [
             0.7777777777777778,
             "#fb9f3a"
            ],
            [
             0.8888888888888888,
             "#fdca26"
            ],
            [
             1,
             "#f0f921"
            ]
           ],
           "sequentialminus": [
            [
             0,
             "#0d0887"
            ],
            [
             0.1111111111111111,
             "#46039f"
            ],
            [
             0.2222222222222222,
             "#7201a8"
            ],
            [
             0.3333333333333333,
             "#9c179e"
            ],
            [
             0.4444444444444444,
             "#bd3786"
            ],
            [
             0.5555555555555556,
             "#d8576b"
            ],
            [
             0.6666666666666666,
             "#ed7953"
            ],
            [
             0.7777777777777778,
             "#fb9f3a"
            ],
            [
             0.8888888888888888,
             "#fdca26"
            ],
            [
             1,
             "#f0f921"
            ]
           ]
          },
          "colorway": [
           "#636efa",
           "#EF553B",
           "#00cc96",
           "#ab63fa",
           "#FFA15A",
           "#19d3f3",
           "#FF6692",
           "#B6E880",
           "#FF97FF",
           "#FECB52"
          ],
          "font": {
           "color": "#2a3f5f"
          },
          "geo": {
           "bgcolor": "white",
           "lakecolor": "white",
           "landcolor": "#E5ECF6",
           "showlakes": true,
           "showland": true,
           "subunitcolor": "white"
          },
          "hoverlabel": {
           "align": "left"
          },
          "hovermode": "closest",
          "mapbox": {
           "style": "light"
          },
          "paper_bgcolor": "white",
          "plot_bgcolor": "#E5ECF6",
          "polar": {
           "angularaxis": {
            "gridcolor": "white",
            "linecolor": "white",
            "ticks": ""
           },
           "bgcolor": "#E5ECF6",
           "radialaxis": {
            "gridcolor": "white",
            "linecolor": "white",
            "ticks": ""
           }
          },
          "scene": {
           "xaxis": {
            "backgroundcolor": "#E5ECF6",
            "gridcolor": "white",
            "gridwidth": 2,
            "linecolor": "white",
            "showbackground": true,
            "ticks": "",
            "zerolinecolor": "white"
           },
           "yaxis": {
            "backgroundcolor": "#E5ECF6",
            "gridcolor": "white",
            "gridwidth": 2,
            "linecolor": "white",
            "showbackground": true,
            "ticks": "",
            "zerolinecolor": "white"
           },
           "zaxis": {
            "backgroundcolor": "#E5ECF6",
            "gridcolor": "white",
            "gridwidth": 2,
            "linecolor": "white",
            "showbackground": true,
            "ticks": "",
            "zerolinecolor": "white"
           }
          },
          "shapedefaults": {
           "line": {
            "color": "#2a3f5f"
           }
          },
          "ternary": {
           "aaxis": {
            "gridcolor": "white",
            "linecolor": "white",
            "ticks": ""
           },
           "baxis": {
            "gridcolor": "white",
            "linecolor": "white",
            "ticks": ""
           },
           "bgcolor": "#E5ECF6",
           "caxis": {
            "gridcolor": "white",
            "linecolor": "white",
            "ticks": ""
           }
          },
          "title": {
           "x": 0.05
          },
          "xaxis": {
           "automargin": true,
           "gridcolor": "white",
           "linecolor": "white",
           "ticks": "",
           "title": {
            "standoff": 15
           },
           "zerolinecolor": "white",
           "zerolinewidth": 2
          },
          "yaxis": {
           "automargin": true,
           "gridcolor": "white",
           "linecolor": "white",
           "ticks": "",
           "title": {
            "standoff": 15
           },
           "zerolinecolor": "white",
           "zerolinewidth": 2
          }
         }
        },
        "title": {
         "text": "Mean Absolute Error (MAE) by Pickup Hour for baseline_previous_hour"
        },
        "xaxis": {
         "anchor": "y",
         "domain": [
          0,
          1
         ],
         "title": {
          "text": "Pickup Hour"
         }
        },
        "yaxis": {
         "anchor": "x",
         "domain": [
          0,
          1
         ],
         "title": {
          "text": "Mean Absolute Error"
         }
        }
       }
      }
     },
     "metadata": {},
     "output_type": "display_data"
    },
    {
     "name": "stdout",
     "output_type": "stream",
     "text": [
      "Average MAE for baseline_previous_hour: 5.6667\n",
      "\n",
      "Processing model: lightgbm_28days_lags\n",
      "Finished: Reading data from Hopsworks, using Hopsworks Feature Query Service (0.36s) \n",
      "Predicted Rides Data for lightgbm_28days_lags:\n",
      "   start_station_name  predicted_rides         pickup_hour\n",
      "0    11 Ave & W 41 St              2.0 2025-05-10 07:00:00\n",
      "1     W 31 St & 7 Ave              5.0 2025-05-10 07:00:00\n",
      "2     W 21 St & 6 Ave              1.0 2025-05-10 07:00:00\n",
      "3    11 Ave & W 41 St             10.0 2025-05-10 08:00:00\n",
      "4     W 21 St & 6 Ave              5.0 2025-05-10 08:00:00\n",
      "5     W 31 St & 7 Ave              4.0 2025-05-10 08:00:00\n",
      "6     W 21 St & 6 Ave              5.0 2025-05-09 17:00:00\n",
      "7     W 31 St & 7 Ave              4.0 2025-05-09 17:00:00\n",
      "8    11 Ave & W 41 St             10.0 2025-05-09 17:00:00\n",
      "9     W 31 St & 7 Ave             16.0 2025-05-09 09:00:00\n",
      "10   11 Ave & W 41 St             16.0 2025-05-09 09:00:00\n",
      "11    W 21 St & 6 Ave             10.0 2025-05-09 09:00:00\n",
      "12    W 21 St & 6 Ave              6.0 2025-05-10 09:00:00\n",
      "13    W 21 St & 6 Ave              1.0 2025-05-10 06:00:00\n",
      "14    W 31 St & 7 Ave              3.0 2025-05-10 09:00:00\n",
      "15    W 31 St & 7 Ave              2.0 2025-05-10 06:00:00\n",
      "16   11 Ave & W 41 St             11.0 2025-05-10 09:00:00\n",
      "17   11 Ave & W 41 St              1.0 2025-05-10 06:00:00\n"
     ]
    },
    {
     "data": {
      "application/vnd.plotly.v1+json": {
       "config": {
        "plotlyServerURL": "https://plot.ly"
       },
       "data": [
        {
         "hovertemplate": "Pickup Hour=%{x}<br>Mean Absolute Error=%{y}<extra></extra>",
         "legendgroup": "",
         "line": {
          "color": "#636efa",
          "dash": "solid"
         },
         "marker": {
          "symbol": "circle"
         },
         "mode": "lines+markers",
         "name": "",
         "orientation": "v",
         "showlegend": false,
         "type": "scatter",
         "x": [
          "2025-05-09T09:00:00.000000",
          "2025-05-09T17:00:00.000000",
          "2025-05-10T06:00:00.000000",
          "2025-05-10T07:00:00.000000"
         ],
         "xaxis": "x",
         "y": {
          "bdata": "AAAAAAAAGEBVVVVVVVUxQFVVVVVVVQ1AAAAAAAAAAEA=",
          "dtype": "f8"
         },
         "yaxis": "y"
        }
       ],
       "layout": {
        "legend": {
         "tracegroupgap": 0
        },
        "template": {
         "data": {
          "bar": [
           {
            "error_x": {
             "color": "#2a3f5f"
            },
            "error_y": {
             "color": "#2a3f5f"
            },
            "marker": {
             "line": {
              "color": "#E5ECF6",
              "width": 0.5
             },
             "pattern": {
              "fillmode": "overlay",
              "size": 10,
              "solidity": 0.2
             }
            },
            "type": "bar"
           }
          ],
          "barpolar": [
           {
            "marker": {
             "line": {
              "color": "#E5ECF6",
              "width": 0.5
             },
             "pattern": {
              "fillmode": "overlay",
              "size": 10,
              "solidity": 0.2
             }
            },
            "type": "barpolar"
           }
          ],
          "carpet": [
           {
            "aaxis": {
             "endlinecolor": "#2a3f5f",
             "gridcolor": "white",
             "linecolor": "white",
             "minorgridcolor": "white",
             "startlinecolor": "#2a3f5f"
            },
            "baxis": {
             "endlinecolor": "#2a3f5f",
             "gridcolor": "white",
             "linecolor": "white",
             "minorgridcolor": "white",
             "startlinecolor": "#2a3f5f"
            },
            "type": "carpet"
           }
          ],
          "choropleth": [
           {
            "colorbar": {
             "outlinewidth": 0,
             "ticks": ""
            },
            "type": "choropleth"
           }
          ],
          "contour": [
           {
            "colorbar": {
             "outlinewidth": 0,
             "ticks": ""
            },
            "colorscale": [
             [
              0,
              "#0d0887"
             ],
             [
              0.1111111111111111,
              "#46039f"
             ],
             [
              0.2222222222222222,
              "#7201a8"
             ],
             [
              0.3333333333333333,
              "#9c179e"
             ],
             [
              0.4444444444444444,
              "#bd3786"
             ],
             [
              0.5555555555555556,
              "#d8576b"
             ],
             [
              0.6666666666666666,
              "#ed7953"
             ],
             [
              0.7777777777777778,
              "#fb9f3a"
             ],
             [
              0.8888888888888888,
              "#fdca26"
             ],
             [
              1,
              "#f0f921"
             ]
            ],
            "type": "contour"
           }
          ],
          "contourcarpet": [
           {
            "colorbar": {
             "outlinewidth": 0,
             "ticks": ""
            },
            "type": "contourcarpet"
           }
          ],
          "heatmap": [
           {
            "colorbar": {
             "outlinewidth": 0,
             "ticks": ""
            },
            "colorscale": [
             [
              0,
              "#0d0887"
             ],
             [
              0.1111111111111111,
              "#46039f"
             ],
             [
              0.2222222222222222,
              "#7201a8"
             ],
             [
              0.3333333333333333,
              "#9c179e"
             ],
             [
              0.4444444444444444,
              "#bd3786"
             ],
             [
              0.5555555555555556,
              "#d8576b"
             ],
             [
              0.6666666666666666,
              "#ed7953"
             ],
             [
              0.7777777777777778,
              "#fb9f3a"
             ],
             [
              0.8888888888888888,
              "#fdca26"
             ],
             [
              1,
              "#f0f921"
             ]
            ],
            "type": "heatmap"
           }
          ],
          "histogram": [
           {
            "marker": {
             "pattern": {
              "fillmode": "overlay",
              "size": 10,
              "solidity": 0.2
             }
            },
            "type": "histogram"
           }
          ],
          "histogram2d": [
           {
            "colorbar": {
             "outlinewidth": 0,
             "ticks": ""
            },
            "colorscale": [
             [
              0,
              "#0d0887"
             ],
             [
              0.1111111111111111,
              "#46039f"
             ],
             [
              0.2222222222222222,
              "#7201a8"
             ],
             [
              0.3333333333333333,
              "#9c179e"
             ],
             [
              0.4444444444444444,
              "#bd3786"
             ],
             [
              0.5555555555555556,
              "#d8576b"
             ],
             [
              0.6666666666666666,
              "#ed7953"
             ],
             [
              0.7777777777777778,
              "#fb9f3a"
             ],
             [
              0.8888888888888888,
              "#fdca26"
             ],
             [
              1,
              "#f0f921"
             ]
            ],
            "type": "histogram2d"
           }
          ],
          "histogram2dcontour": [
           {
            "colorbar": {
             "outlinewidth": 0,
             "ticks": ""
            },
            "colorscale": [
             [
              0,
              "#0d0887"
             ],
             [
              0.1111111111111111,
              "#46039f"
             ],
             [
              0.2222222222222222,
              "#7201a8"
             ],
             [
              0.3333333333333333,
              "#9c179e"
             ],
             [
              0.4444444444444444,
              "#bd3786"
             ],
             [
              0.5555555555555556,
              "#d8576b"
             ],
             [
              0.6666666666666666,
              "#ed7953"
             ],
             [
              0.7777777777777778,
              "#fb9f3a"
             ],
             [
              0.8888888888888888,
              "#fdca26"
             ],
             [
              1,
              "#f0f921"
             ]
            ],
            "type": "histogram2dcontour"
           }
          ],
          "mesh3d": [
           {
            "colorbar": {
             "outlinewidth": 0,
             "ticks": ""
            },
            "type": "mesh3d"
           }
          ],
          "parcoords": [
           {
            "line": {
             "colorbar": {
              "outlinewidth": 0,
              "ticks": ""
             }
            },
            "type": "parcoords"
           }
          ],
          "pie": [
           {
            "automargin": true,
            "type": "pie"
           }
          ],
          "scatter": [
           {
            "fillpattern": {
             "fillmode": "overlay",
             "size": 10,
             "solidity": 0.2
            },
            "type": "scatter"
           }
          ],
          "scatter3d": [
           {
            "line": {
             "colorbar": {
              "outlinewidth": 0,
              "ticks": ""
             }
            },
            "marker": {
             "colorbar": {
              "outlinewidth": 0,
              "ticks": ""
             }
            },
            "type": "scatter3d"
           }
          ],
          "scattercarpet": [
           {
            "marker": {
             "colorbar": {
              "outlinewidth": 0,
              "ticks": ""
             }
            },
            "type": "scattercarpet"
           }
          ],
          "scattergeo": [
           {
            "marker": {
             "colorbar": {
              "outlinewidth": 0,
              "ticks": ""
             }
            },
            "type": "scattergeo"
           }
          ],
          "scattergl": [
           {
            "marker": {
             "colorbar": {
              "outlinewidth": 0,
              "ticks": ""
             }
            },
            "type": "scattergl"
           }
          ],
          "scattermap": [
           {
            "marker": {
             "colorbar": {
              "outlinewidth": 0,
              "ticks": ""
             }
            },
            "type": "scattermap"
           }
          ],
          "scattermapbox": [
           {
            "marker": {
             "colorbar": {
              "outlinewidth": 0,
              "ticks": ""
             }
            },
            "type": "scattermapbox"
           }
          ],
          "scatterpolar": [
           {
            "marker": {
             "colorbar": {
              "outlinewidth": 0,
              "ticks": ""
             }
            },
            "type": "scatterpolar"
           }
          ],
          "scatterpolargl": [
           {
            "marker": {
             "colorbar": {
              "outlinewidth": 0,
              "ticks": ""
             }
            },
            "type": "scatterpolargl"
           }
          ],
          "scatterternary": [
           {
            "marker": {
             "colorbar": {
              "outlinewidth": 0,
              "ticks": ""
             }
            },
            "type": "scatterternary"
           }
          ],
          "surface": [
           {
            "colorbar": {
             "outlinewidth": 0,
             "ticks": ""
            },
            "colorscale": [
             [
              0,
              "#0d0887"
             ],
             [
              0.1111111111111111,
              "#46039f"
             ],
             [
              0.2222222222222222,
              "#7201a8"
             ],
             [
              0.3333333333333333,
              "#9c179e"
             ],
             [
              0.4444444444444444,
              "#bd3786"
             ],
             [
              0.5555555555555556,
              "#d8576b"
             ],
             [
              0.6666666666666666,
              "#ed7953"
             ],
             [
              0.7777777777777778,
              "#fb9f3a"
             ],
             [
              0.8888888888888888,
              "#fdca26"
             ],
             [
              1,
              "#f0f921"
             ]
            ],
            "type": "surface"
           }
          ],
          "table": [
           {
            "cells": {
             "fill": {
              "color": "#EBF0F8"
             },
             "line": {
              "color": "white"
             }
            },
            "header": {
             "fill": {
              "color": "#C8D4E3"
             },
             "line": {
              "color": "white"
             }
            },
            "type": "table"
           }
          ]
         },
         "layout": {
          "annotationdefaults": {
           "arrowcolor": "#2a3f5f",
           "arrowhead": 0,
           "arrowwidth": 1
          },
          "autotypenumbers": "strict",
          "coloraxis": {
           "colorbar": {
            "outlinewidth": 0,
            "ticks": ""
           }
          },
          "colorscale": {
           "diverging": [
            [
             0,
             "#8e0152"
            ],
            [
             0.1,
             "#c51b7d"
            ],
            [
             0.2,
             "#de77ae"
            ],
            [
             0.3,
             "#f1b6da"
            ],
            [
             0.4,
             "#fde0ef"
            ],
            [
             0.5,
             "#f7f7f7"
            ],
            [
             0.6,
             "#e6f5d0"
            ],
            [
             0.7,
             "#b8e186"
            ],
            [
             0.8,
             "#7fbc41"
            ],
            [
             0.9,
             "#4d9221"
            ],
            [
             1,
             "#276419"
            ]
           ],
           "sequential": [
            [
             0,
             "#0d0887"
            ],
            [
             0.1111111111111111,
             "#46039f"
            ],
            [
             0.2222222222222222,
             "#7201a8"
            ],
            [
             0.3333333333333333,
             "#9c179e"
            ],
            [
             0.4444444444444444,
             "#bd3786"
            ],
            [
             0.5555555555555556,
             "#d8576b"
            ],
            [
             0.6666666666666666,
             "#ed7953"
            ],
            [
             0.7777777777777778,
             "#fb9f3a"
            ],
            [
             0.8888888888888888,
             "#fdca26"
            ],
            [
             1,
             "#f0f921"
            ]
           ],
           "sequentialminus": [
            [
             0,
             "#0d0887"
            ],
            [
             0.1111111111111111,
             "#46039f"
            ],
            [
             0.2222222222222222,
             "#7201a8"
            ],
            [
             0.3333333333333333,
             "#9c179e"
            ],
            [
             0.4444444444444444,
             "#bd3786"
            ],
            [
             0.5555555555555556,
             "#d8576b"
            ],
            [
             0.6666666666666666,
             "#ed7953"
            ],
            [
             0.7777777777777778,
             "#fb9f3a"
            ],
            [
             0.8888888888888888,
             "#fdca26"
            ],
            [
             1,
             "#f0f921"
            ]
           ]
          },
          "colorway": [
           "#636efa",
           "#EF553B",
           "#00cc96",
           "#ab63fa",
           "#FFA15A",
           "#19d3f3",
           "#FF6692",
           "#B6E880",
           "#FF97FF",
           "#FECB52"
          ],
          "font": {
           "color": "#2a3f5f"
          },
          "geo": {
           "bgcolor": "white",
           "lakecolor": "white",
           "landcolor": "#E5ECF6",
           "showlakes": true,
           "showland": true,
           "subunitcolor": "white"
          },
          "hoverlabel": {
           "align": "left"
          },
          "hovermode": "closest",
          "mapbox": {
           "style": "light"
          },
          "paper_bgcolor": "white",
          "plot_bgcolor": "#E5ECF6",
          "polar": {
           "angularaxis": {
            "gridcolor": "white",
            "linecolor": "white",
            "ticks": ""
           },
           "bgcolor": "#E5ECF6",
           "radialaxis": {
            "gridcolor": "white",
            "linecolor": "white",
            "ticks": ""
           }
          },
          "scene": {
           "xaxis": {
            "backgroundcolor": "#E5ECF6",
            "gridcolor": "white",
            "gridwidth": 2,
            "linecolor": "white",
            "showbackground": true,
            "ticks": "",
            "zerolinecolor": "white"
           },
           "yaxis": {
            "backgroundcolor": "#E5ECF6",
            "gridcolor": "white",
            "gridwidth": 2,
            "linecolor": "white",
            "showbackground": true,
            "ticks": "",
            "zerolinecolor": "white"
           },
           "zaxis": {
            "backgroundcolor": "#E5ECF6",
            "gridcolor": "white",
            "gridwidth": 2,
            "linecolor": "white",
            "showbackground": true,
            "ticks": "",
            "zerolinecolor": "white"
           }
          },
          "shapedefaults": {
           "line": {
            "color": "#2a3f5f"
           }
          },
          "ternary": {
           "aaxis": {
            "gridcolor": "white",
            "linecolor": "white",
            "ticks": ""
           },
           "baxis": {
            "gridcolor": "white",
            "linecolor": "white",
            "ticks": ""
           },
           "bgcolor": "#E5ECF6",
           "caxis": {
            "gridcolor": "white",
            "linecolor": "white",
            "ticks": ""
           }
          },
          "title": {
           "x": 0.05
          },
          "xaxis": {
           "automargin": true,
           "gridcolor": "white",
           "linecolor": "white",
           "ticks": "",
           "title": {
            "standoff": 15
           },
           "zerolinecolor": "white",
           "zerolinewidth": 2
          },
          "yaxis": {
           "automargin": true,
           "gridcolor": "white",
           "linecolor": "white",
           "ticks": "",
           "title": {
            "standoff": 15
           },
           "zerolinecolor": "white",
           "zerolinewidth": 2
          }
         }
        },
        "title": {
         "text": "Mean Absolute Error (MAE) by Pickup Hour for lightgbm_28days_lags"
        },
        "xaxis": {
         "anchor": "y",
         "domain": [
          0,
          1
         ],
         "title": {
          "text": "Pickup Hour"
         }
        },
        "yaxis": {
         "anchor": "x",
         "domain": [
          0,
          1
         ],
         "title": {
          "text": "Mean Absolute Error"
         }
        }
       }
      }
     },
     "metadata": {},
     "output_type": "display_data"
    },
    {
     "name": "stdout",
     "output_type": "stream",
     "text": [
      "Average MAE for lightgbm_28days_lags: 7.2500\n",
      "\n",
      "Processing model: lightgbm_top10_features\n",
      "Finished: Reading data from Hopsworks, using Hopsworks Feature Query Service (0.39s) \n",
      "Predicted Rides Data for lightgbm_top10_features:\n",
      "   start_station_name  predicted_rides         pickup_hour\n",
      "0    11 Ave & W 41 St              6.0 2025-05-10 07:00:00\n",
      "1     W 31 St & 7 Ave              9.0 2025-05-10 07:00:00\n",
      "2     W 21 St & 6 Ave              3.0 2025-05-10 07:00:00\n",
      "3    11 Ave & W 41 St             14.0 2025-05-10 08:00:00\n",
      "4     W 21 St & 6 Ave              9.0 2025-05-10 08:00:00\n",
      "5     W 31 St & 7 Ave             10.0 2025-05-10 08:00:00\n",
      "6     W 21 St & 6 Ave              9.0 2025-05-09 17:00:00\n",
      "7     W 31 St & 7 Ave             10.0 2025-05-09 17:00:00\n",
      "8    11 Ave & W 41 St             14.0 2025-05-09 17:00:00\n",
      "9     W 31 St & 7 Ave             20.0 2025-05-09 09:00:00\n",
      "10   11 Ave & W 41 St             18.0 2025-05-09 09:00:00\n",
      "11    W 21 St & 6 Ave             16.0 2025-05-09 09:00:00\n",
      "12    W 21 St & 6 Ave              1.0 2025-05-10 06:00:00\n",
      "13    W 31 St & 7 Ave              7.0 2025-05-10 06:00:00\n",
      "14   11 Ave & W 41 St              3.0 2025-05-10 06:00:00\n"
     ]
    },
    {
     "data": {
      "application/vnd.plotly.v1+json": {
       "config": {
        "plotlyServerURL": "https://plot.ly"
       },
       "data": [
        {
         "hovertemplate": "Pickup Hour=%{x}<br>Mean Absolute Error=%{y}<extra></extra>",
         "legendgroup": "",
         "line": {
          "color": "#636efa",
          "dash": "solid"
         },
         "marker": {
          "symbol": "circle"
         },
         "mode": "lines+markers",
         "name": "",
         "orientation": "v",
         "showlegend": false,
         "type": "scatter",
         "x": [
          "2025-05-09T09:00:00.000000",
          "2025-05-09T17:00:00.000000",
          "2025-05-10T06:00:00.000000",
          "2025-05-10T07:00:00.000000"
         ],
         "xaxis": "x",
         "y": {
          "bdata": "q6qqqqqqEkBVVVVVVVUpQAAAAAAAAABAAAAAAAAAAEA=",
          "dtype": "f8"
         },
         "yaxis": "y"
        }
       ],
       "layout": {
        "legend": {
         "tracegroupgap": 0
        },
        "template": {
         "data": {
          "bar": [
           {
            "error_x": {
             "color": "#2a3f5f"
            },
            "error_y": {
             "color": "#2a3f5f"
            },
            "marker": {
             "line": {
              "color": "#E5ECF6",
              "width": 0.5
             },
             "pattern": {
              "fillmode": "overlay",
              "size": 10,
              "solidity": 0.2
             }
            },
            "type": "bar"
           }
          ],
          "barpolar": [
           {
            "marker": {
             "line": {
              "color": "#E5ECF6",
              "width": 0.5
             },
             "pattern": {
              "fillmode": "overlay",
              "size": 10,
              "solidity": 0.2
             }
            },
            "type": "barpolar"
           }
          ],
          "carpet": [
           {
            "aaxis": {
             "endlinecolor": "#2a3f5f",
             "gridcolor": "white",
             "linecolor": "white",
             "minorgridcolor": "white",
             "startlinecolor": "#2a3f5f"
            },
            "baxis": {
             "endlinecolor": "#2a3f5f",
             "gridcolor": "white",
             "linecolor": "white",
             "minorgridcolor": "white",
             "startlinecolor": "#2a3f5f"
            },
            "type": "carpet"
           }
          ],
          "choropleth": [
           {
            "colorbar": {
             "outlinewidth": 0,
             "ticks": ""
            },
            "type": "choropleth"
           }
          ],
          "contour": [
           {
            "colorbar": {
             "outlinewidth": 0,
             "ticks": ""
            },
            "colorscale": [
             [
              0,
              "#0d0887"
             ],
             [
              0.1111111111111111,
              "#46039f"
             ],
             [
              0.2222222222222222,
              "#7201a8"
             ],
             [
              0.3333333333333333,
              "#9c179e"
             ],
             [
              0.4444444444444444,
              "#bd3786"
             ],
             [
              0.5555555555555556,
              "#d8576b"
             ],
             [
              0.6666666666666666,
              "#ed7953"
             ],
             [
              0.7777777777777778,
              "#fb9f3a"
             ],
             [
              0.8888888888888888,
              "#fdca26"
             ],
             [
              1,
              "#f0f921"
             ]
            ],
            "type": "contour"
           }
          ],
          "contourcarpet": [
           {
            "colorbar": {
             "outlinewidth": 0,
             "ticks": ""
            },
            "type": "contourcarpet"
           }
          ],
          "heatmap": [
           {
            "colorbar": {
             "outlinewidth": 0,
             "ticks": ""
            },
            "colorscale": [
             [
              0,
              "#0d0887"
             ],
             [
              0.1111111111111111,
              "#46039f"
             ],
             [
              0.2222222222222222,
              "#7201a8"
             ],
             [
              0.3333333333333333,
              "#9c179e"
             ],
             [
              0.4444444444444444,
              "#bd3786"
             ],
             [
              0.5555555555555556,
              "#d8576b"
             ],
             [
              0.6666666666666666,
              "#ed7953"
             ],
             [
              0.7777777777777778,
              "#fb9f3a"
             ],
             [
              0.8888888888888888,
              "#fdca26"
             ],
             [
              1,
              "#f0f921"
             ]
            ],
            "type": "heatmap"
           }
          ],
          "histogram": [
           {
            "marker": {
             "pattern": {
              "fillmode": "overlay",
              "size": 10,
              "solidity": 0.2
             }
            },
            "type": "histogram"
           }
          ],
          "histogram2d": [
           {
            "colorbar": {
             "outlinewidth": 0,
             "ticks": ""
            },
            "colorscale": [
             [
              0,
              "#0d0887"
             ],
             [
              0.1111111111111111,
              "#46039f"
             ],
             [
              0.2222222222222222,
              "#7201a8"
             ],
             [
              0.3333333333333333,
              "#9c179e"
             ],
             [
              0.4444444444444444,
              "#bd3786"
             ],
             [
              0.5555555555555556,
              "#d8576b"
             ],
             [
              0.6666666666666666,
              "#ed7953"
             ],
             [
              0.7777777777777778,
              "#fb9f3a"
             ],
             [
              0.8888888888888888,
              "#fdca26"
             ],
             [
              1,
              "#f0f921"
             ]
            ],
            "type": "histogram2d"
           }
          ],
          "histogram2dcontour": [
           {
            "colorbar": {
             "outlinewidth": 0,
             "ticks": ""
            },
            "colorscale": [
             [
              0,
              "#0d0887"
             ],
             [
              0.1111111111111111,
              "#46039f"
             ],
             [
              0.2222222222222222,
              "#7201a8"
             ],
             [
              0.3333333333333333,
              "#9c179e"
             ],
             [
              0.4444444444444444,
              "#bd3786"
             ],
             [
              0.5555555555555556,
              "#d8576b"
             ],
             [
              0.6666666666666666,
              "#ed7953"
             ],
             [
              0.7777777777777778,
              "#fb9f3a"
             ],
             [
              0.8888888888888888,
              "#fdca26"
             ],
             [
              1,
              "#f0f921"
             ]
            ],
            "type": "histogram2dcontour"
           }
          ],
          "mesh3d": [
           {
            "colorbar": {
             "outlinewidth": 0,
             "ticks": ""
            },
            "type": "mesh3d"
           }
          ],
          "parcoords": [
           {
            "line": {
             "colorbar": {
              "outlinewidth": 0,
              "ticks": ""
             }
            },
            "type": "parcoords"
           }
          ],
          "pie": [
           {
            "automargin": true,
            "type": "pie"
           }
          ],
          "scatter": [
           {
            "fillpattern": {
             "fillmode": "overlay",
             "size": 10,
             "solidity": 0.2
            },
            "type": "scatter"
           }
          ],
          "scatter3d": [
           {
            "line": {
             "colorbar": {
              "outlinewidth": 0,
              "ticks": ""
             }
            },
            "marker": {
             "colorbar": {
              "outlinewidth": 0,
              "ticks": ""
             }
            },
            "type": "scatter3d"
           }
          ],
          "scattercarpet": [
           {
            "marker": {
             "colorbar": {
              "outlinewidth": 0,
              "ticks": ""
             }
            },
            "type": "scattercarpet"
           }
          ],
          "scattergeo": [
           {
            "marker": {
             "colorbar": {
              "outlinewidth": 0,
              "ticks": ""
             }
            },
            "type": "scattergeo"
           }
          ],
          "scattergl": [
           {
            "marker": {
             "colorbar": {
              "outlinewidth": 0,
              "ticks": ""
             }
            },
            "type": "scattergl"
           }
          ],
          "scattermap": [
           {
            "marker": {
             "colorbar": {
              "outlinewidth": 0,
              "ticks": ""
             }
            },
            "type": "scattermap"
           }
          ],
          "scattermapbox": [
           {
            "marker": {
             "colorbar": {
              "outlinewidth": 0,
              "ticks": ""
             }
            },
            "type": "scattermapbox"
           }
          ],
          "scatterpolar": [
           {
            "marker": {
             "colorbar": {
              "outlinewidth": 0,
              "ticks": ""
             }
            },
            "type": "scatterpolar"
           }
          ],
          "scatterpolargl": [
           {
            "marker": {
             "colorbar": {
              "outlinewidth": 0,
              "ticks": ""
             }
            },
            "type": "scatterpolargl"
           }
          ],
          "scatterternary": [
           {
            "marker": {
             "colorbar": {
              "outlinewidth": 0,
              "ticks": ""
             }
            },
            "type": "scatterternary"
           }
          ],
          "surface": [
           {
            "colorbar": {
             "outlinewidth": 0,
             "ticks": ""
            },
            "colorscale": [
             [
              0,
              "#0d0887"
             ],
             [
              0.1111111111111111,
              "#46039f"
             ],
             [
              0.2222222222222222,
              "#7201a8"
             ],
             [
              0.3333333333333333,
              "#9c179e"
             ],
             [
              0.4444444444444444,
              "#bd3786"
             ],
             [
              0.5555555555555556,
              "#d8576b"
             ],
             [
              0.6666666666666666,
              "#ed7953"
             ],
             [
              0.7777777777777778,
              "#fb9f3a"
             ],
             [
              0.8888888888888888,
              "#fdca26"
             ],
             [
              1,
              "#f0f921"
             ]
            ],
            "type": "surface"
           }
          ],
          "table": [
           {
            "cells": {
             "fill": {
              "color": "#EBF0F8"
             },
             "line": {
              "color": "white"
             }
            },
            "header": {
             "fill": {
              "color": "#C8D4E3"
             },
             "line": {
              "color": "white"
             }
            },
            "type": "table"
           }
          ]
         },
         "layout": {
          "annotationdefaults": {
           "arrowcolor": "#2a3f5f",
           "arrowhead": 0,
           "arrowwidth": 1
          },
          "autotypenumbers": "strict",
          "coloraxis": {
           "colorbar": {
            "outlinewidth": 0,
            "ticks": ""
           }
          },
          "colorscale": {
           "diverging": [
            [
             0,
             "#8e0152"
            ],
            [
             0.1,
             "#c51b7d"
            ],
            [
             0.2,
             "#de77ae"
            ],
            [
             0.3,
             "#f1b6da"
            ],
            [
             0.4,
             "#fde0ef"
            ],
            [
             0.5,
             "#f7f7f7"
            ],
            [
             0.6,
             "#e6f5d0"
            ],
            [
             0.7,
             "#b8e186"
            ],
            [
             0.8,
             "#7fbc41"
            ],
            [
             0.9,
             "#4d9221"
            ],
            [
             1,
             "#276419"
            ]
           ],
           "sequential": [
            [
             0,
             "#0d0887"
            ],
            [
             0.1111111111111111,
             "#46039f"
            ],
            [
             0.2222222222222222,
             "#7201a8"
            ],
            [
             0.3333333333333333,
             "#9c179e"
            ],
            [
             0.4444444444444444,
             "#bd3786"
            ],
            [
             0.5555555555555556,
             "#d8576b"
            ],
            [
             0.6666666666666666,
             "#ed7953"
            ],
            [
             0.7777777777777778,
             "#fb9f3a"
            ],
            [
             0.8888888888888888,
             "#fdca26"
            ],
            [
             1,
             "#f0f921"
            ]
           ],
           "sequentialminus": [
            [
             0,
             "#0d0887"
            ],
            [
             0.1111111111111111,
             "#46039f"
            ],
            [
             0.2222222222222222,
             "#7201a8"
            ],
            [
             0.3333333333333333,
             "#9c179e"
            ],
            [
             0.4444444444444444,
             "#bd3786"
            ],
            [
             0.5555555555555556,
             "#d8576b"
            ],
            [
             0.6666666666666666,
             "#ed7953"
            ],
            [
             0.7777777777777778,
             "#fb9f3a"
            ],
            [
             0.8888888888888888,
             "#fdca26"
            ],
            [
             1,
             "#f0f921"
            ]
           ]
          },
          "colorway": [
           "#636efa",
           "#EF553B",
           "#00cc96",
           "#ab63fa",
           "#FFA15A",
           "#19d3f3",
           "#FF6692",
           "#B6E880",
           "#FF97FF",
           "#FECB52"
          ],
          "font": {
           "color": "#2a3f5f"
          },
          "geo": {
           "bgcolor": "white",
           "lakecolor": "white",
           "landcolor": "#E5ECF6",
           "showlakes": true,
           "showland": true,
           "subunitcolor": "white"
          },
          "hoverlabel": {
           "align": "left"
          },
          "hovermode": "closest",
          "mapbox": {
           "style": "light"
          },
          "paper_bgcolor": "white",
          "plot_bgcolor": "#E5ECF6",
          "polar": {
           "angularaxis": {
            "gridcolor": "white",
            "linecolor": "white",
            "ticks": ""
           },
           "bgcolor": "#E5ECF6",
           "radialaxis": {
            "gridcolor": "white",
            "linecolor": "white",
            "ticks": ""
           }
          },
          "scene": {
           "xaxis": {
            "backgroundcolor": "#E5ECF6",
            "gridcolor": "white",
            "gridwidth": 2,
            "linecolor": "white",
            "showbackground": true,
            "ticks": "",
            "zerolinecolor": "white"
           },
           "yaxis": {
            "backgroundcolor": "#E5ECF6",
            "gridcolor": "white",
            "gridwidth": 2,
            "linecolor": "white",
            "showbackground": true,
            "ticks": "",
            "zerolinecolor": "white"
           },
           "zaxis": {
            "backgroundcolor": "#E5ECF6",
            "gridcolor": "white",
            "gridwidth": 2,
            "linecolor": "white",
            "showbackground": true,
            "ticks": "",
            "zerolinecolor": "white"
           }
          },
          "shapedefaults": {
           "line": {
            "color": "#2a3f5f"
           }
          },
          "ternary": {
           "aaxis": {
            "gridcolor": "white",
            "linecolor": "white",
            "ticks": ""
           },
           "baxis": {
            "gridcolor": "white",
            "linecolor": "white",
            "ticks": ""
           },
           "bgcolor": "#E5ECF6",
           "caxis": {
            "gridcolor": "white",
            "linecolor": "white",
            "ticks": ""
           }
          },
          "title": {
           "x": 0.05
          },
          "xaxis": {
           "automargin": true,
           "gridcolor": "white",
           "linecolor": "white",
           "ticks": "",
           "title": {
            "standoff": 15
           },
           "zerolinecolor": "white",
           "zerolinewidth": 2
          },
          "yaxis": {
           "automargin": true,
           "gridcolor": "white",
           "linecolor": "white",
           "ticks": "",
           "title": {
            "standoff": 15
           },
           "zerolinecolor": "white",
           "zerolinewidth": 2
          }
         }
        },
        "title": {
         "text": "Mean Absolute Error (MAE) by Pickup Hour for lightgbm_top10_features"
        },
        "xaxis": {
         "anchor": "y",
         "domain": [
          0,
          1
         ],
         "title": {
          "text": "Pickup Hour"
         }
        },
        "yaxis": {
         "anchor": "x",
         "domain": [
          0,
          1
         ],
         "title": {
          "text": "Mean Absolute Error"
         }
        }
       }
      }
     },
     "metadata": {},
     "output_type": "display_data"
    },
    {
     "name": "stdout",
     "output_type": "stream",
     "text": [
      "Average MAE for lightgbm_top10_features: 5.3333\n",
      "\n",
      "Processing model: gradient_boosting_temporal_features\n",
      "Finished: Reading data from Hopsworks, using Hopsworks Feature Query Service (0.38s) \n",
      "Predicted Rides Data for gradient_boosting_temporal_features:\n",
      "   start_station_name  predicted_rides         pickup_hour\n",
      "0    11 Ave & W 41 St              7.0 2025-05-10 07:00:00\n",
      "1     W 31 St & 7 Ave              7.0 2025-05-10 07:00:00\n",
      "2     W 21 St & 6 Ave              4.0 2025-05-10 07:00:00\n",
      "3    11 Ave & W 41 St             14.0 2025-05-10 08:00:00\n",
      "4     W 21 St & 6 Ave              9.0 2025-05-10 08:00:00\n",
      "5     W 31 St & 7 Ave             11.0 2025-05-10 08:00:00\n",
      "6     W 21 St & 6 Ave              9.0 2025-05-09 17:00:00\n",
      "7     W 31 St & 7 Ave             11.0 2025-05-09 17:00:00\n",
      "8    11 Ave & W 41 St             14.0 2025-05-09 17:00:00\n",
      "9     W 31 St & 7 Ave             17.0 2025-05-09 09:00:00\n",
      "10   11 Ave & W 41 St             18.0 2025-05-09 09:00:00\n",
      "11    W 21 St & 6 Ave             16.0 2025-05-09 09:00:00\n",
      "12    W 21 St & 6 Ave              2.0 2025-05-10 06:00:00\n",
      "13    W 31 St & 7 Ave              6.0 2025-05-10 06:00:00\n",
      "14   11 Ave & W 41 St              2.0 2025-05-10 06:00:00\n"
     ]
    },
    {
     "data": {
      "application/vnd.plotly.v1+json": {
       "config": {
        "plotlyServerURL": "https://plot.ly"
       },
       "data": [
        {
         "hovertemplate": "Pickup Hour=%{x}<br>Mean Absolute Error=%{y}<extra></extra>",
         "legendgroup": "",
         "line": {
          "color": "#636efa",
          "dash": "solid"
         },
         "marker": {
          "symbol": "circle"
         },
         "mode": "lines+markers",
         "name": "",
         "orientation": "v",
         "showlegend": false,
         "type": "scatter",
         "x": [
          "2025-05-09T09:00:00.000000",
          "2025-05-09T17:00:00.000000",
          "2025-05-10T06:00:00.000000",
          "2025-05-10T07:00:00.000000"
         ],
         "xaxis": "x",
         "y": {
          "bdata": "VVVVVVVVDUCrqqqqqqooQKuqqqqqqvo/VVVVVVVV9T8=",
          "dtype": "f8"
         },
         "yaxis": "y"
        }
       ],
       "layout": {
        "legend": {
         "tracegroupgap": 0
        },
        "template": {
         "data": {
          "bar": [
           {
            "error_x": {
             "color": "#2a3f5f"
            },
            "error_y": {
             "color": "#2a3f5f"
            },
            "marker": {
             "line": {
              "color": "#E5ECF6",
              "width": 0.5
             },
             "pattern": {
              "fillmode": "overlay",
              "size": 10,
              "solidity": 0.2
             }
            },
            "type": "bar"
           }
          ],
          "barpolar": [
           {
            "marker": {
             "line": {
              "color": "#E5ECF6",
              "width": 0.5
             },
             "pattern": {
              "fillmode": "overlay",
              "size": 10,
              "solidity": 0.2
             }
            },
            "type": "barpolar"
           }
          ],
          "carpet": [
           {
            "aaxis": {
             "endlinecolor": "#2a3f5f",
             "gridcolor": "white",
             "linecolor": "white",
             "minorgridcolor": "white",
             "startlinecolor": "#2a3f5f"
            },
            "baxis": {
             "endlinecolor": "#2a3f5f",
             "gridcolor": "white",
             "linecolor": "white",
             "minorgridcolor": "white",
             "startlinecolor": "#2a3f5f"
            },
            "type": "carpet"
           }
          ],
          "choropleth": [
           {
            "colorbar": {
             "outlinewidth": 0,
             "ticks": ""
            },
            "type": "choropleth"
           }
          ],
          "contour": [
           {
            "colorbar": {
             "outlinewidth": 0,
             "ticks": ""
            },
            "colorscale": [
             [
              0,
              "#0d0887"
             ],
             [
              0.1111111111111111,
              "#46039f"
             ],
             [
              0.2222222222222222,
              "#7201a8"
             ],
             [
              0.3333333333333333,
              "#9c179e"
             ],
             [
              0.4444444444444444,
              "#bd3786"
             ],
             [
              0.5555555555555556,
              "#d8576b"
             ],
             [
              0.6666666666666666,
              "#ed7953"
             ],
             [
              0.7777777777777778,
              "#fb9f3a"
             ],
             [
              0.8888888888888888,
              "#fdca26"
             ],
             [
              1,
              "#f0f921"
             ]
            ],
            "type": "contour"
           }
          ],
          "contourcarpet": [
           {
            "colorbar": {
             "outlinewidth": 0,
             "ticks": ""
            },
            "type": "contourcarpet"
           }
          ],
          "heatmap": [
           {
            "colorbar": {
             "outlinewidth": 0,
             "ticks": ""
            },
            "colorscale": [
             [
              0,
              "#0d0887"
             ],
             [
              0.1111111111111111,
              "#46039f"
             ],
             [
              0.2222222222222222,
              "#7201a8"
             ],
             [
              0.3333333333333333,
              "#9c179e"
             ],
             [
              0.4444444444444444,
              "#bd3786"
             ],
             [
              0.5555555555555556,
              "#d8576b"
             ],
             [
              0.6666666666666666,
              "#ed7953"
             ],
             [
              0.7777777777777778,
              "#fb9f3a"
             ],
             [
              0.8888888888888888,
              "#fdca26"
             ],
             [
              1,
              "#f0f921"
             ]
            ],
            "type": "heatmap"
           }
          ],
          "histogram": [
           {
            "marker": {
             "pattern": {
              "fillmode": "overlay",
              "size": 10,
              "solidity": 0.2
             }
            },
            "type": "histogram"
           }
          ],
          "histogram2d": [
           {
            "colorbar": {
             "outlinewidth": 0,
             "ticks": ""
            },
            "colorscale": [
             [
              0,
              "#0d0887"
             ],
             [
              0.1111111111111111,
              "#46039f"
             ],
             [
              0.2222222222222222,
              "#7201a8"
             ],
             [
              0.3333333333333333,
              "#9c179e"
             ],
             [
              0.4444444444444444,
              "#bd3786"
             ],
             [
              0.5555555555555556,
              "#d8576b"
             ],
             [
              0.6666666666666666,
              "#ed7953"
             ],
             [
              0.7777777777777778,
              "#fb9f3a"
             ],
             [
              0.8888888888888888,
              "#fdca26"
             ],
             [
              1,
              "#f0f921"
             ]
            ],
            "type": "histogram2d"
           }
          ],
          "histogram2dcontour": [
           {
            "colorbar": {
             "outlinewidth": 0,
             "ticks": ""
            },
            "colorscale": [
             [
              0,
              "#0d0887"
             ],
             [
              0.1111111111111111,
              "#46039f"
             ],
             [
              0.2222222222222222,
              "#7201a8"
             ],
             [
              0.3333333333333333,
              "#9c179e"
             ],
             [
              0.4444444444444444,
              "#bd3786"
             ],
             [
              0.5555555555555556,
              "#d8576b"
             ],
             [
              0.6666666666666666,
              "#ed7953"
             ],
             [
              0.7777777777777778,
              "#fb9f3a"
             ],
             [
              0.8888888888888888,
              "#fdca26"
             ],
             [
              1,
              "#f0f921"
             ]
            ],
            "type": "histogram2dcontour"
           }
          ],
          "mesh3d": [
           {
            "colorbar": {
             "outlinewidth": 0,
             "ticks": ""
            },
            "type": "mesh3d"
           }
          ],
          "parcoords": [
           {
            "line": {
             "colorbar": {
              "outlinewidth": 0,
              "ticks": ""
             }
            },
            "type": "parcoords"
           }
          ],
          "pie": [
           {
            "automargin": true,
            "type": "pie"
           }
          ],
          "scatter": [
           {
            "fillpattern": {
             "fillmode": "overlay",
             "size": 10,
             "solidity": 0.2
            },
            "type": "scatter"
           }
          ],
          "scatter3d": [
           {
            "line": {
             "colorbar": {
              "outlinewidth": 0,
              "ticks": ""
             }
            },
            "marker": {
             "colorbar": {
              "outlinewidth": 0,
              "ticks": ""
             }
            },
            "type": "scatter3d"
           }
          ],
          "scattercarpet": [
           {
            "marker": {
             "colorbar": {
              "outlinewidth": 0,
              "ticks": ""
             }
            },
            "type": "scattercarpet"
           }
          ],
          "scattergeo": [
           {
            "marker": {
             "colorbar": {
              "outlinewidth": 0,
              "ticks": ""
             }
            },
            "type": "scattergeo"
           }
          ],
          "scattergl": [
           {
            "marker": {
             "colorbar": {
              "outlinewidth": 0,
              "ticks": ""
             }
            },
            "type": "scattergl"
           }
          ],
          "scattermap": [
           {
            "marker": {
             "colorbar": {
              "outlinewidth": 0,
              "ticks": ""
             }
            },
            "type": "scattermap"
           }
          ],
          "scattermapbox": [
           {
            "marker": {
             "colorbar": {
              "outlinewidth": 0,
              "ticks": ""
             }
            },
            "type": "scattermapbox"
           }
          ],
          "scatterpolar": [
           {
            "marker": {
             "colorbar": {
              "outlinewidth": 0,
              "ticks": ""
             }
            },
            "type": "scatterpolar"
           }
          ],
          "scatterpolargl": [
           {
            "marker": {
             "colorbar": {
              "outlinewidth": 0,
              "ticks": ""
             }
            },
            "type": "scatterpolargl"
           }
          ],
          "scatterternary": [
           {
            "marker": {
             "colorbar": {
              "outlinewidth": 0,
              "ticks": ""
             }
            },
            "type": "scatterternary"
           }
          ],
          "surface": [
           {
            "colorbar": {
             "outlinewidth": 0,
             "ticks": ""
            },
            "colorscale": [
             [
              0,
              "#0d0887"
             ],
             [
              0.1111111111111111,
              "#46039f"
             ],
             [
              0.2222222222222222,
              "#7201a8"
             ],
             [
              0.3333333333333333,
              "#9c179e"
             ],
             [
              0.4444444444444444,
              "#bd3786"
             ],
             [
              0.5555555555555556,
              "#d8576b"
             ],
             [
              0.6666666666666666,
              "#ed7953"
             ],
             [
              0.7777777777777778,
              "#fb9f3a"
             ],
             [
              0.8888888888888888,
              "#fdca26"
             ],
             [
              1,
              "#f0f921"
             ]
            ],
            "type": "surface"
           }
          ],
          "table": [
           {
            "cells": {
             "fill": {
              "color": "#EBF0F8"
             },
             "line": {
              "color": "white"
             }
            },
            "header": {
             "fill": {
              "color": "#C8D4E3"
             },
             "line": {
              "color": "white"
             }
            },
            "type": "table"
           }
          ]
         },
         "layout": {
          "annotationdefaults": {
           "arrowcolor": "#2a3f5f",
           "arrowhead": 0,
           "arrowwidth": 1
          },
          "autotypenumbers": "strict",
          "coloraxis": {
           "colorbar": {
            "outlinewidth": 0,
            "ticks": ""
           }
          },
          "colorscale": {
           "diverging": [
            [
             0,
             "#8e0152"
            ],
            [
             0.1,
             "#c51b7d"
            ],
            [
             0.2,
             "#de77ae"
            ],
            [
             0.3,
             "#f1b6da"
            ],
            [
             0.4,
             "#fde0ef"
            ],
            [
             0.5,
             "#f7f7f7"
            ],
            [
             0.6,
             "#e6f5d0"
            ],
            [
             0.7,
             "#b8e186"
            ],
            [
             0.8,
             "#7fbc41"
            ],
            [
             0.9,
             "#4d9221"
            ],
            [
             1,
             "#276419"
            ]
           ],
           "sequential": [
            [
             0,
             "#0d0887"
            ],
            [
             0.1111111111111111,
             "#46039f"
            ],
            [
             0.2222222222222222,
             "#7201a8"
            ],
            [
             0.3333333333333333,
             "#9c179e"
            ],
            [
             0.4444444444444444,
             "#bd3786"
            ],
            [
             0.5555555555555556,
             "#d8576b"
            ],
            [
             0.6666666666666666,
             "#ed7953"
            ],
            [
             0.7777777777777778,
             "#fb9f3a"
            ],
            [
             0.8888888888888888,
             "#fdca26"
            ],
            [
             1,
             "#f0f921"
            ]
           ],
           "sequentialminus": [
            [
             0,
             "#0d0887"
            ],
            [
             0.1111111111111111,
             "#46039f"
            ],
            [
             0.2222222222222222,
             "#7201a8"
            ],
            [
             0.3333333333333333,
             "#9c179e"
            ],
            [
             0.4444444444444444,
             "#bd3786"
            ],
            [
             0.5555555555555556,
             "#d8576b"
            ],
            [
             0.6666666666666666,
             "#ed7953"
            ],
            [
             0.7777777777777778,
             "#fb9f3a"
            ],
            [
             0.8888888888888888,
             "#fdca26"
            ],
            [
             1,
             "#f0f921"
            ]
           ]
          },
          "colorway": [
           "#636efa",
           "#EF553B",
           "#00cc96",
           "#ab63fa",
           "#FFA15A",
           "#19d3f3",
           "#FF6692",
           "#B6E880",
           "#FF97FF",
           "#FECB52"
          ],
          "font": {
           "color": "#2a3f5f"
          },
          "geo": {
           "bgcolor": "white",
           "lakecolor": "white",
           "landcolor": "#E5ECF6",
           "showlakes": true,
           "showland": true,
           "subunitcolor": "white"
          },
          "hoverlabel": {
           "align": "left"
          },
          "hovermode": "closest",
          "mapbox": {
           "style": "light"
          },
          "paper_bgcolor": "white",
          "plot_bgcolor": "#E5ECF6",
          "polar": {
           "angularaxis": {
            "gridcolor": "white",
            "linecolor": "white",
            "ticks": ""
           },
           "bgcolor": "#E5ECF6",
           "radialaxis": {
            "gridcolor": "white",
            "linecolor": "white",
            "ticks": ""
           }
          },
          "scene": {
           "xaxis": {
            "backgroundcolor": "#E5ECF6",
            "gridcolor": "white",
            "gridwidth": 2,
            "linecolor": "white",
            "showbackground": true,
            "ticks": "",
            "zerolinecolor": "white"
           },
           "yaxis": {
            "backgroundcolor": "#E5ECF6",
            "gridcolor": "white",
            "gridwidth": 2,
            "linecolor": "white",
            "showbackground": true,
            "ticks": "",
            "zerolinecolor": "white"
           },
           "zaxis": {
            "backgroundcolor": "#E5ECF6",
            "gridcolor": "white",
            "gridwidth": 2,
            "linecolor": "white",
            "showbackground": true,
            "ticks": "",
            "zerolinecolor": "white"
           }
          },
          "shapedefaults": {
           "line": {
            "color": "#2a3f5f"
           }
          },
          "ternary": {
           "aaxis": {
            "gridcolor": "white",
            "linecolor": "white",
            "ticks": ""
           },
           "baxis": {
            "gridcolor": "white",
            "linecolor": "white",
            "ticks": ""
           },
           "bgcolor": "#E5ECF6",
           "caxis": {
            "gridcolor": "white",
            "linecolor": "white",
            "ticks": ""
           }
          },
          "title": {
           "x": 0.05
          },
          "xaxis": {
           "automargin": true,
           "gridcolor": "white",
           "linecolor": "white",
           "ticks": "",
           "title": {
            "standoff": 15
           },
           "zerolinecolor": "white",
           "zerolinewidth": 2
          },
          "yaxis": {
           "automargin": true,
           "gridcolor": "white",
           "linecolor": "white",
           "ticks": "",
           "title": {
            "standoff": 15
           },
           "zerolinecolor": "white",
           "zerolinewidth": 2
          }
         }
        },
        "title": {
         "text": "Mean Absolute Error (MAE) by Pickup Hour for gradient_boosting_temporal_features"
        },
        "xaxis": {
         "anchor": "y",
         "domain": [
          0,
          1
         ],
         "title": {
          "text": "Pickup Hour"
         }
        },
        "yaxis": {
         "anchor": "x",
         "domain": [
          0,
          1
         ],
         "title": {
          "text": "Mean Absolute Error"
         }
        }
       }
      }
     },
     "metadata": {},
     "output_type": "display_data"
    },
    {
     "name": "stdout",
     "output_type": "stream",
     "text": [
      "Average MAE for gradient_boosting_temporal_features: 4.7500\n",
      "\n",
      "Processing model: lightgbm_enhanced_lags_cyclic_temporal_interactions\n",
      "Finished: Reading data from Hopsworks, using Hopsworks Feature Query Service (0.38s) \n",
      "Predicted Rides Data for lightgbm_enhanced_lags_cyclic_temporal_interactions:\n",
      "   start_station_name  predicted_rides         pickup_hour\n",
      "0    11 Ave & W 41 St              8.0 2025-05-10 07:00:00\n",
      "1     W 31 St & 7 Ave             11.0 2025-05-10 07:00:00\n",
      "2     W 21 St & 6 Ave              5.0 2025-05-10 07:00:00\n",
      "3    11 Ave & W 41 St             13.0 2025-05-10 08:00:00\n",
      "4     W 21 St & 6 Ave             13.0 2025-05-10 08:00:00\n",
      "5     W 31 St & 7 Ave             11.0 2025-05-10 08:00:00\n",
      "6     W 21 St & 6 Ave             13.0 2025-05-09 17:00:00\n",
      "7     W 31 St & 7 Ave             11.0 2025-05-09 17:00:00\n",
      "8    11 Ave & W 41 St             13.0 2025-05-09 17:00:00\n",
      "9     W 31 St & 7 Ave             19.0 2025-05-09 09:00:00\n",
      "10   11 Ave & W 41 St             19.0 2025-05-09 09:00:00\n",
      "11    W 21 St & 6 Ave             19.0 2025-05-09 09:00:00\n",
      "12    W 21 St & 6 Ave              1.0 2025-05-10 06:00:00\n",
      "13    W 31 St & 7 Ave              7.0 2025-05-10 06:00:00\n",
      "14   11 Ave & W 41 St              3.0 2025-05-10 06:00:00\n"
     ]
    },
    {
     "data": {
      "application/vnd.plotly.v1+json": {
       "config": {
        "plotlyServerURL": "https://plot.ly"
       },
       "data": [
        {
         "hovertemplate": "Pickup Hour=%{x}<br>Mean Absolute Error=%{y}<extra></extra>",
         "legendgroup": "",
         "line": {
          "color": "#636efa",
          "dash": "solid"
         },
         "marker": {
          "symbol": "circle"
         },
         "mode": "lines+markers",
         "name": "",
         "orientation": "v",
         "showlegend": false,
         "type": "scatter",
         "x": [
          "2025-05-09T09:00:00.000000",
          "2025-05-09T17:00:00.000000",
          "2025-05-10T06:00:00.000000",
          "2025-05-10T07:00:00.000000"
         ],
         "xaxis": "x",
         "y": {
          "bdata": "AAAAAAAACECrqqqqqqomQAAAAAAAAABAq6qqqqqqCkA=",
          "dtype": "f8"
         },
         "yaxis": "y"
        }
       ],
       "layout": {
        "legend": {
         "tracegroupgap": 0
        },
        "template": {
         "data": {
          "bar": [
           {
            "error_x": {
             "color": "#2a3f5f"
            },
            "error_y": {
             "color": "#2a3f5f"
            },
            "marker": {
             "line": {
              "color": "#E5ECF6",
              "width": 0.5
             },
             "pattern": {
              "fillmode": "overlay",
              "size": 10,
              "solidity": 0.2
             }
            },
            "type": "bar"
           }
          ],
          "barpolar": [
           {
            "marker": {
             "line": {
              "color": "#E5ECF6",
              "width": 0.5
             },
             "pattern": {
              "fillmode": "overlay",
              "size": 10,
              "solidity": 0.2
             }
            },
            "type": "barpolar"
           }
          ],
          "carpet": [
           {
            "aaxis": {
             "endlinecolor": "#2a3f5f",
             "gridcolor": "white",
             "linecolor": "white",
             "minorgridcolor": "white",
             "startlinecolor": "#2a3f5f"
            },
            "baxis": {
             "endlinecolor": "#2a3f5f",
             "gridcolor": "white",
             "linecolor": "white",
             "minorgridcolor": "white",
             "startlinecolor": "#2a3f5f"
            },
            "type": "carpet"
           }
          ],
          "choropleth": [
           {
            "colorbar": {
             "outlinewidth": 0,
             "ticks": ""
            },
            "type": "choropleth"
           }
          ],
          "contour": [
           {
            "colorbar": {
             "outlinewidth": 0,
             "ticks": ""
            },
            "colorscale": [
             [
              0,
              "#0d0887"
             ],
             [
              0.1111111111111111,
              "#46039f"
             ],
             [
              0.2222222222222222,
              "#7201a8"
             ],
             [
              0.3333333333333333,
              "#9c179e"
             ],
             [
              0.4444444444444444,
              "#bd3786"
             ],
             [
              0.5555555555555556,
              "#d8576b"
             ],
             [
              0.6666666666666666,
              "#ed7953"
             ],
             [
              0.7777777777777778,
              "#fb9f3a"
             ],
             [
              0.8888888888888888,
              "#fdca26"
             ],
             [
              1,
              "#f0f921"
             ]
            ],
            "type": "contour"
           }
          ],
          "contourcarpet": [
           {
            "colorbar": {
             "outlinewidth": 0,
             "ticks": ""
            },
            "type": "contourcarpet"
           }
          ],
          "heatmap": [
           {
            "colorbar": {
             "outlinewidth": 0,
             "ticks": ""
            },
            "colorscale": [
             [
              0,
              "#0d0887"
             ],
             [
              0.1111111111111111,
              "#46039f"
             ],
             [
              0.2222222222222222,
              "#7201a8"
             ],
             [
              0.3333333333333333,
              "#9c179e"
             ],
             [
              0.4444444444444444,
              "#bd3786"
             ],
             [
              0.5555555555555556,
              "#d8576b"
             ],
             [
              0.6666666666666666,
              "#ed7953"
             ],
             [
              0.7777777777777778,
              "#fb9f3a"
             ],
             [
              0.8888888888888888,
              "#fdca26"
             ],
             [
              1,
              "#f0f921"
             ]
            ],
            "type": "heatmap"
           }
          ],
          "histogram": [
           {
            "marker": {
             "pattern": {
              "fillmode": "overlay",
              "size": 10,
              "solidity": 0.2
             }
            },
            "type": "histogram"
           }
          ],
          "histogram2d": [
           {
            "colorbar": {
             "outlinewidth": 0,
             "ticks": ""
            },
            "colorscale": [
             [
              0,
              "#0d0887"
             ],
             [
              0.1111111111111111,
              "#46039f"
             ],
             [
              0.2222222222222222,
              "#7201a8"
             ],
             [
              0.3333333333333333,
              "#9c179e"
             ],
             [
              0.4444444444444444,
              "#bd3786"
             ],
             [
              0.5555555555555556,
              "#d8576b"
             ],
             [
              0.6666666666666666,
              "#ed7953"
             ],
             [
              0.7777777777777778,
              "#fb9f3a"
             ],
             [
              0.8888888888888888,
              "#fdca26"
             ],
             [
              1,
              "#f0f921"
             ]
            ],
            "type": "histogram2d"
           }
          ],
          "histogram2dcontour": [
           {
            "colorbar": {
             "outlinewidth": 0,
             "ticks": ""
            },
            "colorscale": [
             [
              0,
              "#0d0887"
             ],
             [
              0.1111111111111111,
              "#46039f"
             ],
             [
              0.2222222222222222,
              "#7201a8"
             ],
             [
              0.3333333333333333,
              "#9c179e"
             ],
             [
              0.4444444444444444,
              "#bd3786"
             ],
             [
              0.5555555555555556,
              "#d8576b"
             ],
             [
              0.6666666666666666,
              "#ed7953"
             ],
             [
              0.7777777777777778,
              "#fb9f3a"
             ],
             [
              0.8888888888888888,
              "#fdca26"
             ],
             [
              1,
              "#f0f921"
             ]
            ],
            "type": "histogram2dcontour"
           }
          ],
          "mesh3d": [
           {
            "colorbar": {
             "outlinewidth": 0,
             "ticks": ""
            },
            "type": "mesh3d"
           }
          ],
          "parcoords": [
           {
            "line": {
             "colorbar": {
              "outlinewidth": 0,
              "ticks": ""
             }
            },
            "type": "parcoords"
           }
          ],
          "pie": [
           {
            "automargin": true,
            "type": "pie"
           }
          ],
          "scatter": [
           {
            "fillpattern": {
             "fillmode": "overlay",
             "size": 10,
             "solidity": 0.2
            },
            "type": "scatter"
           }
          ],
          "scatter3d": [
           {
            "line": {
             "colorbar": {
              "outlinewidth": 0,
              "ticks": ""
             }
            },
            "marker": {
             "colorbar": {
              "outlinewidth": 0,
              "ticks": ""
             }
            },
            "type": "scatter3d"
           }
          ],
          "scattercarpet": [
           {
            "marker": {
             "colorbar": {
              "outlinewidth": 0,
              "ticks": ""
             }
            },
            "type": "scattercarpet"
           }
          ],
          "scattergeo": [
           {
            "marker": {
             "colorbar": {
              "outlinewidth": 0,
              "ticks": ""
             }
            },
            "type": "scattergeo"
           }
          ],
          "scattergl": [
           {
            "marker": {
             "colorbar": {
              "outlinewidth": 0,
              "ticks": ""
             }
            },
            "type": "scattergl"
           }
          ],
          "scattermap": [
           {
            "marker": {
             "colorbar": {
              "outlinewidth": 0,
              "ticks": ""
             }
            },
            "type": "scattermap"
           }
          ],
          "scattermapbox": [
           {
            "marker": {
             "colorbar": {
              "outlinewidth": 0,
              "ticks": ""
             }
            },
            "type": "scattermapbox"
           }
          ],
          "scatterpolar": [
           {
            "marker": {
             "colorbar": {
              "outlinewidth": 0,
              "ticks": ""
             }
            },
            "type": "scatterpolar"
           }
          ],
          "scatterpolargl": [
           {
            "marker": {
             "colorbar": {
              "outlinewidth": 0,
              "ticks": ""
             }
            },
            "type": "scatterpolargl"
           }
          ],
          "scatterternary": [
           {
            "marker": {
             "colorbar": {
              "outlinewidth": 0,
              "ticks": ""
             }
            },
            "type": "scatterternary"
           }
          ],
          "surface": [
           {
            "colorbar": {
             "outlinewidth": 0,
             "ticks": ""
            },
            "colorscale": [
             [
              0,
              "#0d0887"
             ],
             [
              0.1111111111111111,
              "#46039f"
             ],
             [
              0.2222222222222222,
              "#7201a8"
             ],
             [
              0.3333333333333333,
              "#9c179e"
             ],
             [
              0.4444444444444444,
              "#bd3786"
             ],
             [
              0.5555555555555556,
              "#d8576b"
             ],
             [
              0.6666666666666666,
              "#ed7953"
             ],
             [
              0.7777777777777778,
              "#fb9f3a"
             ],
             [
              0.8888888888888888,
              "#fdca26"
             ],
             [
              1,
              "#f0f921"
             ]
            ],
            "type": "surface"
           }
          ],
          "table": [
           {
            "cells": {
             "fill": {
              "color": "#EBF0F8"
             },
             "line": {
              "color": "white"
             }
            },
            "header": {
             "fill": {
              "color": "#C8D4E3"
             },
             "line": {
              "color": "white"
             }
            },
            "type": "table"
           }
          ]
         },
         "layout": {
          "annotationdefaults": {
           "arrowcolor": "#2a3f5f",
           "arrowhead": 0,
           "arrowwidth": 1
          },
          "autotypenumbers": "strict",
          "coloraxis": {
           "colorbar": {
            "outlinewidth": 0,
            "ticks": ""
           }
          },
          "colorscale": {
           "diverging": [
            [
             0,
             "#8e0152"
            ],
            [
             0.1,
             "#c51b7d"
            ],
            [
             0.2,
             "#de77ae"
            ],
            [
             0.3,
             "#f1b6da"
            ],
            [
             0.4,
             "#fde0ef"
            ],
            [
             0.5,
             "#f7f7f7"
            ],
            [
             0.6,
             "#e6f5d0"
            ],
            [
             0.7,
             "#b8e186"
            ],
            [
             0.8,
             "#7fbc41"
            ],
            [
             0.9,
             "#4d9221"
            ],
            [
             1,
             "#276419"
            ]
           ],
           "sequential": [
            [
             0,
             "#0d0887"
            ],
            [
             0.1111111111111111,
             "#46039f"
            ],
            [
             0.2222222222222222,
             "#7201a8"
            ],
            [
             0.3333333333333333,
             "#9c179e"
            ],
            [
             0.4444444444444444,
             "#bd3786"
            ],
            [
             0.5555555555555556,
             "#d8576b"
            ],
            [
             0.6666666666666666,
             "#ed7953"
            ],
            [
             0.7777777777777778,
             "#fb9f3a"
            ],
            [
             0.8888888888888888,
             "#fdca26"
            ],
            [
             1,
             "#f0f921"
            ]
           ],
           "sequentialminus": [
            [
             0,
             "#0d0887"
            ],
            [
             0.1111111111111111,
             "#46039f"
            ],
            [
             0.2222222222222222,
             "#7201a8"
            ],
            [
             0.3333333333333333,
             "#9c179e"
            ],
            [
             0.4444444444444444,
             "#bd3786"
            ],
            [
             0.5555555555555556,
             "#d8576b"
            ],
            [
             0.6666666666666666,
             "#ed7953"
            ],
            [
             0.7777777777777778,
             "#fb9f3a"
            ],
            [
             0.8888888888888888,
             "#fdca26"
            ],
            [
             1,
             "#f0f921"
            ]
           ]
          },
          "colorway": [
           "#636efa",
           "#EF553B",
           "#00cc96",
           "#ab63fa",
           "#FFA15A",
           "#19d3f3",
           "#FF6692",
           "#B6E880",
           "#FF97FF",
           "#FECB52"
          ],
          "font": {
           "color": "#2a3f5f"
          },
          "geo": {
           "bgcolor": "white",
           "lakecolor": "white",
           "landcolor": "#E5ECF6",
           "showlakes": true,
           "showland": true,
           "subunitcolor": "white"
          },
          "hoverlabel": {
           "align": "left"
          },
          "hovermode": "closest",
          "mapbox": {
           "style": "light"
          },
          "paper_bgcolor": "white",
          "plot_bgcolor": "#E5ECF6",
          "polar": {
           "angularaxis": {
            "gridcolor": "white",
            "linecolor": "white",
            "ticks": ""
           },
           "bgcolor": "#E5ECF6",
           "radialaxis": {
            "gridcolor": "white",
            "linecolor": "white",
            "ticks": ""
           }
          },
          "scene": {
           "xaxis": {
            "backgroundcolor": "#E5ECF6",
            "gridcolor": "white",
            "gridwidth": 2,
            "linecolor": "white",
            "showbackground": true,
            "ticks": "",
            "zerolinecolor": "white"
           },
           "yaxis": {
            "backgroundcolor": "#E5ECF6",
            "gridcolor": "white",
            "gridwidth": 2,
            "linecolor": "white",
            "showbackground": true,
            "ticks": "",
            "zerolinecolor": "white"
           },
           "zaxis": {
            "backgroundcolor": "#E5ECF6",
            "gridcolor": "white",
            "gridwidth": 2,
            "linecolor": "white",
            "showbackground": true,
            "ticks": "",
            "zerolinecolor": "white"
           }
          },
          "shapedefaults": {
           "line": {
            "color": "#2a3f5f"
           }
          },
          "ternary": {
           "aaxis": {
            "gridcolor": "white",
            "linecolor": "white",
            "ticks": ""
           },
           "baxis": {
            "gridcolor": "white",
            "linecolor": "white",
            "ticks": ""
           },
           "bgcolor": "#E5ECF6",
           "caxis": {
            "gridcolor": "white",
            "linecolor": "white",
            "ticks": ""
           }
          },
          "title": {
           "x": 0.05
          },
          "xaxis": {
           "automargin": true,
           "gridcolor": "white",
           "linecolor": "white",
           "ticks": "",
           "title": {
            "standoff": 15
           },
           "zerolinecolor": "white",
           "zerolinewidth": 2
          },
          "yaxis": {
           "automargin": true,
           "gridcolor": "white",
           "linecolor": "white",
           "ticks": "",
           "title": {
            "standoff": 15
           },
           "zerolinecolor": "white",
           "zerolinewidth": 2
          }
         }
        },
        "title": {
         "text": "Mean Absolute Error (MAE) by Pickup Hour for lightgbm_enhanced_lags_cyclic_temporal_interactions"
        },
        "xaxis": {
         "anchor": "y",
         "domain": [
          0,
          1
         ],
         "title": {
          "text": "Pickup Hour"
         }
        },
        "yaxis": {
         "anchor": "x",
         "domain": [
          0,
          1
         ],
         "title": {
          "text": "Mean Absolute Error"
         }
        }
       }
      }
     },
     "metadata": {},
     "output_type": "display_data"
    },
    {
     "name": "stdout",
     "output_type": "stream",
     "text": [
      "Average MAE for lightgbm_enhanced_lags_cyclic_temporal_interactions: 4.9167\n"
     ]
    },
    {
     "data": {
      "application/vnd.plotly.v1+json": {
       "config": {
        "plotlyServerURL": "https://plot.ly"
       },
       "data": [
        {
         "hovertemplate": "model=baseline_previous_hour<br>Pickup Hour=%{x}<br>Mean Absolute Error=%{y}<extra></extra>",
         "legendgroup": "baseline_previous_hour",
         "line": {
          "color": "#636efa",
          "dash": "solid"
         },
         "marker": {
          "symbol": "circle"
         },
         "mode": "lines+markers",
         "name": "baseline_previous_hour",
         "orientation": "v",
         "showlegend": true,
         "type": "scatter",
         "x": [
          "2025-05-09T09:00:00.000000",
          "2025-05-09T17:00:00.000000",
          "2025-05-10T06:00:00.000000",
          "2025-05-10T07:00:00.000000"
         ],
         "xaxis": "x",
         "y": {
          "bdata": "AAAAAAAAEEBVVVVVVVUlQFVVVVVVVRFAVVVVVVVVDUA=",
          "dtype": "f8"
         },
         "yaxis": "y"
        },
        {
         "hovertemplate": "model=lightgbm_28days_lags<br>Pickup Hour=%{x}<br>Mean Absolute Error=%{y}<extra></extra>",
         "legendgroup": "lightgbm_28days_lags",
         "line": {
          "color": "#EF553B",
          "dash": "solid"
         },
         "marker": {
          "symbol": "circle"
         },
         "mode": "lines+markers",
         "name": "lightgbm_28days_lags",
         "orientation": "v",
         "showlegend": true,
         "type": "scatter",
         "x": [
          "2025-05-09T09:00:00.000000",
          "2025-05-09T17:00:00.000000",
          "2025-05-10T06:00:00.000000",
          "2025-05-10T07:00:00.000000"
         ],
         "xaxis": "x",
         "y": {
          "bdata": "AAAAAAAAGEBVVVVVVVUxQFVVVVVVVQ1AAAAAAAAAAEA=",
          "dtype": "f8"
         },
         "yaxis": "y"
        },
        {
         "hovertemplate": "model=lightgbm_top10_features<br>Pickup Hour=%{x}<br>Mean Absolute Error=%{y}<extra></extra>",
         "legendgroup": "lightgbm_top10_features",
         "line": {
          "color": "#00cc96",
          "dash": "solid"
         },
         "marker": {
          "symbol": "circle"
         },
         "mode": "lines+markers",
         "name": "lightgbm_top10_features",
         "orientation": "v",
         "showlegend": true,
         "type": "scatter",
         "x": [
          "2025-05-09T09:00:00.000000",
          "2025-05-09T17:00:00.000000",
          "2025-05-10T06:00:00.000000",
          "2025-05-10T07:00:00.000000"
         ],
         "xaxis": "x",
         "y": {
          "bdata": "q6qqqqqqEkBVVVVVVVUpQAAAAAAAAABAAAAAAAAAAEA=",
          "dtype": "f8"
         },
         "yaxis": "y"
        },
        {
         "hovertemplate": "model=gradient_boosting_temporal_features<br>Pickup Hour=%{x}<br>Mean Absolute Error=%{y}<extra></extra>",
         "legendgroup": "gradient_boosting_temporal_features",
         "line": {
          "color": "#ab63fa",
          "dash": "solid"
         },
         "marker": {
          "symbol": "circle"
         },
         "mode": "lines+markers",
         "name": "gradient_boosting_temporal_features",
         "orientation": "v",
         "showlegend": true,
         "type": "scatter",
         "x": [
          "2025-05-09T09:00:00.000000",
          "2025-05-09T17:00:00.000000",
          "2025-05-10T06:00:00.000000",
          "2025-05-10T07:00:00.000000"
         ],
         "xaxis": "x",
         "y": {
          "bdata": "VVVVVVVVDUCrqqqqqqooQKuqqqqqqvo/VVVVVVVV9T8=",
          "dtype": "f8"
         },
         "yaxis": "y"
        },
        {
         "hovertemplate": "model=lightgbm_enhanced_lags_cyclic_temporal_interactions<br>Pickup Hour=%{x}<br>Mean Absolute Error=%{y}<extra></extra>",
         "legendgroup": "lightgbm_enhanced_lags_cyclic_temporal_interactions",
         "line": {
          "color": "#FFA15A",
          "dash": "solid"
         },
         "marker": {
          "symbol": "circle"
         },
         "mode": "lines+markers",
         "name": "lightgbm_enhanced_lags_cyclic_temporal_interactions",
         "orientation": "v",
         "showlegend": true,
         "type": "scatter",
         "x": [
          "2025-05-09T09:00:00.000000",
          "2025-05-09T17:00:00.000000",
          "2025-05-10T06:00:00.000000",
          "2025-05-10T07:00:00.000000"
         ],
         "xaxis": "x",
         "y": {
          "bdata": "AAAAAAAACECrqqqqqqomQAAAAAAAAABAq6qqqqqqCkA=",
          "dtype": "f8"
         },
         "yaxis": "y"
        }
       ],
       "layout": {
        "legend": {
         "title": {
          "text": "model"
         },
         "tracegroupgap": 0
        },
        "template": {
         "data": {
          "bar": [
           {
            "error_x": {
             "color": "#2a3f5f"
            },
            "error_y": {
             "color": "#2a3f5f"
            },
            "marker": {
             "line": {
              "color": "#E5ECF6",
              "width": 0.5
             },
             "pattern": {
              "fillmode": "overlay",
              "size": 10,
              "solidity": 0.2
             }
            },
            "type": "bar"
           }
          ],
          "barpolar": [
           {
            "marker": {
             "line": {
              "color": "#E5ECF6",
              "width": 0.5
             },
             "pattern": {
              "fillmode": "overlay",
              "size": 10,
              "solidity": 0.2
             }
            },
            "type": "barpolar"
           }
          ],
          "carpet": [
           {
            "aaxis": {
             "endlinecolor": "#2a3f5f",
             "gridcolor": "white",
             "linecolor": "white",
             "minorgridcolor": "white",
             "startlinecolor": "#2a3f5f"
            },
            "baxis": {
             "endlinecolor": "#2a3f5f",
             "gridcolor": "white",
             "linecolor": "white",
             "minorgridcolor": "white",
             "startlinecolor": "#2a3f5f"
            },
            "type": "carpet"
           }
          ],
          "choropleth": [
           {
            "colorbar": {
             "outlinewidth": 0,
             "ticks": ""
            },
            "type": "choropleth"
           }
          ],
          "contour": [
           {
            "colorbar": {
             "outlinewidth": 0,
             "ticks": ""
            },
            "colorscale": [
             [
              0,
              "#0d0887"
             ],
             [
              0.1111111111111111,
              "#46039f"
             ],
             [
              0.2222222222222222,
              "#7201a8"
             ],
             [
              0.3333333333333333,
              "#9c179e"
             ],
             [
              0.4444444444444444,
              "#bd3786"
             ],
             [
              0.5555555555555556,
              "#d8576b"
             ],
             [
              0.6666666666666666,
              "#ed7953"
             ],
             [
              0.7777777777777778,
              "#fb9f3a"
             ],
             [
              0.8888888888888888,
              "#fdca26"
             ],
             [
              1,
              "#f0f921"
             ]
            ],
            "type": "contour"
           }
          ],
          "contourcarpet": [
           {
            "colorbar": {
             "outlinewidth": 0,
             "ticks": ""
            },
            "type": "contourcarpet"
           }
          ],
          "heatmap": [
           {
            "colorbar": {
             "outlinewidth": 0,
             "ticks": ""
            },
            "colorscale": [
             [
              0,
              "#0d0887"
             ],
             [
              0.1111111111111111,
              "#46039f"
             ],
             [
              0.2222222222222222,
              "#7201a8"
             ],
             [
              0.3333333333333333,
              "#9c179e"
             ],
             [
              0.4444444444444444,
              "#bd3786"
             ],
             [
              0.5555555555555556,
              "#d8576b"
             ],
             [
              0.6666666666666666,
              "#ed7953"
             ],
             [
              0.7777777777777778,
              "#fb9f3a"
             ],
             [
              0.8888888888888888,
              "#fdca26"
             ],
             [
              1,
              "#f0f921"
             ]
            ],
            "type": "heatmap"
           }
          ],
          "histogram": [
           {
            "marker": {
             "pattern": {
              "fillmode": "overlay",
              "size": 10,
              "solidity": 0.2
             }
            },
            "type": "histogram"
           }
          ],
          "histogram2d": [
           {
            "colorbar": {
             "outlinewidth": 0,
             "ticks": ""
            },
            "colorscale": [
             [
              0,
              "#0d0887"
             ],
             [
              0.1111111111111111,
              "#46039f"
             ],
             [
              0.2222222222222222,
              "#7201a8"
             ],
             [
              0.3333333333333333,
              "#9c179e"
             ],
             [
              0.4444444444444444,
              "#bd3786"
             ],
             [
              0.5555555555555556,
              "#d8576b"
             ],
             [
              0.6666666666666666,
              "#ed7953"
             ],
             [
              0.7777777777777778,
              "#fb9f3a"
             ],
             [
              0.8888888888888888,
              "#fdca26"
             ],
             [
              1,
              "#f0f921"
             ]
            ],
            "type": "histogram2d"
           }
          ],
          "histogram2dcontour": [
           {
            "colorbar": {
             "outlinewidth": 0,
             "ticks": ""
            },
            "colorscale": [
             [
              0,
              "#0d0887"
             ],
             [
              0.1111111111111111,
              "#46039f"
             ],
             [
              0.2222222222222222,
              "#7201a8"
             ],
             [
              0.3333333333333333,
              "#9c179e"
             ],
             [
              0.4444444444444444,
              "#bd3786"
             ],
             [
              0.5555555555555556,
              "#d8576b"
             ],
             [
              0.6666666666666666,
              "#ed7953"
             ],
             [
              0.7777777777777778,
              "#fb9f3a"
             ],
             [
              0.8888888888888888,
              "#fdca26"
             ],
             [
              1,
              "#f0f921"
             ]
            ],
            "type": "histogram2dcontour"
           }
          ],
          "mesh3d": [
           {
            "colorbar": {
             "outlinewidth": 0,
             "ticks": ""
            },
            "type": "mesh3d"
           }
          ],
          "parcoords": [
           {
            "line": {
             "colorbar": {
              "outlinewidth": 0,
              "ticks": ""
             }
            },
            "type": "parcoords"
           }
          ],
          "pie": [
           {
            "automargin": true,
            "type": "pie"
           }
          ],
          "scatter": [
           {
            "fillpattern": {
             "fillmode": "overlay",
             "size": 10,
             "solidity": 0.2
            },
            "type": "scatter"
           }
          ],
          "scatter3d": [
           {
            "line": {
             "colorbar": {
              "outlinewidth": 0,
              "ticks": ""
             }
            },
            "marker": {
             "colorbar": {
              "outlinewidth": 0,
              "ticks": ""
             }
            },
            "type": "scatter3d"
           }
          ],
          "scattercarpet": [
           {
            "marker": {
             "colorbar": {
              "outlinewidth": 0,
              "ticks": ""
             }
            },
            "type": "scattercarpet"
           }
          ],
          "scattergeo": [
           {
            "marker": {
             "colorbar": {
              "outlinewidth": 0,
              "ticks": ""
             }
            },
            "type": "scattergeo"
           }
          ],
          "scattergl": [
           {
            "marker": {
             "colorbar": {
              "outlinewidth": 0,
              "ticks": ""
             }
            },
            "type": "scattergl"
           }
          ],
          "scattermap": [
           {
            "marker": {
             "colorbar": {
              "outlinewidth": 0,
              "ticks": ""
             }
            },
            "type": "scattermap"
           }
          ],
          "scattermapbox": [
           {
            "marker": {
             "colorbar": {
              "outlinewidth": 0,
              "ticks": ""
             }
            },
            "type": "scattermapbox"
           }
          ],
          "scatterpolar": [
           {
            "marker": {
             "colorbar": {
              "outlinewidth": 0,
              "ticks": ""
             }
            },
            "type": "scatterpolar"
           }
          ],
          "scatterpolargl": [
           {
            "marker": {
             "colorbar": {
              "outlinewidth": 0,
              "ticks": ""
             }
            },
            "type": "scatterpolargl"
           }
          ],
          "scatterternary": [
           {
            "marker": {
             "colorbar": {
              "outlinewidth": 0,
              "ticks": ""
             }
            },
            "type": "scatterternary"
           }
          ],
          "surface": [
           {
            "colorbar": {
             "outlinewidth": 0,
             "ticks": ""
            },
            "colorscale": [
             [
              0,
              "#0d0887"
             ],
             [
              0.1111111111111111,
              "#46039f"
             ],
             [
              0.2222222222222222,
              "#7201a8"
             ],
             [
              0.3333333333333333,
              "#9c179e"
             ],
             [
              0.4444444444444444,
              "#bd3786"
             ],
             [
              0.5555555555555556,
              "#d8576b"
             ],
             [
              0.6666666666666666,
              "#ed7953"
             ],
             [
              0.7777777777777778,
              "#fb9f3a"
             ],
             [
              0.8888888888888888,
              "#fdca26"
             ],
             [
              1,
              "#f0f921"
             ]
            ],
            "type": "surface"
           }
          ],
          "table": [
           {
            "cells": {
             "fill": {
              "color": "#EBF0F8"
             },
             "line": {
              "color": "white"
             }
            },
            "header": {
             "fill": {
              "color": "#C8D4E3"
             },
             "line": {
              "color": "white"
             }
            },
            "type": "table"
           }
          ]
         },
         "layout": {
          "annotationdefaults": {
           "arrowcolor": "#2a3f5f",
           "arrowhead": 0,
           "arrowwidth": 1
          },
          "autotypenumbers": "strict",
          "coloraxis": {
           "colorbar": {
            "outlinewidth": 0,
            "ticks": ""
           }
          },
          "colorscale": {
           "diverging": [
            [
             0,
             "#8e0152"
            ],
            [
             0.1,
             "#c51b7d"
            ],
            [
             0.2,
             "#de77ae"
            ],
            [
             0.3,
             "#f1b6da"
            ],
            [
             0.4,
             "#fde0ef"
            ],
            [
             0.5,
             "#f7f7f7"
            ],
            [
             0.6,
             "#e6f5d0"
            ],
            [
             0.7,
             "#b8e186"
            ],
            [
             0.8,
             "#7fbc41"
            ],
            [
             0.9,
             "#4d9221"
            ],
            [
             1,
             "#276419"
            ]
           ],
           "sequential": [
            [
             0,
             "#0d0887"
            ],
            [
             0.1111111111111111,
             "#46039f"
            ],
            [
             0.2222222222222222,
             "#7201a8"
            ],
            [
             0.3333333333333333,
             "#9c179e"
            ],
            [
             0.4444444444444444,
             "#bd3786"
            ],
            [
             0.5555555555555556,
             "#d8576b"
            ],
            [
             0.6666666666666666,
             "#ed7953"
            ],
            [
             0.7777777777777778,
             "#fb9f3a"
            ],
            [
             0.8888888888888888,
             "#fdca26"
            ],
            [
             1,
             "#f0f921"
            ]
           ],
           "sequentialminus": [
            [
             0,
             "#0d0887"
            ],
            [
             0.1111111111111111,
             "#46039f"
            ],
            [
             0.2222222222222222,
             "#7201a8"
            ],
            [
             0.3333333333333333,
             "#9c179e"
            ],
            [
             0.4444444444444444,
             "#bd3786"
            ],
            [
             0.5555555555555556,
             "#d8576b"
            ],
            [
             0.6666666666666666,
             "#ed7953"
            ],
            [
             0.7777777777777778,
             "#fb9f3a"
            ],
            [
             0.8888888888888888,
             "#fdca26"
            ],
            [
             1,
             "#f0f921"
            ]
           ]
          },
          "colorway": [
           "#636efa",
           "#EF553B",
           "#00cc96",
           "#ab63fa",
           "#FFA15A",
           "#19d3f3",
           "#FF6692",
           "#B6E880",
           "#FF97FF",
           "#FECB52"
          ],
          "font": {
           "color": "#2a3f5f"
          },
          "geo": {
           "bgcolor": "white",
           "lakecolor": "white",
           "landcolor": "#E5ECF6",
           "showlakes": true,
           "showland": true,
           "subunitcolor": "white"
          },
          "hoverlabel": {
           "align": "left"
          },
          "hovermode": "closest",
          "mapbox": {
           "style": "light"
          },
          "paper_bgcolor": "white",
          "plot_bgcolor": "#E5ECF6",
          "polar": {
           "angularaxis": {
            "gridcolor": "white",
            "linecolor": "white",
            "ticks": ""
           },
           "bgcolor": "#E5ECF6",
           "radialaxis": {
            "gridcolor": "white",
            "linecolor": "white",
            "ticks": ""
           }
          },
          "scene": {
           "xaxis": {
            "backgroundcolor": "#E5ECF6",
            "gridcolor": "white",
            "gridwidth": 2,
            "linecolor": "white",
            "showbackground": true,
            "ticks": "",
            "zerolinecolor": "white"
           },
           "yaxis": {
            "backgroundcolor": "#E5ECF6",
            "gridcolor": "white",
            "gridwidth": 2,
            "linecolor": "white",
            "showbackground": true,
            "ticks": "",
            "zerolinecolor": "white"
           },
           "zaxis": {
            "backgroundcolor": "#E5ECF6",
            "gridcolor": "white",
            "gridwidth": 2,
            "linecolor": "white",
            "showbackground": true,
            "ticks": "",
            "zerolinecolor": "white"
           }
          },
          "shapedefaults": {
           "line": {
            "color": "#2a3f5f"
           }
          },
          "ternary": {
           "aaxis": {
            "gridcolor": "white",
            "linecolor": "white",
            "ticks": ""
           },
           "baxis": {
            "gridcolor": "white",
            "linecolor": "white",
            "ticks": ""
           },
           "bgcolor": "#E5ECF6",
           "caxis": {
            "gridcolor": "white",
            "linecolor": "white",
            "ticks": ""
           }
          },
          "title": {
           "x": 0.05
          },
          "xaxis": {
           "automargin": true,
           "gridcolor": "white",
           "linecolor": "white",
           "ticks": "",
           "title": {
            "standoff": 15
           },
           "zerolinecolor": "white",
           "zerolinewidth": 2
          },
          "yaxis": {
           "automargin": true,
           "gridcolor": "white",
           "linecolor": "white",
           "ticks": "",
           "title": {
            "standoff": 15
           },
           "zerolinecolor": "white",
           "zerolinewidth": 2
          }
         }
        },
        "title": {
         "text": "Mean Absolute Error (MAE) by Pickup Hour for All Models"
        },
        "xaxis": {
         "anchor": "y",
         "domain": [
          0,
          1
         ],
         "title": {
          "text": "Pickup Hour"
         }
        },
        "yaxis": {
         "anchor": "x",
         "domain": [
          0,
          1
         ],
         "title": {
          "text": "Mean Absolute Error"
         }
        }
       }
      }
     },
     "metadata": {},
     "output_type": "display_data"
    }
   ],
   "source": [
    "%load_ext autoreload\n",
    "%autoreload 2\n",
    "import sys\n",
    "import os\n",
    "import hopsworks\n",
    "import pandas as pd\n",
    "from datetime import timedelta\n",
    "import plotly.express as px\n",
    "\n",
    "# Add the parent directory to the Python path\n",
    "sys.path.append(os.path.abspath(os.path.join(os.getcwd(), \"..\")))\n",
    "\n",
    "import src.config as config\n",
    "from src.inference import get_feature_store\n",
    "\n",
    "# Fetch actual rides for the last 24 hours from the recent feature group\n",
    "def fetch_hourly_rides(hours):\n",
    "    current_hour = (pd.Timestamp.now(tz=\"Etc/UTC\") - timedelta(hours=hours)).floor('h')\n",
    "    \n",
    "    fs = get_feature_store()\n",
    "    fg = fs.get_feature_group(\n",
    "        name=\"recent_time_series_hourly_feature_group\",\n",
    "        version=1\n",
    "    )\n",
    "\n",
    "    query = fg.select_all()\n",
    "    query = query.filter(fg.pickup_hour >= current_hour)\n",
    "\n",
    "    return query.read()\n",
    "\n",
    "# Fetch actual rides data for the last 24 hours\n",
    "df_actual = fetch_hourly_rides(24)\n",
    "df_actual[\"pickup_hour\"] = pd.to_datetime(df_actual[\"pickup_hour\"]).dt.tz_localize(None)\n",
    "df_actual.sort_values(['pickup_hour'])\n",
    "print(\"\\nActual Rides Data:\")\n",
    "print(df_actual)\n",
    "\n",
    "# Define the list of models and corresponding feature group names\n",
    "models = [\n",
    "    \"baseline_previous_hour\",\n",
    "    \"lightgbm_28days_lags\",\n",
    "    \"lightgbm_top10_features\",\n",
    "    \"gradient_boosting_temporal_features\",\n",
    "    \"lightgbm_enhanced_lags_cyclic_temporal_interactions\"\n",
    "]\n",
    "\n",
    "prediction_feature_groups = {\n",
    "    \"baseline_previous_hour\": \"predictions_model_baseline\",\n",
    "    \"lightgbm_28days_lags\": \"predictions_model_lgbm_28days\",\n",
    "    \"lightgbm_top10_features\": \"predictions_model_lgbm_top10\",\n",
    "    \"gradient_boosting_temporal_features\": \"predictions_model_gbt\",\n",
    "    \"lightgbm_enhanced_lags_cyclic_temporal_interactions\": \"predictions_model_lgbm_enhanced\"\n",
    "}\n",
    "\n",
    "# Fetch predictions for each model and create individual MAE plots\n",
    "fs = get_feature_store()\n",
    "mae_results = []\n",
    "\n",
    "for model_name in models:\n",
    "    print(f\"\\nProcessing model: {model_name}\")\n",
    "    \n",
    "    # Fetch predictions for the last 24 hours\n",
    "    fg = fs.get_feature_group(\n",
    "        name=prediction_feature_groups[model_name],\n",
    "        version=1\n",
    "    )\n",
    "\n",
    "    current_hour = (pd.Timestamp.now(tz=\"Etc/UTC\") - timedelta(hours=24)).floor('h')\n",
    "    query = fg.select_all()\n",
    "    query = query.filter(fg.pickup_hour >= current_hour)\n",
    "    df_pred = query.read()\n",
    "    df_pred[\"pickup_hour\"] = pd.to_datetime(df_pred[\"pickup_hour\"]).dt.tz_localize(None)\n",
    "    print(f\"Predicted Rides Data for {model_name}:\")\n",
    "    print(df_pred)\n",
    "\n",
    "    # Merge actual and predicted data\n",
    "    merged_df = pd.merge(df_actual, df_pred, on=['start_station_name', 'pickup_hour'], how='inner')\n",
    "    if merged_df.empty:\n",
    "        print(f\"No matching data found for {model_name}. Skipping plot.\")\n",
    "        continue\n",
    "\n",
    "    # Calculate the absolute error\n",
    "    merged_df['absolute_error'] = abs(merged_df['predicted_rides'] - merged_df['rides'])\n",
    "\n",
    "    # Group by 'pickup_hour' and calculate the mean absolute error (MAE)\n",
    "    mae_by_hour = merged_df.groupby('pickup_hour')['absolute_error'].mean().reset_index()\n",
    "    mae_by_hour.rename(columns={'absolute_error': 'MAE'}, inplace=True)\n",
    "    mae_by_hour.sort_values('pickup_hour', inplace=True)  # Ensure chronological order\n",
    "    mae_by_hour['model'] = model_name  # Add model name for plotting\n",
    "    mae_results.append(mae_by_hour)\n",
    "\n",
    "    # Create a Plotly plot for this model\n",
    "    fig = px.line(\n",
    "        mae_by_hour,\n",
    "        x='pickup_hour',\n",
    "        y='MAE',\n",
    "        title=f'Mean Absolute Error (MAE) by Pickup Hour for {model_name}',\n",
    "        labels={'pickup_hour': 'Pickup Hour', 'MAE': 'Mean Absolute Error'},\n",
    "        markers=True\n",
    "    )\n",
    "\n",
    "    # Show the plot\n",
    "    fig.show()\n",
    "\n",
    "    # Print the average MAE for this model\n",
    "    avg_mae = mae_by_hour[\"MAE\"].mean()\n",
    "    print(f\"Average MAE for {model_name}: {avg_mae:.4f}\")\n",
    "\n",
    "# Combine all MAE results for a comparative plot\n",
    "if mae_results:\n",
    "    mae_combined = pd.concat(mae_results, ignore_index=True)\n",
    "    fig = px.line(\n",
    "        mae_combined,\n",
    "        x='pickup_hour',\n",
    "        y='MAE',\n",
    "        color='model',\n",
    "        title='Mean Absolute Error (MAE) by Pickup Hour for All Models',\n",
    "        labels={'pickup_hour': 'Pickup Hour', 'MAE': 'Mean Absolute Error'},\n",
    "        markers=True\n",
    "    )\n",
    "    fig.show()"
   ]
  },
  {
   "cell_type": "code",
   "execution_count": 12,
   "id": "2c7cf9ee",
   "metadata": {},
   "outputs": [
    {
     "name": "stdout",
     "output_type": "stream",
     "text": [
      "The autoreload extension is already loaded. To reload it, use:\n",
      "  %reload_ext autoreload\n",
      "Current time: 2025-05-10 08:06:15.903420+00:00\n",
      "Current hour (floored): 2025-05-10 08:00:00+00:00\n",
      "Current hour (ceiled): 2025-05-10 09:00:00+00:00\n",
      "2025-05-10 04:06:15,904 INFO: Closing external client and cleaning up certificates.\n",
      "Connection closed.\n",
      "2025-05-10 04:06:15,914 INFO: Initializing external client\n",
      "2025-05-10 04:06:15,915 INFO: Base URL: https://c.app.hopsworks.ai:443\n"
     ]
    },
    {
     "name": "stderr",
     "output_type": "stream",
     "text": [
      "\n",
      "\n",
      "UserWarning: The installed hopsworks client version 4.1.5 may not be compatible with the connected Hopsworks backend version 4.2.0. \n",
      "To ensure compatibility please install the latest bug fix release matching the minor version of your backend (4.2) by running 'pip install hopsworks==4.2.*'\n"
     ]
    },
    {
     "name": "stdout",
     "output_type": "stream",
     "text": [
      "2025-05-10 04:06:16,510 INFO: Python Engine initialized.\n",
      "\n",
      "Logged in to project, explore it here https://c.app.hopsworks.ai:443/p/1225907\n",
      "Finished: Reading data from Hopsworks, using Hopsworks Feature Query Service (0.87s) \n",
      "\n",
      "Unfiltered Actual Rides Data (recent_time_series_hourly_feature_group):\n",
      "Shape: (2097, 3)\n",
      "pickup_hour range: 2025-04-11 04:00:00 to 2025-05-10 06:00:00\n",
      "Sample data:\n",
      "             pickup_hour start_station_name  rides\n",
      "41   2025-04-11 04:00:00   11 Ave & W 41 St      1\n",
      "1701 2025-04-11 05:00:00   11 Ave & W 41 St      4\n",
      "1846 2025-04-11 06:00:00   11 Ave & W 41 St      9\n",
      "1626 2025-04-11 07:00:00   11 Ave & W 41 St     18\n",
      "11   2025-04-11 08:00:00   11 Ave & W 41 St     16\n",
      "...                  ...                ...    ...\n",
      "1902 2025-05-10 02:00:00    W 31 St & 7 Ave      1\n",
      "987  2025-05-10 03:00:00    W 31 St & 7 Ave      0\n",
      "2088 2025-05-10 04:00:00    W 31 St & 7 Ave      1\n",
      "2093 2025-05-10 05:00:00    W 31 St & 7 Ave      1\n",
      "2096 2025-05-10 06:00:00    W 31 St & 7 Ave     10\n",
      "\n",
      "[2097 rows x 3 columns]\n",
      "\n",
      "Actual Rides Data for current hour (floored: 2025-05-10 08:00:00+00:00):\n",
      "Shape: (0, 3)\n",
      "Empty DataFrame\n",
      "Columns: [pickup_hour, start_station_name, rides]\n",
      "Index: []\n",
      "\n",
      "Actual Rides Data for current hour (ceiled: 2025-05-10 09:00:00+00:00):\n",
      "Shape: (0, 3)\n",
      "Empty DataFrame\n",
      "Columns: [pickup_hour, start_station_name, rides]\n",
      "Index: []\n",
      "2025-05-10 04:06:18,901 INFO: Closing external client and cleaning up certificates.\n",
      "Connection closed.\n",
      "2025-05-10 04:06:18,912 INFO: Initializing external client\n",
      "2025-05-10 04:06:18,914 INFO: Base URL: https://c.app.hopsworks.ai:443\n"
     ]
    },
    {
     "name": "stderr",
     "output_type": "stream",
     "text": [
      "\n",
      "\n",
      "UserWarning: The installed hopsworks client version 4.1.5 may not be compatible with the connected Hopsworks backend version 4.2.0. \n",
      "To ensure compatibility please install the latest bug fix release matching the minor version of your backend (4.2) by running 'pip install hopsworks==4.2.*'\n"
     ]
    },
    {
     "name": "stdout",
     "output_type": "stream",
     "text": [
      "2025-05-10 04:06:19,497 INFO: Python Engine initialized.\n",
      "\n",
      "Logged in to project, explore it here https://c.app.hopsworks.ai:443/p/1225907\n",
      "Finished: Reading data from Hopsworks, using Hopsworks Feature Query Service (0.59s) \n",
      "\n",
      "Unfiltered Predicted Rides Data (predictions_model_baseline):\n",
      "Shape: (12, 3)\n",
      "pickup_hour range: 2025-04-17 08:00:00 to 2025-05-10 08:00:00\n",
      "Sample data:\n",
      "   start_station_name  predicted_rides         pickup_hour\n",
      "9    11 Ave & W 41 St                1 2025-04-17 08:00:00\n",
      "8    11 Ave & W 41 St               24 2025-05-09 17:00:00\n",
      "0    11 Ave & W 41 St                2 2025-05-10 07:00:00\n",
      "3    11 Ave & W 41 St               24 2025-05-10 08:00:00\n",
      "10    W 21 St & 6 Ave               26 2025-04-17 08:00:00\n",
      "6     W 21 St & 6 Ave                9 2025-05-09 17:00:00\n",
      "2     W 21 St & 6 Ave                0 2025-05-10 07:00:00\n",
      "4     W 21 St & 6 Ave                9 2025-05-10 08:00:00\n",
      "11    W 31 St & 7 Ave                7 2025-04-17 08:00:00\n",
      "7     W 31 St & 7 Ave               12 2025-05-09 17:00:00\n",
      "1     W 31 St & 7 Ave                3 2025-05-10 07:00:00\n",
      "5     W 31 St & 7 Ave               12 2025-05-10 08:00:00\n",
      "\n",
      "Predicted Rides Data for current hour (floored: 2025-05-10 08:00:00+00:00):\n",
      "Shape: (0, 3)\n",
      "Empty DataFrame\n",
      "Columns: [start_station_name, predicted_rides, pickup_hour]\n",
      "Index: []\n",
      "\n",
      "Predicted Rides Data for current hour (ceiled: 2025-05-10 09:00:00+00:00):\n",
      "Shape: (0, 3)\n",
      "Empty DataFrame\n",
      "Columns: [start_station_name, predicted_rides, pickup_hour]\n",
      "Index: []\n",
      "2025-05-10 04:06:21,856 INFO: Closing external client and cleaning up certificates.\n",
      "Connection closed.\n",
      "2025-05-10 04:06:21,869 INFO: Initializing external client\n",
      "2025-05-10 04:06:21,870 INFO: Base URL: https://c.app.hopsworks.ai:443\n"
     ]
    },
    {
     "name": "stderr",
     "output_type": "stream",
     "text": [
      "\n",
      "\n",
      "UserWarning: The installed hopsworks client version 4.1.5 may not be compatible with the connected Hopsworks backend version 4.2.0. \n",
      "To ensure compatibility please install the latest bug fix release matching the minor version of your backend (4.2) by running 'pip install hopsworks==4.2.*'\n"
     ]
    },
    {
     "name": "stdout",
     "output_type": "stream",
     "text": [
      "2025-05-10 04:06:22,553 INFO: Python Engine initialized.\n",
      "\n",
      "Logged in to project, explore it here https://c.app.hopsworks.ai:443/p/1225907\n",
      "\n",
      "Feature Pipeline: Fetching data from 2025-04-11 08:06:15.903420+00:00 to 2025-05-10 08:00:00+00:00\n",
      "Finished: Reading data from Hopsworks, using Hopsworks Feature Query Service (0.57s) \n"
     ]
    },
    {
     "data": {
      "text/html": [
       "<div>\n",
       "<style scoped>\n",
       "    .dataframe tbody tr th:only-of-type {\n",
       "        vertical-align: middle;\n",
       "    }\n",
       "\n",
       "    .dataframe tbody tr th {\n",
       "        vertical-align: top;\n",
       "    }\n",
       "\n",
       "    .dataframe thead th {\n",
       "        text-align: right;\n",
       "    }\n",
       "</style>\n",
       "<table border=\"1\" class=\"dataframe\">\n",
       "  <thead>\n",
       "    <tr style=\"text-align: right;\">\n",
       "      <th></th>\n",
       "      <th>pickup_hour</th>\n",
       "      <th>start_station_name</th>\n",
       "      <th>rides</th>\n",
       "    </tr>\n",
       "  </thead>\n",
       "  <tbody>\n",
       "    <tr>\n",
       "      <th>0</th>\n",
       "      <td>2025-04-11 09:00:00+00:00</td>\n",
       "      <td>11 Ave &amp; W 41 St</td>\n",
       "      <td>16</td>\n",
       "    </tr>\n",
       "    <tr>\n",
       "      <th>1</th>\n",
       "      <td>2025-04-11 10:00:00+00:00</td>\n",
       "      <td>11 Ave &amp; W 41 St</td>\n",
       "      <td>14</td>\n",
       "    </tr>\n",
       "    <tr>\n",
       "      <th>2</th>\n",
       "      <td>2025-04-11 11:00:00+00:00</td>\n",
       "      <td>11 Ave &amp; W 41 St</td>\n",
       "      <td>7</td>\n",
       "    </tr>\n",
       "    <tr>\n",
       "      <th>3</th>\n",
       "      <td>2025-04-11 12:00:00+00:00</td>\n",
       "      <td>11 Ave &amp; W 41 St</td>\n",
       "      <td>14</td>\n",
       "    </tr>\n",
       "    <tr>\n",
       "      <th>4</th>\n",
       "      <td>2025-04-11 13:00:00+00:00</td>\n",
       "      <td>11 Ave &amp; W 41 St</td>\n",
       "      <td>12</td>\n",
       "    </tr>\n",
       "    <tr>\n",
       "      <th>...</th>\n",
       "      <td>...</td>\n",
       "      <td>...</td>\n",
       "      <td>...</td>\n",
       "    </tr>\n",
       "    <tr>\n",
       "      <th>2077</th>\n",
       "      <td>2025-05-10 02:00:00+00:00</td>\n",
       "      <td>W 31 St &amp; 7 Ave</td>\n",
       "      <td>1</td>\n",
       "    </tr>\n",
       "    <tr>\n",
       "      <th>2078</th>\n",
       "      <td>2025-05-10 03:00:00+00:00</td>\n",
       "      <td>W 31 St &amp; 7 Ave</td>\n",
       "      <td>0</td>\n",
       "    </tr>\n",
       "    <tr>\n",
       "      <th>2079</th>\n",
       "      <td>2025-05-10 04:00:00+00:00</td>\n",
       "      <td>W 31 St &amp; 7 Ave</td>\n",
       "      <td>1</td>\n",
       "    </tr>\n",
       "    <tr>\n",
       "      <th>2080</th>\n",
       "      <td>2025-05-10 05:00:00+00:00</td>\n",
       "      <td>W 31 St &amp; 7 Ave</td>\n",
       "      <td>1</td>\n",
       "    </tr>\n",
       "    <tr>\n",
       "      <th>2081</th>\n",
       "      <td>2025-05-10 06:00:00+00:00</td>\n",
       "      <td>W 31 St &amp; 7 Ave</td>\n",
       "      <td>10</td>\n",
       "    </tr>\n",
       "  </tbody>\n",
       "</table>\n",
       "<p>2082 rows × 3 columns</p>\n",
       "</div>"
      ],
      "text/plain": [
       "                   pickup_hour start_station_name  rides\n",
       "0    2025-04-11 09:00:00+00:00   11 Ave & W 41 St     16\n",
       "1    2025-04-11 10:00:00+00:00   11 Ave & W 41 St     14\n",
       "2    2025-04-11 11:00:00+00:00   11 Ave & W 41 St      7\n",
       "3    2025-04-11 12:00:00+00:00   11 Ave & W 41 St     14\n",
       "4    2025-04-11 13:00:00+00:00   11 Ave & W 41 St     12\n",
       "...                        ...                ...    ...\n",
       "2077 2025-05-10 02:00:00+00:00    W 31 St & 7 Ave      1\n",
       "2078 2025-05-10 03:00:00+00:00    W 31 St & 7 Ave      0\n",
       "2079 2025-05-10 04:00:00+00:00    W 31 St & 7 Ave      1\n",
       "2080 2025-05-10 05:00:00+00:00    W 31 St & 7 Ave      1\n",
       "2081 2025-05-10 06:00:00+00:00    W 31 St & 7 Ave     10\n",
       "\n",
       "[2082 rows x 3 columns]"
      ]
     },
     "execution_count": 12,
     "metadata": {},
     "output_type": "execute_result"
    },
    {
     "name": "stdout",
     "output_type": "stream",
     "text": [
      "\n",
      "Feature Pipeline ts_data (after filtering):\n",
      "Shape: (2082, 3)\n",
      "pickup_hour range: 2025-04-11 09:00:00 to 2025-05-10 06:00:00\n",
      "Sample data:\n",
      "             pickup_hour start_station_name  rides\n",
      "0    2025-04-26 22:00:00    W 21 St & 6 Ave      1\n",
      "1    2025-04-18 18:00:00    W 21 St & 6 Ave     14\n",
      "2    2025-04-16 16:00:00   11 Ave & W 41 St      8\n",
      "3    2025-04-14 00:00:00    W 31 St & 7 Ave      0\n",
      "4    2025-05-09 01:00:00    W 21 St & 6 Ave      1\n",
      "...                  ...                ...    ...\n",
      "2092 2025-05-10 05:00:00   11 Ave & W 41 St      0\n",
      "2093 2025-05-10 05:00:00    W 31 St & 7 Ave      1\n",
      "2094 2025-05-10 06:00:00    W 21 St & 6 Ave      3\n",
      "2095 2025-05-10 06:00:00   11 Ave & W 41 St      2\n",
      "2096 2025-05-10 06:00:00    W 31 St & 7 Ave     10\n",
      "\n",
      "[2082 rows x 3 columns]\n",
      "\n",
      "Feature Pipeline features_next_hour:\n",
      "Shape: (3, 674)\n",
      "Most recent hour in features_next_hour: 2025-04-17 08:00:00\n",
      "Sample data:\n",
      "  start_station_name  rides_t-672  rides_t-671  rides_t-670  rides_t-669  \\\n",
      "0   11 Ave & W 41 St            8           10           10            2   \n",
      "1    W 21 St & 6 Ave            1           14            1           12   \n",
      "2    W 31 St & 7 Ave            0            7           19            0   \n",
      "\n",
      "   rides_t-668  rides_t-667  rides_t-666  rides_t-665  rides_t-664  ...  \\\n",
      "0            6           11           26            8            1  ...   \n",
      "1            4           13            0            4           11  ...   \n",
      "2           11            6           33           15            6  ...   \n",
      "\n",
      "   rides_t-9  rides_t-8  rides_t-7  rides_t-6  rides_t-5  rides_t-4  \\\n",
      "0          0          6          3          2          2          2   \n",
      "1         27         10          1          3          1          7   \n",
      "2          1          1          2          9          8         10   \n",
      "\n",
      "   rides_t-3  rides_t-2  rides_t-1         pickup_hour  \n",
      "0          2         24          1 2025-04-17 02:00:00  \n",
      "1          0          9         26 2025-04-17 08:00:00  \n",
      "2          3         12          7 2025-04-14 18:00:00  \n",
      "\n",
      "[3 rows x 674 columns]\n"
     ]
    }
   ],
   "source": [
    "%load_ext autoreload\n",
    "%autoreload 2\n",
    "import sys\n",
    "import os\n",
    "from datetime import datetime, timedelta\n",
    "import pandas as pd\n",
    "import ipywidgets as widgets\n",
    "from IPython.display import display\n",
    "from sklearn.feature_selection import SelectKBest, f_regression\n",
    "from IPython.core.interactiveshell import InteractiveShell\n",
    "InteractiveShell.ast_node_interactivity = \"all\"\n",
    "\n",
    "# Add the parent directory to the Python path\n",
    "sys.path.append(os.path.abspath(os.path.join(os.getcwd(), \"..\")))\n",
    "\n",
    "import src.config as config\n",
    "from src.inference import get_feature_store\n",
    "from src.data_utils import transform_ts_data_info_features\n",
    "from src.inference import load_batch_of_features_from_store\n",
    "from src.inference import load_model_from_registry\n",
    "from src.inference import get_model_predictions\n",
    "from src.inference import BaselineModelPreviousHour\n",
    "\n",
    "# Step 1: Calculate current time\n",
    "current_date = pd.Timestamp.now(tz='Etc/UTC')\n",
    "current_hour_floored = current_date.floor('h')\n",
    "current_hour_ceiled = current_date.ceil('h')\n",
    "print(f\"Current time: {current_date}\")\n",
    "print(f\"Current hour (floored): {current_hour_floored}\")\n",
    "print(f\"Current hour (ceiled): {current_hour_ceiled}\")\n",
    "\n",
    "# Step 2: Fetch actual rides without time filtering\n",
    "def fetch_hourly_rides_unfiltered():\n",
    "    fs = get_feature_store()\n",
    "    fg = fs.get_feature_group(\n",
    "        name=\"recent_time_series_hourly_feature_group\",\n",
    "        version=1\n",
    "    )\n",
    "\n",
    "    query = fg.select_all()\n",
    "    return query.read()\n",
    "\n",
    "# Fetch and inspect actual rides data\n",
    "df_actual = fetch_hourly_rides_unfiltered()\n",
    "df_actual[\"pickup_hour\"] = pd.to_datetime(df_actual[\"pickup_hour\"]).dt.tz_localize(None)\n",
    "df_actual.sort_values(['start_station_name', 'pickup_hour'], inplace=True)\n",
    "print(\"\\nUnfiltered Actual Rides Data (recent_time_series_hourly_feature_group):\")\n",
    "print(\"Shape:\", df_actual.shape)\n",
    "print(\"pickup_hour range:\", df_actual[\"pickup_hour\"].min(), \"to\", df_actual[\"pickup_hour\"].max())\n",
    "print(\"Sample data:\")\n",
    "print(df_actual)\n",
    "\n",
    "# Check for current floored and ceiled hours in actual rides\n",
    "df_actual_floored = df_actual[df_actual[\"pickup_hour\"] == current_hour_floored]\n",
    "print(f\"\\nActual Rides Data for current hour (floored: {current_hour_floored}):\")\n",
    "print(\"Shape:\", df_actual_floored.shape)\n",
    "print(df_actual_floored)\n",
    "\n",
    "df_actual_ceiled = df_actual[df_actual[\"pickup_hour\"] == current_hour_ceiled]\n",
    "print(f\"\\nActual Rides Data for current hour (ceiled: {current_hour_ceiled}):\")\n",
    "print(\"Shape:\", df_actual_ceiled.shape)\n",
    "print(df_actual_ceiled)\n",
    "\n",
    "# Step 3: Fetch predicted rides without time filtering (using predictions_model_baseline)\n",
    "def fetch_predictions_unfiltered(feature_group_name):\n",
    "    fs = get_feature_store()\n",
    "    fg = fs.get_feature_group(\n",
    "        name=feature_group_name,\n",
    "        version=1\n",
    "    )\n",
    "\n",
    "    query = fg.select_all()\n",
    "    return query.read()\n",
    "\n",
    "# Fetch and inspect predicted rides data\n",
    "feature_group_name = \"predictions_model_baseline\"\n",
    "df_pred = fetch_predictions_unfiltered(feature_group_name)\n",
    "df_pred[\"pickup_hour\"] = pd.to_datetime(df_pred[\"pickup_hour\"]).dt.tz_localize(None)\n",
    "df_pred.sort_values(['start_station_name', 'pickup_hour'], inplace=True)\n",
    "print(f\"\\nUnfiltered Predicted Rides Data ({feature_group_name}):\")\n",
    "print(\"Shape:\", df_pred.shape)\n",
    "print(\"pickup_hour range:\", df_pred[\"pickup_hour\"].min(), \"to\", df_pred[\"pickup_hour\"].max())\n",
    "print(\"Sample data:\")\n",
    "print(df_pred)\n",
    "\n",
    "# Check for current floored and ceiled hours in predicted rides\n",
    "df_pred_floored = df_pred[df_pred[\"pickup_hour\"] == current_hour_floored]\n",
    "print(f\"\\nPredicted Rides Data for current hour (floored: {current_hour_floored}):\")\n",
    "print(\"Shape:\", df_pred_floored.shape)\n",
    "print(df_pred_floored)\n",
    "\n",
    "df_pred_ceiled = df_pred[df_pred[\"pickup_hour\"] == current_hour_ceiled]\n",
    "print(f\"\\nPredicted Rides Data for current hour (ceiled: {current_hour_ceiled}):\")\n",
    "print(\"Shape:\", df_pred_ceiled.shape)\n",
    "print(df_pred_ceiled)\n",
    "\n",
    "# Step 4: Replicate the feature pipeline data fetch from 17_inference_pipeline.ipynb\n",
    "feature_store = get_feature_store()\n",
    "feature_view = feature_store.get_feature_view(\n",
    "    name=\"citi_bike_recent_hourly_feature_view\",\n",
    "    version=1\n",
    ")\n",
    "\n",
    "fetch_data_to = current_date.floor('h')\n",
    "fetch_data_from = current_date - timedelta(days=1*29)\n",
    "print(f\"\\nFeature Pipeline: Fetching data from {fetch_data_from} to {fetch_data_to}\")\n",
    "\n",
    "ts_data = feature_view.get_batch_data(\n",
    "    start_time=(fetch_data_from - timedelta(days=1)),\n",
    "    end_time=(fetch_data_to + timedelta(days=1)),\n",
    ")\n",
    "ts_data = ts_data[ts_data.pickup_hour.between(fetch_data_from, fetch_data_to)]\n",
    "ts_data.sort_values([\"start_station_name\", \"pickup_hour\"]).reset_index(drop=True)\n",
    "ts_data[\"pickup_hour\"] = ts_data[\"pickup_hour\"].dt.tz_localize(None)\n",
    "\n",
    "print(\"\\nFeature Pipeline ts_data (after filtering):\")\n",
    "print(\"Shape:\", ts_data.shape)\n",
    "print(\"pickup_hour range:\", ts_data[\"pickup_hour\"].min(), \"to\", ts_data[\"pickup_hour\"].max())\n",
    "print(\"Sample data:\")\n",
    "print(ts_data)\n",
    "\n",
    "# Transform the data into features (as in 17_inference_pipeline.ipynb)\n",
    "features = transform_ts_data_info_features(ts_data, window_size=24*28, step_size=23)\n",
    "features_next_hour = features.groupby(\"start_station_name\").last().reset_index()\n",
    "recent_hour = features_next_hour[\"pickup_hour\"].max()\n",
    "\n",
    "print(\"\\nFeature Pipeline features_next_hour:\")\n",
    "print(\"Shape:\", features_next_hour.shape)\n",
    "print(\"Most recent hour in features_next_hour:\", recent_hour)\n",
    "print(\"Sample data:\")\n",
    "print(features_next_hour)"
   ]
  },
  {
   "cell_type": "code",
   "execution_count": 47,
   "id": "8c5bbc08-f5b5-4813-88ae-755e0aa9a6a6",
   "metadata": {},
   "outputs": [],
   "source": [
    "\n",
    "def fetch_hourly_rides(hours):\n",
    "    current_hour = (pd.Timestamp.now(tz=\"Etc/UTC\") - timedelta(hours=hours)).floor('h')\n",
    "\n",
    "    fs = get_feature_store()\n",
    "    fg = fs.get_feature_group(\n",
    "        name=config.FEATURE_GROUP_NAME,\n",
    "        version=1\n",
    "    )\n",
    "\n",
    "    query = fg.select_all()\n",
    "    query = query.filter(fg.pickup_hour >= current_hour)\n",
    "\n",
    "    return query.read()"
   ]
  },
  {
   "cell_type": "code",
   "execution_count": 48,
   "id": "73e6ac55-5c48-4ca7-92cf-a31efd0213fa",
   "metadata": {},
   "outputs": [
    {
     "name": "stdout",
     "output_type": "stream",
     "text": [
      "2025-03-04 21:27:30,576 INFO: Closing external client and cleaning up certificates.\n",
      "Connection closed.\n",
      "2025-03-04 21:27:30,583 INFO: Initializing external client\n",
      "2025-03-04 21:27:30,584 INFO: Base URL: https://c.app.hopsworks.ai:443\n",
      "2025-03-04 21:27:31,373 INFO: Python Engine initialized.\n",
      "\n",
      "Logged in to project, explore it here https://c.app.hopsworks.ai:443/p/1214689\n",
      "Finished: Reading data from Hopsworks, using Hopsworks Feature Query Service (4.34s) \n"
     ]
    }
   ],
   "source": [
    "df = fetch_hourly_rides(12)"
   ]
  },
  {
   "cell_type": "code",
   "execution_count": 63,
   "id": "d98f6519-87e4-412a-915d-e40f780ba2ce",
   "metadata": {},
   "outputs": [
    {
     "data": {
      "text/html": [
       "<div>\n",
       "<style scoped>\n",
       "    .dataframe tbody tr th:only-of-type {\n",
       "        vertical-align: middle;\n",
       "    }\n",
       "\n",
       "    .dataframe tbody tr th {\n",
       "        vertical-align: top;\n",
       "    }\n",
       "\n",
       "    .dataframe thead th {\n",
       "        text-align: right;\n",
       "    }\n",
       "</style>\n",
       "<table border=\"1\" class=\"dataframe\">\n",
       "  <thead>\n",
       "    <tr style=\"text-align: right;\">\n",
       "      <th></th>\n",
       "      <th>pickup_hour</th>\n",
       "      <th>pickup_location_id</th>\n",
       "      <th>rides</th>\n",
       "    </tr>\n",
       "  </thead>\n",
       "  <tbody>\n",
       "    <tr>\n",
       "      <th>1151</th>\n",
       "      <td>2025-03-04 09:00:00+00:00</td>\n",
       "      <td>114</td>\n",
       "      <td>31</td>\n",
       "    </tr>\n",
       "    <tr>\n",
       "      <th>1045</th>\n",
       "      <td>2025-03-04 09:00:00+00:00</td>\n",
       "      <td>196</td>\n",
       "      <td>0</td>\n",
       "    </tr>\n",
       "    <tr>\n",
       "      <th>256</th>\n",
       "      <td>2025-03-04 09:00:00+00:00</td>\n",
       "      <td>53</td>\n",
       "      <td>1</td>\n",
       "    </tr>\n",
       "    <tr>\n",
       "      <th>2499</th>\n",
       "      <td>2025-03-04 09:00:00+00:00</td>\n",
       "      <td>54</td>\n",
       "      <td>0</td>\n",
       "    </tr>\n",
       "    <tr>\n",
       "      <th>1056</th>\n",
       "      <td>2025-03-04 09:00:00+00:00</td>\n",
       "      <td>20</td>\n",
       "      <td>0</td>\n",
       "    </tr>\n",
       "    <tr>\n",
       "      <th>...</th>\n",
       "      <td>...</td>\n",
       "      <td>...</td>\n",
       "      <td>...</td>\n",
       "    </tr>\n",
       "    <tr>\n",
       "      <th>4104</th>\n",
       "      <td>2025-03-05 01:00:00+00:00</td>\n",
       "      <td>52</td>\n",
       "      <td>0</td>\n",
       "    </tr>\n",
       "    <tr>\n",
       "      <th>4105</th>\n",
       "      <td>2025-03-05 01:00:00+00:00</td>\n",
       "      <td>6</td>\n",
       "      <td>0</td>\n",
       "    </tr>\n",
       "    <tr>\n",
       "      <th>4106</th>\n",
       "      <td>2025-03-05 01:00:00+00:00</td>\n",
       "      <td>235</td>\n",
       "      <td>0</td>\n",
       "    </tr>\n",
       "    <tr>\n",
       "      <th>4093</th>\n",
       "      <td>2025-03-05 01:00:00+00:00</td>\n",
       "      <td>119</td>\n",
       "      <td>1</td>\n",
       "    </tr>\n",
       "    <tr>\n",
       "      <th>4266</th>\n",
       "      <td>2025-03-05 01:00:00+00:00</td>\n",
       "      <td>115</td>\n",
       "      <td>0</td>\n",
       "    </tr>\n",
       "  </tbody>\n",
       "</table>\n",
       "<p>4267 rows × 3 columns</p>\n",
       "</div>"
      ],
      "text/plain": [
       "                   pickup_hour  pickup_location_id  rides\n",
       "1151 2025-03-04 09:00:00+00:00                 114     31\n",
       "1045 2025-03-04 09:00:00+00:00                 196      0\n",
       "256  2025-03-04 09:00:00+00:00                  53      1\n",
       "2499 2025-03-04 09:00:00+00:00                  54      0\n",
       "1056 2025-03-04 09:00:00+00:00                  20      0\n",
       "...                        ...                 ...    ...\n",
       "4104 2025-03-05 01:00:00+00:00                  52      0\n",
       "4105 2025-03-05 01:00:00+00:00                   6      0\n",
       "4106 2025-03-05 01:00:00+00:00                 235      0\n",
       "4093 2025-03-05 01:00:00+00:00                 119      1\n",
       "4266 2025-03-05 01:00:00+00:00                 115      0\n",
       "\n",
       "[4267 rows x 3 columns]"
      ]
     },
     "execution_count": 63,
     "metadata": {},
     "output_type": "execute_result"
    }
   ],
   "source": [
    "df.sort_values(['pickup_hour'])"
   ]
  },
  {
   "cell_type": "code",
   "execution_count": 50,
   "id": "726c8f81-57e4-4b4b-b1e1-76bd93a0c8cc",
   "metadata": {},
   "outputs": [
    {
     "name": "stdout",
     "output_type": "stream",
     "text": [
      "2025-03-04 21:27:37,652 INFO: Closing external client and cleaning up certificates.\n",
      "Connection closed.\n",
      "2025-03-04 21:27:37,658 INFO: Initializing external client\n",
      "2025-03-04 21:27:37,658 INFO: Base URL: https://c.app.hopsworks.ai:443\n",
      "2025-03-04 21:27:38,333 INFO: Python Engine initialized.\n",
      "\n",
      "Logged in to project, explore it here https://c.app.hopsworks.ai:443/p/1214689\n",
      "Finished: Reading data from Hopsworks, using Hopsworks Feature Query Service (0.48s) \n"
     ]
    }
   ],
   "source": [
    "df_pred = fetch_predictions(12)"
   ]
  },
  {
   "cell_type": "code",
   "execution_count": 51,
   "id": "2cc39644-1a5f-43f4-90cc-68569eb1dc61",
   "metadata": {},
   "outputs": [
    {
     "data": {
      "text/html": [
       "<div>\n",
       "<style scoped>\n",
       "    .dataframe tbody tr th:only-of-type {\n",
       "        vertical-align: middle;\n",
       "    }\n",
       "\n",
       "    .dataframe tbody tr th {\n",
       "        vertical-align: top;\n",
       "    }\n",
       "\n",
       "    .dataframe thead th {\n",
       "        text-align: right;\n",
       "    }\n",
       "</style>\n",
       "<table border=\"1\" class=\"dataframe\">\n",
       "  <thead>\n",
       "    <tr style=\"text-align: right;\">\n",
       "      <th></th>\n",
       "      <th>pickup_location_id</th>\n",
       "      <th>predicted_demand</th>\n",
       "      <th>pickup_hour</th>\n",
       "    </tr>\n",
       "  </thead>\n",
       "  <tbody>\n",
       "    <tr>\n",
       "      <th>0</th>\n",
       "      <td>229</td>\n",
       "      <td>30.0</td>\n",
       "      <td>2025-03-05 00:00:00+00:00</td>\n",
       "    </tr>\n",
       "    <tr>\n",
       "      <th>1</th>\n",
       "      <td>85</td>\n",
       "      <td>0.0</td>\n",
       "      <td>2025-03-05 00:00:00+00:00</td>\n",
       "    </tr>\n",
       "    <tr>\n",
       "      <th>2</th>\n",
       "      <td>36</td>\n",
       "      <td>0.0</td>\n",
       "      <td>2025-03-05 00:00:00+00:00</td>\n",
       "    </tr>\n",
       "    <tr>\n",
       "      <th>3</th>\n",
       "      <td>252</td>\n",
       "      <td>0.0</td>\n",
       "      <td>2025-03-05 00:00:00+00:00</td>\n",
       "    </tr>\n",
       "    <tr>\n",
       "      <th>4</th>\n",
       "      <td>133</td>\n",
       "      <td>0.0</td>\n",
       "      <td>2025-03-05 00:00:00+00:00</td>\n",
       "    </tr>\n",
       "    <tr>\n",
       "      <th>...</th>\n",
       "      <td>...</td>\n",
       "      <td>...</td>\n",
       "      <td>...</td>\n",
       "    </tr>\n",
       "    <tr>\n",
       "      <th>748</th>\n",
       "      <td>242</td>\n",
       "      <td>0.0</td>\n",
       "      <td>2025-03-05 03:00:00+00:00</td>\n",
       "    </tr>\n",
       "    <tr>\n",
       "      <th>749</th>\n",
       "      <td>144</td>\n",
       "      <td>18.0</td>\n",
       "      <td>2025-03-05 03:00:00+00:00</td>\n",
       "    </tr>\n",
       "    <tr>\n",
       "      <th>750</th>\n",
       "      <td>29</td>\n",
       "      <td>1.0</td>\n",
       "      <td>2025-03-05 03:00:00+00:00</td>\n",
       "    </tr>\n",
       "    <tr>\n",
       "      <th>751</th>\n",
       "      <td>91</td>\n",
       "      <td>0.0</td>\n",
       "      <td>2025-03-05 03:00:00+00:00</td>\n",
       "    </tr>\n",
       "    <tr>\n",
       "      <th>752</th>\n",
       "      <td>192</td>\n",
       "      <td>0.0</td>\n",
       "      <td>2025-03-05 03:00:00+00:00</td>\n",
       "    </tr>\n",
       "  </tbody>\n",
       "</table>\n",
       "<p>753 rows × 3 columns</p>\n",
       "</div>"
      ],
      "text/plain": [
       "     pickup_location_id  predicted_demand               pickup_hour\n",
       "0                   229              30.0 2025-03-05 00:00:00+00:00\n",
       "1                    85               0.0 2025-03-05 00:00:00+00:00\n",
       "2                    36               0.0 2025-03-05 00:00:00+00:00\n",
       "3                   252               0.0 2025-03-05 00:00:00+00:00\n",
       "4                   133               0.0 2025-03-05 00:00:00+00:00\n",
       "..                  ...               ...                       ...\n",
       "748                 242               0.0 2025-03-05 03:00:00+00:00\n",
       "749                 144              18.0 2025-03-05 03:00:00+00:00\n",
       "750                  29               1.0 2025-03-05 03:00:00+00:00\n",
       "751                  91               0.0 2025-03-05 03:00:00+00:00\n",
       "752                 192               0.0 2025-03-05 03:00:00+00:00\n",
       "\n",
       "[753 rows x 3 columns]"
      ]
     },
     "execution_count": 51,
     "metadata": {},
     "output_type": "execute_result"
    }
   ],
   "source": [
    "df_pred"
   ]
  },
  {
   "cell_type": "code",
   "execution_count": 52,
   "id": "78da8ce0-0e5f-45ca-a513-7508338ce335",
   "metadata": {},
   "outputs": [],
   "source": [
    "merged_df = pd.merge(df, df_pred, on=['pickup_location_id', 'pickup_hour'])"
   ]
  },
  {
   "cell_type": "code",
   "execution_count": 53,
   "id": "3d120e77-037f-42bb-90d9-33346c9e8343",
   "metadata": {},
   "outputs": [
    {
     "data": {
      "text/html": [
       "<div>\n",
       "<style scoped>\n",
       "    .dataframe tbody tr th:only-of-type {\n",
       "        vertical-align: middle;\n",
       "    }\n",
       "\n",
       "    .dataframe tbody tr th {\n",
       "        vertical-align: top;\n",
       "    }\n",
       "\n",
       "    .dataframe thead th {\n",
       "        text-align: right;\n",
       "    }\n",
       "</style>\n",
       "<table border=\"1\" class=\"dataframe\">\n",
       "  <thead>\n",
       "    <tr style=\"text-align: right;\">\n",
       "      <th></th>\n",
       "      <th>pickup_hour</th>\n",
       "      <th>pickup_location_id</th>\n",
       "      <th>rides</th>\n",
       "      <th>predicted_demand</th>\n",
       "    </tr>\n",
       "  </thead>\n",
       "  <tbody>\n",
       "    <tr>\n",
       "      <th>0</th>\n",
       "      <td>2025-03-05 00:00:00+00:00</td>\n",
       "      <td>38</td>\n",
       "      <td>0</td>\n",
       "      <td>0.0</td>\n",
       "    </tr>\n",
       "    <tr>\n",
       "      <th>1</th>\n",
       "      <td>2025-03-05 00:00:00+00:00</td>\n",
       "      <td>47</td>\n",
       "      <td>0</td>\n",
       "      <td>0.0</td>\n",
       "    </tr>\n",
       "    <tr>\n",
       "      <th>2</th>\n",
       "      <td>2025-03-05 00:00:00+00:00</td>\n",
       "      <td>50</td>\n",
       "      <td>7</td>\n",
       "      <td>15.0</td>\n",
       "    </tr>\n",
       "    <tr>\n",
       "      <th>3</th>\n",
       "      <td>2025-03-05 00:00:00+00:00</td>\n",
       "      <td>260</td>\n",
       "      <td>1</td>\n",
       "      <td>0.0</td>\n",
       "    </tr>\n",
       "    <tr>\n",
       "      <th>4</th>\n",
       "      <td>2025-03-05 00:00:00+00:00</td>\n",
       "      <td>32</td>\n",
       "      <td>0</td>\n",
       "      <td>0.0</td>\n",
       "    </tr>\n",
       "    <tr>\n",
       "      <th>...</th>\n",
       "      <td>...</td>\n",
       "      <td>...</td>\n",
       "      <td>...</td>\n",
       "      <td>...</td>\n",
       "    </tr>\n",
       "    <tr>\n",
       "      <th>246</th>\n",
       "      <td>2025-03-05 00:00:00+00:00</td>\n",
       "      <td>86</td>\n",
       "      <td>0</td>\n",
       "      <td>0.0</td>\n",
       "    </tr>\n",
       "    <tr>\n",
       "      <th>247</th>\n",
       "      <td>2025-03-05 00:00:00+00:00</td>\n",
       "      <td>214</td>\n",
       "      <td>1</td>\n",
       "      <td>0.0</td>\n",
       "    </tr>\n",
       "    <tr>\n",
       "      <th>248</th>\n",
       "      <td>2025-03-05 00:00:00+00:00</td>\n",
       "      <td>96</td>\n",
       "      <td>0</td>\n",
       "      <td>0.0</td>\n",
       "    </tr>\n",
       "    <tr>\n",
       "      <th>249</th>\n",
       "      <td>2025-03-05 00:00:00+00:00</td>\n",
       "      <td>255</td>\n",
       "      <td>0</td>\n",
       "      <td>2.0</td>\n",
       "    </tr>\n",
       "    <tr>\n",
       "      <th>250</th>\n",
       "      <td>2025-03-05 00:00:00+00:00</td>\n",
       "      <td>45</td>\n",
       "      <td>2</td>\n",
       "      <td>4.0</td>\n",
       "    </tr>\n",
       "  </tbody>\n",
       "</table>\n",
       "<p>251 rows × 4 columns</p>\n",
       "</div>"
      ],
      "text/plain": [
       "                  pickup_hour  pickup_location_id  rides  predicted_demand\n",
       "0   2025-03-05 00:00:00+00:00                  38      0               0.0\n",
       "1   2025-03-05 00:00:00+00:00                  47      0               0.0\n",
       "2   2025-03-05 00:00:00+00:00                  50      7              15.0\n",
       "3   2025-03-05 00:00:00+00:00                 260      1               0.0\n",
       "4   2025-03-05 00:00:00+00:00                  32      0               0.0\n",
       "..                        ...                 ...    ...               ...\n",
       "246 2025-03-05 00:00:00+00:00                  86      0               0.0\n",
       "247 2025-03-05 00:00:00+00:00                 214      1               0.0\n",
       "248 2025-03-05 00:00:00+00:00                  96      0               0.0\n",
       "249 2025-03-05 00:00:00+00:00                 255      0               2.0\n",
       "250 2025-03-05 00:00:00+00:00                  45      2               4.0\n",
       "\n",
       "[251 rows x 4 columns]"
      ]
     },
     "execution_count": 53,
     "metadata": {},
     "output_type": "execute_result"
    }
   ],
   "source": [
    "merged_df"
   ]
  },
  {
   "cell_type": "code",
   "execution_count": 54,
   "id": "b2183a04-85b3-4a12-9344-c8efbd413612",
   "metadata": {},
   "outputs": [],
   "source": [
    "merged_df['difference'] = merged_df['predicted_demand'] - merged_df['rides']"
   ]
  },
  {
   "cell_type": "code",
   "execution_count": 55,
   "id": "49e5a44d-8f68-405b-a595-07fb7575ae84",
   "metadata": {},
   "outputs": [
    {
     "data": {
      "text/html": [
       "<div>\n",
       "<style scoped>\n",
       "    .dataframe tbody tr th:only-of-type {\n",
       "        vertical-align: middle;\n",
       "    }\n",
       "\n",
       "    .dataframe tbody tr th {\n",
       "        vertical-align: top;\n",
       "    }\n",
       "\n",
       "    .dataframe thead th {\n",
       "        text-align: right;\n",
       "    }\n",
       "</style>\n",
       "<table border=\"1\" class=\"dataframe\">\n",
       "  <thead>\n",
       "    <tr style=\"text-align: right;\">\n",
       "      <th></th>\n",
       "      <th>pickup_hour</th>\n",
       "      <th>pickup_location_id</th>\n",
       "      <th>rides</th>\n",
       "      <th>predicted_demand</th>\n",
       "      <th>difference</th>\n",
       "    </tr>\n",
       "  </thead>\n",
       "  <tbody>\n",
       "    <tr>\n",
       "      <th>202</th>\n",
       "      <td>2025-03-05 00:00:00+00:00</td>\n",
       "      <td>2</td>\n",
       "      <td>0</td>\n",
       "      <td>0.0</td>\n",
       "      <td>0.0</td>\n",
       "    </tr>\n",
       "    <tr>\n",
       "      <th>231</th>\n",
       "      <td>2025-03-05 00:00:00+00:00</td>\n",
       "      <td>3</td>\n",
       "      <td>0</td>\n",
       "      <td>0.0</td>\n",
       "      <td>0.0</td>\n",
       "    </tr>\n",
       "    <tr>\n",
       "      <th>10</th>\n",
       "      <td>2025-03-05 00:00:00+00:00</td>\n",
       "      <td>4</td>\n",
       "      <td>5</td>\n",
       "      <td>31.0</td>\n",
       "      <td>26.0</td>\n",
       "    </tr>\n",
       "    <tr>\n",
       "      <th>93</th>\n",
       "      <td>2025-03-05 00:00:00+00:00</td>\n",
       "      <td>6</td>\n",
       "      <td>0</td>\n",
       "      <td>0.0</td>\n",
       "      <td>0.0</td>\n",
       "    </tr>\n",
       "    <tr>\n",
       "      <th>129</th>\n",
       "      <td>2025-03-05 00:00:00+00:00</td>\n",
       "      <td>7</td>\n",
       "      <td>1</td>\n",
       "      <td>2.0</td>\n",
       "      <td>1.0</td>\n",
       "    </tr>\n",
       "    <tr>\n",
       "      <th>...</th>\n",
       "      <td>...</td>\n",
       "      <td>...</td>\n",
       "      <td>...</td>\n",
       "      <td>...</td>\n",
       "      <td>...</td>\n",
       "    </tr>\n",
       "    <tr>\n",
       "      <th>169</th>\n",
       "      <td>2025-03-05 00:00:00+00:00</td>\n",
       "      <td>259</td>\n",
       "      <td>0</td>\n",
       "      <td>0.0</td>\n",
       "      <td>0.0</td>\n",
       "    </tr>\n",
       "    <tr>\n",
       "      <th>3</th>\n",
       "      <td>2025-03-05 00:00:00+00:00</td>\n",
       "      <td>260</td>\n",
       "      <td>1</td>\n",
       "      <td>0.0</td>\n",
       "      <td>-1.0</td>\n",
       "    </tr>\n",
       "    <tr>\n",
       "      <th>98</th>\n",
       "      <td>2025-03-05 00:00:00+00:00</td>\n",
       "      <td>261</td>\n",
       "      <td>4</td>\n",
       "      <td>12.0</td>\n",
       "      <td>8.0</td>\n",
       "    </tr>\n",
       "    <tr>\n",
       "      <th>174</th>\n",
       "      <td>2025-03-05 00:00:00+00:00</td>\n",
       "      <td>262</td>\n",
       "      <td>1</td>\n",
       "      <td>39.0</td>\n",
       "      <td>38.0</td>\n",
       "    </tr>\n",
       "    <tr>\n",
       "      <th>124</th>\n",
       "      <td>2025-03-05 00:00:00+00:00</td>\n",
       "      <td>263</td>\n",
       "      <td>22</td>\n",
       "      <td>92.0</td>\n",
       "      <td>70.0</td>\n",
       "    </tr>\n",
       "  </tbody>\n",
       "</table>\n",
       "<p>251 rows × 5 columns</p>\n",
       "</div>"
      ],
      "text/plain": [
       "                  pickup_hour  pickup_location_id  rides  predicted_demand  \\\n",
       "202 2025-03-05 00:00:00+00:00                   2      0               0.0   \n",
       "231 2025-03-05 00:00:00+00:00                   3      0               0.0   \n",
       "10  2025-03-05 00:00:00+00:00                   4      5              31.0   \n",
       "93  2025-03-05 00:00:00+00:00                   6      0               0.0   \n",
       "129 2025-03-05 00:00:00+00:00                   7      1               2.0   \n",
       "..                        ...                 ...    ...               ...   \n",
       "169 2025-03-05 00:00:00+00:00                 259      0               0.0   \n",
       "3   2025-03-05 00:00:00+00:00                 260      1               0.0   \n",
       "98  2025-03-05 00:00:00+00:00                 261      4              12.0   \n",
       "174 2025-03-05 00:00:00+00:00                 262      1              39.0   \n",
       "124 2025-03-05 00:00:00+00:00                 263     22              92.0   \n",
       "\n",
       "     difference  \n",
       "202         0.0  \n",
       "231         0.0  \n",
       "10         26.0  \n",
       "93          0.0  \n",
       "129         1.0  \n",
       "..          ...  \n",
       "169         0.0  \n",
       "3          -1.0  \n",
       "98          8.0  \n",
       "174        38.0  \n",
       "124        70.0  \n",
       "\n",
       "[251 rows x 5 columns]"
      ]
     },
     "execution_count": 55,
     "metadata": {},
     "output_type": "execute_result"
    }
   ],
   "source": [
    "merged_df.sort_values([\"pickup_location_id\", \"pickup_hour\"])"
   ]
  },
  {
   "cell_type": "code",
   "execution_count": 56,
   "id": "c681c57f-cf0b-4094-bf6c-6d2a9c4aa639",
   "metadata": {},
   "outputs": [
    {
     "data": {
      "text/html": [
       "<div>\n",
       "<style scoped>\n",
       "    .dataframe tbody tr th:only-of-type {\n",
       "        vertical-align: middle;\n",
       "    }\n",
       "\n",
       "    .dataframe tbody tr th {\n",
       "        vertical-align: top;\n",
       "    }\n",
       "\n",
       "    .dataframe thead th {\n",
       "        text-align: right;\n",
       "    }\n",
       "</style>\n",
       "<table border=\"1\" class=\"dataframe\">\n",
       "  <thead>\n",
       "    <tr style=\"text-align: right;\">\n",
       "      <th></th>\n",
       "      <th>pickup_hour</th>\n",
       "      <th>pickup_location_id</th>\n",
       "      <th>rides</th>\n",
       "      <th>predicted_demand</th>\n",
       "      <th>difference</th>\n",
       "    </tr>\n",
       "  </thead>\n",
       "  <tbody>\n",
       "    <tr>\n",
       "      <th>0</th>\n",
       "      <td>2025-03-05 00:00:00+00:00</td>\n",
       "      <td>38</td>\n",
       "      <td>0</td>\n",
       "      <td>0.0</td>\n",
       "      <td>0.0</td>\n",
       "    </tr>\n",
       "    <tr>\n",
       "      <th>1</th>\n",
       "      <td>2025-03-05 00:00:00+00:00</td>\n",
       "      <td>47</td>\n",
       "      <td>0</td>\n",
       "      <td>0.0</td>\n",
       "      <td>0.0</td>\n",
       "    </tr>\n",
       "    <tr>\n",
       "      <th>2</th>\n",
       "      <td>2025-03-05 00:00:00+00:00</td>\n",
       "      <td>50</td>\n",
       "      <td>7</td>\n",
       "      <td>15.0</td>\n",
       "      <td>8.0</td>\n",
       "    </tr>\n",
       "    <tr>\n",
       "      <th>3</th>\n",
       "      <td>2025-03-05 00:00:00+00:00</td>\n",
       "      <td>260</td>\n",
       "      <td>1</td>\n",
       "      <td>0.0</td>\n",
       "      <td>-1.0</td>\n",
       "    </tr>\n",
       "    <tr>\n",
       "      <th>4</th>\n",
       "      <td>2025-03-05 00:00:00+00:00</td>\n",
       "      <td>32</td>\n",
       "      <td>0</td>\n",
       "      <td>0.0</td>\n",
       "      <td>0.0</td>\n",
       "    </tr>\n",
       "    <tr>\n",
       "      <th>...</th>\n",
       "      <td>...</td>\n",
       "      <td>...</td>\n",
       "      <td>...</td>\n",
       "      <td>...</td>\n",
       "      <td>...</td>\n",
       "    </tr>\n",
       "    <tr>\n",
       "      <th>246</th>\n",
       "      <td>2025-03-05 00:00:00+00:00</td>\n",
       "      <td>86</td>\n",
       "      <td>0</td>\n",
       "      <td>0.0</td>\n",
       "      <td>0.0</td>\n",
       "    </tr>\n",
       "    <tr>\n",
       "      <th>247</th>\n",
       "      <td>2025-03-05 00:00:00+00:00</td>\n",
       "      <td>214</td>\n",
       "      <td>1</td>\n",
       "      <td>0.0</td>\n",
       "      <td>-1.0</td>\n",
       "    </tr>\n",
       "    <tr>\n",
       "      <th>248</th>\n",
       "      <td>2025-03-05 00:00:00+00:00</td>\n",
       "      <td>96</td>\n",
       "      <td>0</td>\n",
       "      <td>0.0</td>\n",
       "      <td>0.0</td>\n",
       "    </tr>\n",
       "    <tr>\n",
       "      <th>249</th>\n",
       "      <td>2025-03-05 00:00:00+00:00</td>\n",
       "      <td>255</td>\n",
       "      <td>0</td>\n",
       "      <td>2.0</td>\n",
       "      <td>2.0</td>\n",
       "    </tr>\n",
       "    <tr>\n",
       "      <th>250</th>\n",
       "      <td>2025-03-05 00:00:00+00:00</td>\n",
       "      <td>45</td>\n",
       "      <td>2</td>\n",
       "      <td>4.0</td>\n",
       "      <td>2.0</td>\n",
       "    </tr>\n",
       "  </tbody>\n",
       "</table>\n",
       "<p>251 rows × 5 columns</p>\n",
       "</div>"
      ],
      "text/plain": [
       "                  pickup_hour  pickup_location_id  rides  predicted_demand  \\\n",
       "0   2025-03-05 00:00:00+00:00                  38      0               0.0   \n",
       "1   2025-03-05 00:00:00+00:00                  47      0               0.0   \n",
       "2   2025-03-05 00:00:00+00:00                  50      7              15.0   \n",
       "3   2025-03-05 00:00:00+00:00                 260      1               0.0   \n",
       "4   2025-03-05 00:00:00+00:00                  32      0               0.0   \n",
       "..                        ...                 ...    ...               ...   \n",
       "246 2025-03-05 00:00:00+00:00                  86      0               0.0   \n",
       "247 2025-03-05 00:00:00+00:00                 214      1               0.0   \n",
       "248 2025-03-05 00:00:00+00:00                  96      0               0.0   \n",
       "249 2025-03-05 00:00:00+00:00                 255      0               2.0   \n",
       "250 2025-03-05 00:00:00+00:00                  45      2               4.0   \n",
       "\n",
       "     difference  \n",
       "0           0.0  \n",
       "1           0.0  \n",
       "2           8.0  \n",
       "3          -1.0  \n",
       "4           0.0  \n",
       "..          ...  \n",
       "246         0.0  \n",
       "247        -1.0  \n",
       "248         0.0  \n",
       "249         2.0  \n",
       "250         2.0  \n",
       "\n",
       "[251 rows x 5 columns]"
      ]
     },
     "execution_count": 56,
     "metadata": {},
     "output_type": "execute_result"
    }
   ],
   "source": [
    "merged_df"
   ]
  },
  {
   "cell_type": "code",
   "execution_count": 57,
   "id": "cf710c60-1e82-46f6-a967-0226192334b7",
   "metadata": {},
   "outputs": [
    {
     "data": {
      "application/vnd.plotly.v1+json": {
       "config": {
        "plotlyServerURL": "https://plot.ly"
       },
       "data": [
        {
         "hovertemplate": "Pickup Hour=%{x}<br>Mean Absolute Error=%{y}<extra></extra>",
         "legendgroup": "",
         "line": {
          "color": "#636efa",
          "dash": "solid"
         },
         "marker": {
          "symbol": "circle"
         },
         "mode": "lines+markers",
         "name": "",
         "orientation": "v",
         "showlegend": false,
         "type": "scatter",
         "x": [
          "2025-03-05T00:00:00.000000"
         ],
         "xaxis": "x",
         "y": {
          "bdata": "TA8DZ+H5J0A=",
          "dtype": "f8"
         },
         "yaxis": "y"
        }
       ],
       "layout": {
        "legend": {
         "tracegroupgap": 0
        },
        "template": {
         "data": {
          "bar": [
           {
            "error_x": {
             "color": "#2a3f5f"
            },
            "error_y": {
             "color": "#2a3f5f"
            },
            "marker": {
             "line": {
              "color": "#E5ECF6",
              "width": 0.5
             },
             "pattern": {
              "fillmode": "overlay",
              "size": 10,
              "solidity": 0.2
             }
            },
            "type": "bar"
           }
          ],
          "barpolar": [
           {
            "marker": {
             "line": {
              "color": "#E5ECF6",
              "width": 0.5
             },
             "pattern": {
              "fillmode": "overlay",
              "size": 10,
              "solidity": 0.2
             }
            },
            "type": "barpolar"
           }
          ],
          "carpet": [
           {
            "aaxis": {
             "endlinecolor": "#2a3f5f",
             "gridcolor": "white",
             "linecolor": "white",
             "minorgridcolor": "white",
             "startlinecolor": "#2a3f5f"
            },
            "baxis": {
             "endlinecolor": "#2a3f5f",
             "gridcolor": "white",
             "linecolor": "white",
             "minorgridcolor": "white",
             "startlinecolor": "#2a3f5f"
            },
            "type": "carpet"
           }
          ],
          "choropleth": [
           {
            "colorbar": {
             "outlinewidth": 0,
             "ticks": ""
            },
            "type": "choropleth"
           }
          ],
          "contour": [
           {
            "colorbar": {
             "outlinewidth": 0,
             "ticks": ""
            },
            "colorscale": [
             [
              0,
              "#0d0887"
             ],
             [
              0.1111111111111111,
              "#46039f"
             ],
             [
              0.2222222222222222,
              "#7201a8"
             ],
             [
              0.3333333333333333,
              "#9c179e"
             ],
             [
              0.4444444444444444,
              "#bd3786"
             ],
             [
              0.5555555555555556,
              "#d8576b"
             ],
             [
              0.6666666666666666,
              "#ed7953"
             ],
             [
              0.7777777777777778,
              "#fb9f3a"
             ],
             [
              0.8888888888888888,
              "#fdca26"
             ],
             [
              1,
              "#f0f921"
             ]
            ],
            "type": "contour"
           }
          ],
          "contourcarpet": [
           {
            "colorbar": {
             "outlinewidth": 0,
             "ticks": ""
            },
            "type": "contourcarpet"
           }
          ],
          "heatmap": [
           {
            "colorbar": {
             "outlinewidth": 0,
             "ticks": ""
            },
            "colorscale": [
             [
              0,
              "#0d0887"
             ],
             [
              0.1111111111111111,
              "#46039f"
             ],
             [
              0.2222222222222222,
              "#7201a8"
             ],
             [
              0.3333333333333333,
              "#9c179e"
             ],
             [
              0.4444444444444444,
              "#bd3786"
             ],
             [
              0.5555555555555556,
              "#d8576b"
             ],
             [
              0.6666666666666666,
              "#ed7953"
             ],
             [
              0.7777777777777778,
              "#fb9f3a"
             ],
             [
              0.8888888888888888,
              "#fdca26"
             ],
             [
              1,
              "#f0f921"
             ]
            ],
            "type": "heatmap"
           }
          ],
          "histogram": [
           {
            "marker": {
             "pattern": {
              "fillmode": "overlay",
              "size": 10,
              "solidity": 0.2
             }
            },
            "type": "histogram"
           }
          ],
          "histogram2d": [
           {
            "colorbar": {
             "outlinewidth": 0,
             "ticks": ""
            },
            "colorscale": [
             [
              0,
              "#0d0887"
             ],
             [
              0.1111111111111111,
              "#46039f"
             ],
             [
              0.2222222222222222,
              "#7201a8"
             ],
             [
              0.3333333333333333,
              "#9c179e"
             ],
             [
              0.4444444444444444,
              "#bd3786"
             ],
             [
              0.5555555555555556,
              "#d8576b"
             ],
             [
              0.6666666666666666,
              "#ed7953"
             ],
             [
              0.7777777777777778,
              "#fb9f3a"
             ],
             [
              0.8888888888888888,
              "#fdca26"
             ],
             [
              1,
              "#f0f921"
             ]
            ],
            "type": "histogram2d"
           }
          ],
          "histogram2dcontour": [
           {
            "colorbar": {
             "outlinewidth": 0,
             "ticks": ""
            },
            "colorscale": [
             [
              0,
              "#0d0887"
             ],
             [
              0.1111111111111111,
              "#46039f"
             ],
             [
              0.2222222222222222,
              "#7201a8"
             ],
             [
              0.3333333333333333,
              "#9c179e"
             ],
             [
              0.4444444444444444,
              "#bd3786"
             ],
             [
              0.5555555555555556,
              "#d8576b"
             ],
             [
              0.6666666666666666,
              "#ed7953"
             ],
             [
              0.7777777777777778,
              "#fb9f3a"
             ],
             [
              0.8888888888888888,
              "#fdca26"
             ],
             [
              1,
              "#f0f921"
             ]
            ],
            "type": "histogram2dcontour"
           }
          ],
          "mesh3d": [
           {
            "colorbar": {
             "outlinewidth": 0,
             "ticks": ""
            },
            "type": "mesh3d"
           }
          ],
          "parcoords": [
           {
            "line": {
             "colorbar": {
              "outlinewidth": 0,
              "ticks": ""
             }
            },
            "type": "parcoords"
           }
          ],
          "pie": [
           {
            "automargin": true,
            "type": "pie"
           }
          ],
          "scatter": [
           {
            "fillpattern": {
             "fillmode": "overlay",
             "size": 10,
             "solidity": 0.2
            },
            "type": "scatter"
           }
          ],
          "scatter3d": [
           {
            "line": {
             "colorbar": {
              "outlinewidth": 0,
              "ticks": ""
             }
            },
            "marker": {
             "colorbar": {
              "outlinewidth": 0,
              "ticks": ""
             }
            },
            "type": "scatter3d"
           }
          ],
          "scattercarpet": [
           {
            "marker": {
             "colorbar": {
              "outlinewidth": 0,
              "ticks": ""
             }
            },
            "type": "scattercarpet"
           }
          ],
          "scattergeo": [
           {
            "marker": {
             "colorbar": {
              "outlinewidth": 0,
              "ticks": ""
             }
            },
            "type": "scattergeo"
           }
          ],
          "scattergl": [
           {
            "marker": {
             "colorbar": {
              "outlinewidth": 0,
              "ticks": ""
             }
            },
            "type": "scattergl"
           }
          ],
          "scattermap": [
           {
            "marker": {
             "colorbar": {
              "outlinewidth": 0,
              "ticks": ""
             }
            },
            "type": "scattermap"
           }
          ],
          "scattermapbox": [
           {
            "marker": {
             "colorbar": {
              "outlinewidth": 0,
              "ticks": ""
             }
            },
            "type": "scattermapbox"
           }
          ],
          "scatterpolar": [
           {
            "marker": {
             "colorbar": {
              "outlinewidth": 0,
              "ticks": ""
             }
            },
            "type": "scatterpolar"
           }
          ],
          "scatterpolargl": [
           {
            "marker": {
             "colorbar": {
              "outlinewidth": 0,
              "ticks": ""
             }
            },
            "type": "scatterpolargl"
           }
          ],
          "scatterternary": [
           {
            "marker": {
             "colorbar": {
              "outlinewidth": 0,
              "ticks": ""
             }
            },
            "type": "scatterternary"
           }
          ],
          "surface": [
           {
            "colorbar": {
             "outlinewidth": 0,
             "ticks": ""
            },
            "colorscale": [
             [
              0,
              "#0d0887"
             ],
             [
              0.1111111111111111,
              "#46039f"
             ],
             [
              0.2222222222222222,
              "#7201a8"
             ],
             [
              0.3333333333333333,
              "#9c179e"
             ],
             [
              0.4444444444444444,
              "#bd3786"
             ],
             [
              0.5555555555555556,
              "#d8576b"
             ],
             [
              0.6666666666666666,
              "#ed7953"
             ],
             [
              0.7777777777777778,
              "#fb9f3a"
             ],
             [
              0.8888888888888888,
              "#fdca26"
             ],
             [
              1,
              "#f0f921"
             ]
            ],
            "type": "surface"
           }
          ],
          "table": [
           {
            "cells": {
             "fill": {
              "color": "#EBF0F8"
             },
             "line": {
              "color": "white"
             }
            },
            "header": {
             "fill": {
              "color": "#C8D4E3"
             },
             "line": {
              "color": "white"
             }
            },
            "type": "table"
           }
          ]
         },
         "layout": {
          "annotationdefaults": {
           "arrowcolor": "#2a3f5f",
           "arrowhead": 0,
           "arrowwidth": 1
          },
          "autotypenumbers": "strict",
          "coloraxis": {
           "colorbar": {
            "outlinewidth": 0,
            "ticks": ""
           }
          },
          "colorscale": {
           "diverging": [
            [
             0,
             "#8e0152"
            ],
            [
             0.1,
             "#c51b7d"
            ],
            [
             0.2,
             "#de77ae"
            ],
            [
             0.3,
             "#f1b6da"
            ],
            [
             0.4,
             "#fde0ef"
            ],
            [
             0.5,
             "#f7f7f7"
            ],
            [
             0.6,
             "#e6f5d0"
            ],
            [
             0.7,
             "#b8e186"
            ],
            [
             0.8,
             "#7fbc41"
            ],
            [
             0.9,
             "#4d9221"
            ],
            [
             1,
             "#276419"
            ]
           ],
           "sequential": [
            [
             0,
             "#0d0887"
            ],
            [
             0.1111111111111111,
             "#46039f"
            ],
            [
             0.2222222222222222,
             "#7201a8"
            ],
            [
             0.3333333333333333,
             "#9c179e"
            ],
            [
             0.4444444444444444,
             "#bd3786"
            ],
            [
             0.5555555555555556,
             "#d8576b"
            ],
            [
             0.6666666666666666,
             "#ed7953"
            ],
            [
             0.7777777777777778,
             "#fb9f3a"
            ],
            [
             0.8888888888888888,
             "#fdca26"
            ],
            [
             1,
             "#f0f921"
            ]
           ],
           "sequentialminus": [
            [
             0,
             "#0d0887"
            ],
            [
             0.1111111111111111,
             "#46039f"
            ],
            [
             0.2222222222222222,
             "#7201a8"
            ],
            [
             0.3333333333333333,
             "#9c179e"
            ],
            [
             0.4444444444444444,
             "#bd3786"
            ],
            [
             0.5555555555555556,
             "#d8576b"
            ],
            [
             0.6666666666666666,
             "#ed7953"
            ],
            [
             0.7777777777777778,
             "#fb9f3a"
            ],
            [
             0.8888888888888888,
             "#fdca26"
            ],
            [
             1,
             "#f0f921"
            ]
           ]
          },
          "colorway": [
           "#636efa",
           "#EF553B",
           "#00cc96",
           "#ab63fa",
           "#FFA15A",
           "#19d3f3",
           "#FF6692",
           "#B6E880",
           "#FF97FF",
           "#FECB52"
          ],
          "font": {
           "color": "#2a3f5f"
          },
          "geo": {
           "bgcolor": "white",
           "lakecolor": "white",
           "landcolor": "#E5ECF6",
           "showlakes": true,
           "showland": true,
           "subunitcolor": "white"
          },
          "hoverlabel": {
           "align": "left"
          },
          "hovermode": "closest",
          "mapbox": {
           "style": "light"
          },
          "paper_bgcolor": "white",
          "plot_bgcolor": "#E5ECF6",
          "polar": {
           "angularaxis": {
            "gridcolor": "white",
            "linecolor": "white",
            "ticks": ""
           },
           "bgcolor": "#E5ECF6",
           "radialaxis": {
            "gridcolor": "white",
            "linecolor": "white",
            "ticks": ""
           }
          },
          "scene": {
           "xaxis": {
            "backgroundcolor": "#E5ECF6",
            "gridcolor": "white",
            "gridwidth": 2,
            "linecolor": "white",
            "showbackground": true,
            "ticks": "",
            "zerolinecolor": "white"
           },
           "yaxis": {
            "backgroundcolor": "#E5ECF6",
            "gridcolor": "white",
            "gridwidth": 2,
            "linecolor": "white",
            "showbackground": true,
            "ticks": "",
            "zerolinecolor": "white"
           },
           "zaxis": {
            "backgroundcolor": "#E5ECF6",
            "gridcolor": "white",
            "gridwidth": 2,
            "linecolor": "white",
            "showbackground": true,
            "ticks": "",
            "zerolinecolor": "white"
           }
          },
          "shapedefaults": {
           "line": {
            "color": "#2a3f5f"
           }
          },
          "ternary": {
           "aaxis": {
            "gridcolor": "white",
            "linecolor": "white",
            "ticks": ""
           },
           "baxis": {
            "gridcolor": "white",
            "linecolor": "white",
            "ticks": ""
           },
           "bgcolor": "#E5ECF6",
           "caxis": {
            "gridcolor": "white",
            "linecolor": "white",
            "ticks": ""
           }
          },
          "title": {
           "x": 0.05
          },
          "xaxis": {
           "automargin": true,
           "gridcolor": "white",
           "linecolor": "white",
           "ticks": "",
           "title": {
            "standoff": 15
           },
           "zerolinecolor": "white",
           "zerolinewidth": 2
          },
          "yaxis": {
           "automargin": true,
           "gridcolor": "white",
           "linecolor": "white",
           "ticks": "",
           "title": {
            "standoff": 15
           },
           "zerolinecolor": "white",
           "zerolinewidth": 2
          }
         }
        },
        "title": {
         "text": "Mean Absolute Error (MAE) by Pickup Hour"
        },
        "xaxis": {
         "anchor": "y",
         "domain": [
          0,
          1
         ],
         "title": {
          "text": "Pickup Hour"
         }
        },
        "yaxis": {
         "anchor": "x",
         "domain": [
          0,
          1
         ],
         "title": {
          "text": "Mean Absolute Error"
         }
        }
       }
      }
     },
     "metadata": {},
     "output_type": "display_data"
    }
   ],
   "source": [
    "df1 = df\n",
    "df2 = df_pred\n",
    "\n",
    "# Merge the DataFrames on 'pickup_location_id' and 'pickup_hour'  \n",
    "merged_df = pd.merge(df1, df2, on=['pickup_location_id', 'pickup_hour'])  \n",
    "\n",
    "# Calculate the absolute error  \n",
    "merged_df['absolute_error'] = abs(merged_df['predicted_demand'] - merged_df['rides'])  \n",
    "\n",
    "# Group by 'pickup_hour' and calculate the mean absolute error (MAE)  \n",
    "mae_by_hour = merged_df.groupby('pickup_hour')['absolute_error'].mean().reset_index()  \n",
    "mae_by_hour.rename(columns={'absolute_error': 'MAE'}, inplace=True)  \n",
    "\n",
    "# Create a Plotly plot  \n",
    "fig = px.line(  \n",
    "    mae_by_hour,  \n",
    "    x='pickup_hour',  \n",
    "    y='MAE',  \n",
    "    title='Mean Absolute Error (MAE) by Pickup Hour',  \n",
    "    labels={'pickup_hour': 'Pickup Hour', 'MAE': 'Mean Absolute Error'},  \n",
    "    markers=True  \n",
    ")  \n",
    "\n",
    "# Show the plot  \n",
    "fig.show()"
   ]
  },
  {
   "cell_type": "code",
   "execution_count": 58,
   "id": "9765143d-e386-4a2f-91eb-ecfa259f7ce4",
   "metadata": {},
   "outputs": [
    {
     "data": {
      "text/plain": [
       "11.98804780876494"
      ]
     },
     "execution_count": 58,
     "metadata": {},
     "output_type": "execute_result"
    }
   ],
   "source": [
    "mae_by_hour[\"MAE\"].mean()"
   ]
  }
 ],
 "metadata": {
  "kernelspec": {
   "display_name": "Python (CDA500PF2)",
   "language": "python",
   "name": "cda500pf2"
  },
  "language_info": {
   "codemirror_mode": {
    "name": "ipython",
    "version": 3
   },
   "file_extension": ".py",
   "mimetype": "text/x-python",
   "name": "python",
   "nbconvert_exporter": "python",
   "pygments_lexer": "ipython3",
   "version": "3.12.4"
  }
 },
 "nbformat": 4,
 "nbformat_minor": 5
}
