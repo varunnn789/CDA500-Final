{
 "cells": [
  {
   "cell_type": "code",
   "execution_count": null,
   "id": "493ff467-b42a-449a-a50c-06fd5df84cc6",
   "metadata": {},
   "outputs": [],
   "source": [
    "%load_ext autoreload\n",
    "%autoreload 2\n",
    "import sys\n",
    "import os\n",
    "from datetime import datetime, timedelta\n",
    "import pandas as pd\n",
    "from IPython.core.interactiveshell import InteractiveShell\n",
    "InteractiveShell.ast_node_interactivity = \"all\"\n",
    "\n",
    "sys.path.append(os.path.abspath(os.path.join(os.getcwd(), \"..\")))\n",
    "\n",
    "import src.config as config\n",
    "from src.inference import get_feature_store\n",
    "from src.data_utils import transform_ts_data_info_features\n",
    "from src.inference import load_batch_of_features_from_store\n",
    "from src.inference import load_model_from_registry\n",
    "from src.inference import get_model_predictions"
   ]
  },
  {
   "cell_type": "code",
   "execution_count": 1,
   "id": "4cce2ba4",
   "metadata": {},
   "outputs": [
    {
     "name": "stdout",
     "output_type": "stream",
     "text": [
      "2025-05-10 03:05:52,423 INFO: Initializing external client\n",
      "2025-05-10 03:05:52,424 INFO: Base URL: https://c.app.hopsworks.ai:443\n"
     ]
    },
    {
     "name": "stderr",
     "output_type": "stream",
     "text": [
      "\n",
      "\n",
      "UserWarning: The installed hopsworks client version 4.1.5 may not be compatible with the connected Hopsworks backend version 4.2.0. \n",
      "To ensure compatibility please install the latest bug fix release matching the minor version of your backend (4.2) by running 'pip install hopsworks==4.2.*'\n"
     ]
    },
    {
     "name": "stdout",
     "output_type": "stream",
     "text": [
      "2025-05-10 03:05:53,326 INFO: Python Engine initialized.\n",
      "\n",
      "Logged in to project, explore it here https://c.app.hopsworks.ai:443/p/1225907\n",
      "Error creating feature view: Metadata operation error: (url: https://c.app.hopsworks.ai/hopsworks-api/api/project/1225907/featurestores/1212511/featureview). Server response: \n",
      "HTTP code: 400, HTTP reason: Bad Request, body: b'{\"errorCode\":270179,\"usrMsg\":\"Feature view: citi_bike_recent_hourly_feature_view, version: 1\",\"errorMsg\":\"The provided feature view name and version already exists\"}', error code: 270179, error msg: The provided feature view name and version already exists, user msg: Feature view: citi_bike_recent_hourly_feature_view, version: 1\n",
      "Fetching data from 2025-04-11 07:05:55.458723+00:00 to 2025-05-10 06:05:55.458723+00:00\n",
      "Finished: Reading data from Hopsworks, using Hopsworks Feature Query Service (0.78s) \n",
      "<class 'pandas.core.frame.DataFrame'>\n",
      "Index: 2085 entries, 0 to 2096\n",
      "Data columns (total 3 columns):\n",
      " #   Column              Non-Null Count  Dtype                  \n",
      "---  ------              --------------  -----                  \n",
      " 0   pickup_hour         2085 non-null   datetime64[us, Etc/UTC]\n",
      " 1   start_station_name  2085 non-null   object                 \n",
      " 2   rides               2085 non-null   int32                  \n",
      "dtypes: datetime64[us, Etc/UTC](1), int32(1), object(1)\n",
      "memory usage: 57.0+ KB\n",
      "<class 'pandas.core.frame.DataFrame'>\n",
      "Index: 2085 entries, 0 to 2096\n",
      "Data columns (total 3 columns):\n",
      " #   Column              Non-Null Count  Dtype         \n",
      "---  ------              --------------  -----         \n",
      " 0   pickup_hour         2085 non-null   datetime64[us]\n",
      " 1   start_station_name  2085 non-null   object        \n",
      " 2   rides               2085 non-null   int32         \n",
      "dtypes: datetime64[us](1), int32(1), object(1)\n",
      "memory usage: 57.0+ KB\n",
      "2025-05-10 03:05:57,752 INFO: Closing external client and cleaning up certificates.\n",
      "Connection closed.\n",
      "2025-05-10 03:05:57,760 INFO: Initializing external client\n",
      "2025-05-10 03:05:57,760 INFO: Base URL: https://c.app.hopsworks.ai:443\n"
     ]
    },
    {
     "name": "stderr",
     "output_type": "stream",
     "text": [
      "\n",
      "\n",
      "UserWarning: The installed hopsworks client version 4.1.5 may not be compatible with the connected Hopsworks backend version 4.2.0. \n",
      "To ensure compatibility please install the latest bug fix release matching the minor version of your backend (4.2) by running 'pip install hopsworks==4.2.*'\n"
     ]
    },
    {
     "name": "stdout",
     "output_type": "stream",
     "text": [
      "2025-05-10 03:05:58,390 INFO: Python Engine initialized.\n",
      "\n",
      "Logged in to project, explore it here https://c.app.hopsworks.ai:443/p/1225907\n",
      "Error creating feature view: Metadata operation error: (url: https://c.app.hopsworks.ai/hopsworks-api/api/project/1225907/featurestores/1212511/featureview). Server response: \n",
      "HTTP code: 400, HTTP reason: Bad Request, body: b'{\"errorCode\":270179,\"usrMsg\":\"Feature view: citi_bike_recent_hourly_feature_view, version: 1\",\"errorMsg\":\"The provided feature view name and version already exists\"}', error code: 270179, error msg: The provided feature view name and version already exists, user msg: Feature view: citi_bike_recent_hourly_feature_view, version: 1\n",
      "Fetching data from 2025-04-11 07:05:55.458723+00:00 to 2025-05-10 06:05:55.458723+00:00\n",
      "Finished: Reading data from Hopsworks, using Hopsworks Feature Query Service (0.61s) \n",
      "Making predictions for the next hour: 2025-05-09 08:00:00\n"
     ]
    },
    {
     "data": {
      "application/vnd.jupyter.widget-view+json": {
       "model_id": "0983f205ea224118aeac0ea728a195d2",
       "version_major": 2,
       "version_minor": 0
      },
      "text/plain": [
       "Dropdown(description='Select Model:', options=('baseline_previous_hour', 'lightgbm_28days_lags', 'lightgbm_top…"
      ]
     },
     "metadata": {},
     "output_type": "display_data"
    },
    {
     "data": {
      "application/vnd.jupyter.widget-view+json": {
       "model_id": "0b419e8d90f14e0eb24ade95a22d7a94",
       "version_major": 2,
       "version_minor": 0
      },
      "text/plain": [
       "Output()"
      ]
     },
     "metadata": {},
     "output_type": "display_data"
    }
   ],
   "source": [
    "%load_ext autoreload\n",
    "%autoreload 2\n",
    "import sys\n",
    "import os\n",
    "from datetime import datetime, timedelta\n",
    "import pandas as pd\n",
    "import ipywidgets as widgets\n",
    "from IPython.display import display\n",
    "from sklearn.feature_selection import SelectKBest, f_regression\n",
    "from IPython.core.interactiveshell import InteractiveShell\n",
    "InteractiveShell.ast_node_interactivity = \"all\"\n",
    "\n",
    "# Add the parent directory to the Python path\n",
    "sys.path.append(os.path.abspath(os.path.join(os.getcwd(), \"..\")))\n",
    "\n",
    "import src.config as config\n",
    "from src.inference import get_feature_store\n",
    "from src.data_utils import transform_ts_data_info_features\n",
    "from src.inference import load_batch_of_features_from_store\n",
    "from src.inference import load_model_from_registry\n",
    "from src.inference import get_model_predictions\n",
    "from src.inference import BaselineModelPreviousHour\n",
    "\n",
    "# Connect to Hopsworks and get the feature store\n",
    "feature_store = get_feature_store()\n",
    "\n",
    "# Retrieve the feature group with recent data\n",
    "feature_group = feature_store.get_feature_group(\n",
    "    name=\"recent_time_series_hourly_feature_group\",\n",
    "    version=1\n",
    ")\n",
    "\n",
    "# Create or retrieve the feature view for recent data\n",
    "try:\n",
    "    feature_store.create_feature_view(\n",
    "        name=\"citi_bike_recent_hourly_feature_view\",\n",
    "        version=1,\n",
    "        query=feature_group.select_all(),\n",
    "    )\n",
    "    print(f\"Feature view 'citi_bike_recent_hourly_feature_view' (version 1) created successfully.\")\n",
    "except Exception as e:\n",
    "    print(f\"Error creating feature view: {e}\")\n",
    "\n",
    "feature_view = feature_store.get_feature_view(\n",
    "    name=\"citi_bike_recent_hourly_feature_view\",\n",
    "    version=1\n",
    ")\n",
    "\n",
    "# Get the current datetime\n",
    "current_date = pd.Timestamp.now(tz='Etc/UTC')\n",
    "\n",
    "# Read time-series data from the feature store\n",
    "fetch_data_to = current_date - timedelta(hours=1)\n",
    "fetch_data_from = current_date - timedelta(days=1*29)\n",
    "print(f\"Fetching data from {fetch_data_from} to {fetch_data_to}\")\n",
    "\n",
    "ts_data = feature_view.get_batch_data(\n",
    "    start_time=(fetch_data_from - timedelta(days=1)),\n",
    "    end_time=(fetch_data_to + timedelta(days=1)),\n",
    ")\n",
    "ts_data = ts_data[ts_data.pickup_hour.between(fetch_data_from, fetch_data_to)]\n",
    "ts_data.sort_values([\"start_station_name\", \"pickup_hour\"]).reset_index(drop=True)\n",
    "ts_data.info()\n",
    "\n",
    "ts_data[\"pickup_hour\"] = ts_data[\"pickup_hour\"].dt.tz_localize(None)\n",
    "ts_data.info()\n",
    "\n",
    "# Transform the data into features\n",
    "features = transform_ts_data_info_features(ts_data, window_size=24*28, step_size=23)\n",
    "features.head()\n",
    "\n",
    "# Load features using the updated load_batch_of_features_from_store\n",
    "features = load_batch_of_features_from_store(current_date)\n",
    "current_date\n",
    "features.head()\n",
    "\n",
    "# Filter features for the most recent hour (next hour prediction)\n",
    "# Since features are sorted by start_station_name and pickup_hour, the last 3 rows (for 3 stations) correspond to the most recent hour\n",
    "features_next_hour = features.groupby(\"start_station_name\").last().reset_index()\n",
    "next_hour = features_next_hour[\"pickup_hour\"].max()\n",
    "print(f\"Making predictions for the next hour: {next_hour}\")\n",
    "\n",
    "# Define the list of model names\n",
    "model_names = [\n",
    "    \"baseline_previous_hour\",\n",
    "    \"lightgbm_28days_lags\",\n",
    "    \"lightgbm_top10_features\",\n",
    "    \"gradient_boosting_temporal_features\",\n",
    "    \"lightgbm_enhanced_lags_cyclic_temporal_interactions\"\n",
    "]\n",
    "\n",
    "# Create a dropdown widget for model selection\n",
    "model_dropdown = widgets.Dropdown(\n",
    "    options=model_names,\n",
    "    value=model_names[0],  # Default to the first model\n",
    "    description='Select Model:',\n",
    "    style={'description_width': 'initial'}\n",
    ")\n",
    "\n",
    "# Create an output widget to display predictions\n",
    "output = widgets.Output()\n",
    "\n",
    "# Define a function to handle model selection and prediction\n",
    "def on_model_change(change):\n",
    "    with output:\n",
    "        output.clear_output()\n",
    "        selected_model_name = change['new']\n",
    "        print(f\"Selected model: {selected_model_name}\")\n",
    "        \n",
    "        # Load the selected model\n",
    "        model = load_model_from_registry(model_name=selected_model_name)\n",
    "        \n",
    "        # Make predictions for the next hour\n",
    "        predictions = get_model_predictions(model, features_next_hour, model_name=selected_model_name)\n",
    "        predictions\n",
    "        \n",
    "        # Display the predictions sorted by predicted rides\n",
    "        predictions_sorted = predictions.sort_values(\"predicted_rides\", ascending=False)\n",
    "        print(f\"Predictions for the next hour ({next_hour}) using {selected_model_name}:\")\n",
    "        print(predictions_sorted)\n",
    "\n",
    "# Connect the dropdown to the prediction function\n",
    "model_dropdown.observe(on_model_change, names='value')\n",
    "\n",
    "# Display the dropdown and output\n",
    "display(model_dropdown)\n",
    "display(output)\n",
    "\n",
    "# Trigger the initial prediction with the default model\n",
    "on_model_change({'new': model_dropdown.value})"
   ]
  },
  {
   "cell_type": "code",
   "execution_count": null,
   "id": "e84b4c69-865a-44b6-adea-b3552497dcfc",
   "metadata": {},
   "outputs": [],
   "source": [
    "# Get the current datetime64[us, Etc/UTC]  \n",
    "current_date = pd.Timestamp.now(tz='Etc/UTC')\n",
    "feature_store = get_feature_store()\n",
    "\n",
    "# read time-series data from the feature store\n",
    "fetch_data_to = current_date - timedelta(hours=1)\n",
    "fetch_data_from = current_date - timedelta(days=1*29)\n",
    "print(f\"Fetching data from {fetch_data_from} to {fetch_data_to}\")\n",
    "feature_view = feature_store.get_feature_view(\n",
    "    name=config.FEATURE_VIEW_NAME, version=config.FEATURE_VIEW_VERSION\n",
    ")\n",
    "\n",
    "ts_data = feature_view.get_batch_data(\n",
    "    start_time=(fetch_data_from - timedelta(days=1)),\n",
    "    end_time=(fetch_data_to + timedelta(days=1)),\n",
    ")\n",
    "ts_data = ts_data[ts_data.pickup_hour.between(fetch_data_from, fetch_data_to)]\n",
    "ts_data.sort_values([\"pickup_location_id\", \"pickup_hour\"]).reset_index(drop=True)\n",
    "ts_data.info()"
   ]
  },
  {
   "cell_type": "code",
   "execution_count": null,
   "id": "2be34e36-bb45-45a2-ab33-041ee17581fa",
   "metadata": {},
   "outputs": [],
   "source": [
    "ts_data[\"pickup_hour\"] = ts_data[\"pickup_hour\"].dt.tz_localize(None)\n",
    "ts_data.info()\n",
    "features = transform_ts_data_info_features(ts_data, window_size=24*28, step_size=23)\n",
    "features.head()\n",
    "current_date = pd.Timestamp.now(tz='Etc/UTC')\n",
    "features = load_batch_of_features_from_store(current_date)\n",
    "current_date\n",
    "features.head()"
   ]
  },
  {
   "cell_type": "code",
   "execution_count": null,
   "id": "c3a45fad-b8b5-4f84-ac16-0813757b609e",
   "metadata": {},
   "outputs": [],
   "source": [
    "model = load_model_from_registry()"
   ]
  },
  {
   "cell_type": "code",
   "execution_count": null,
   "id": "663b6ece-75b8-4f8c-8155-8e0efdf33d4f",
   "metadata": {},
   "outputs": [],
   "source": [
    "predictions = get_model_predictions(model, features)\n",
    "predictions\n",
    "predictions.sort_values(\"predicted_demand\", ascending=False).head(10)[\"pickup_location_id\"].values"
   ]
  }
 ],
 "metadata": {
  "kernelspec": {
   "display_name": "Python (CDA500PF2)",
   "language": "python",
   "name": "cda500pf2"
  },
  "language_info": {
   "codemirror_mode": {
    "name": "ipython",
    "version": 3
   },
   "file_extension": ".py",
   "mimetype": "text/x-python",
   "name": "python",
   "nbconvert_exporter": "python",
   "pygments_lexer": "ipython3",
   "version": "3.12.4"
  }
 },
 "nbformat": 4,
 "nbformat_minor": 5
}
